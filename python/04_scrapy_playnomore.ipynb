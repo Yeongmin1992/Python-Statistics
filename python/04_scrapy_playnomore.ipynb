{
 "cells": [
  {
   "cell_type": "markdown",
   "metadata": {},
   "source": [
    "### playnomore\n",
    "- http://playnomore.co.kr/\n",
    "- scrapy에서 fake-useragent 사용\n",
    "- scrapy를 실행할때 아규먼트를 설정해서 실행\n",
    "- pipelines에서 데이터 베이스로 데이터를 저장"
   ]
  },
  {
   "cell_type": "code",
   "execution_count": 2,
   "metadata": {},
   "outputs": [],
   "source": [
    "import scrapy\n",
    "import requests\n",
    "from scrapy.http import TextResponse"
   ]
  },
  {
   "cell_type": "markdown",
   "metadata": {},
   "source": [
    "#### 1. 프로젝트 생성"
   ]
  },
  {
   "cell_type": "code",
   "execution_count": 3,
   "metadata": {},
   "outputs": [
    {
     "name": "stdout",
     "output_type": "stream",
     "text": [
      "New Scrapy project 'playnomore', using template directory '/home/ubuntu/.pyenv/versions/3.6.9/envs/python3/lib/python3.6/site-packages/scrapy/templates/project', created in:\r\n",
      "    /home/ubuntu/python3/notebook/playnomore\r\n",
      "\r\n",
      "You can start your first spider with:\r\n",
      "    cd playnomore\r\n",
      "    scrapy genspider example example.com\r\n"
     ]
    }
   ],
   "source": [
    "!rm -rf playnomore\n",
    "!scrapy startproject playnomore"
   ]
  },
  {
   "cell_type": "markdown",
   "metadata": {},
   "source": [
    "#### 2. items.py\n",
    "- title, price, img, link"
   ]
  },
  {
   "cell_type": "code",
   "execution_count": 44,
   "metadata": {},
   "outputs": [],
   "source": [
    "import os"
   ]
  },
  {
   "cell_type": "code",
   "execution_count": 45,
   "metadata": {},
   "outputs": [
    {
     "data": {
      "text/plain": [
       "'/home/ubuntu/python3/notebook'"
      ]
     },
     "execution_count": 45,
     "metadata": {},
     "output_type": "execute_result"
    }
   ],
   "source": [
    "os.getcwd()"
   ]
  },
  {
   "cell_type": "code",
   "execution_count": 21,
   "metadata": {},
   "outputs": [
    {
     "ename": "FileNotFoundError",
     "evalue": "[Errno 2] No such file or directory: './python3/notebook'",
     "output_type": "error",
     "traceback": [
      "\u001b[0;31m---------------------------------------------------------------------------\u001b[0m",
      "\u001b[0;31mFileNotFoundError\u001b[0m                         Traceback (most recent call last)",
      "\u001b[0;32m<ipython-input-21-3dad15fc39ed>\u001b[0m in \u001b[0;36m<module>\u001b[0;34m\u001b[0m\n\u001b[0;32m----> 1\u001b[0;31m \u001b[0mos\u001b[0m\u001b[0;34m.\u001b[0m\u001b[0mchdir\u001b[0m\u001b[0;34m(\u001b[0m\u001b[0;34m'./python3/notebook'\u001b[0m\u001b[0;34m)\u001b[0m\u001b[0;34m\u001b[0m\u001b[0;34m\u001b[0m\u001b[0m\n\u001b[0m",
      "\u001b[0;31mFileNotFoundError\u001b[0m: [Errno 2] No such file or directory: './python3/notebook'"
     ]
    }
   ],
   "source": [
    "os.chdir('./python3/notebook')"
   ]
  },
  {
   "cell_type": "code",
   "execution_count": 4,
   "metadata": {},
   "outputs": [
    {
     "name": "stdout",
     "output_type": "stream",
     "text": [
      "Overwriting playnomore/playnomore/items.py\n"
     ]
    }
   ],
   "source": [
    "%%writefile playnomore/playnomore/items.py\n",
    "import scrapy\n",
    "\n",
    "class PlaynomoreItem(scrapy.Item):\n",
    "    title = scrapy.Field()\n",
    "    price = scrapy.Field()\n",
    "    img = scrapy.Field()\n",
    "    link = scrapy.Field()"
   ]
  },
  {
   "cell_type": "markdown",
   "metadata": {},
   "source": [
    "#### 3. xpath 확인\n",
    "- 링크\n",
    "- 링크 -> 상세페이지(제목, 이미지URL, 가격)\n",
    "- fake_useragent 설치\n",
    "    - pip install fake_useragent"
   ]
  },
  {
   "cell_type": "code",
   "execution_count": 5,
   "metadata": {},
   "outputs": [
    {
     "name": "stdout",
     "output_type": "stream",
     "text": [
      "Requirement already satisfied: fake_useragent in /home/ubuntu/.pyenv/versions/3.6.9/envs/python3/lib/python3.6/site-packages (0.1.11)\n",
      "\u001b[33mWARNING: You are using pip version 20.0.2; however, version 20.1.1 is available.\n",
      "You should consider upgrading via the '/home/ubuntu/.pyenv/versions/3.6.9/envs/python3/bin/python3.6 -m pip install --upgrade pip' command.\u001b[0m\n"
     ]
    }
   ],
   "source": [
    "!pip install fake_useragent"
   ]
  },
  {
   "cell_type": "code",
   "execution_count": 6,
   "metadata": {},
   "outputs": [
    {
     "data": {
      "text/plain": [
       "<200 http://playnomore.co.kr/category/bag/24/>"
      ]
     },
     "execution_count": 6,
     "metadata": {},
     "output_type": "execute_result"
    }
   ],
   "source": [
    "# 네트워크 > 헤더 > user agent값을 직접 복사해와서 사용 가능\n",
    "from fake_useragent import UserAgent\n",
    "url = \"http://playnomore.co.kr/category/bag/24/\"\n",
    "headers = { \"User-Agent\": UserAgent().chrome }\n",
    "# headers = { \"User-Agent\": \"Mozilla/5.0 (Macintosh; Intel Mac OS X 10_15_1) AppleWebKit/537.36 (KHTML, like Gecko) Chrome/78.0.3904.108 Safari/537.36\" }\n",
    "req = requests.get(url, headers=headers)\n",
    "response = TextResponse(req.url, body=req.text, encoding=\"utf-8\") \n",
    "response"
   ]
  },
  {
   "cell_type": "code",
   "execution_count": 7,
   "metadata": {},
   "outputs": [],
   "source": [
    "#링크\n",
    "links = response.xpath(\n",
    "    '//*[@id=\"contents\"]/div[2]/div/ul/li/div/a/@href'\n",
    ")"
   ]
  },
  {
   "cell_type": "code",
   "execution_count": 8,
   "metadata": {},
   "outputs": [
    {
     "data": {
      "text/plain": [
       "<Selector xpath='//*[@id=\"contents\"]/div[2]/div/ul/li/div/a/@href' data='/product/detail.html?product_no=573&c...'>"
      ]
     },
     "execution_count": 8,
     "metadata": {},
     "output_type": "execute_result"
    }
   ],
   "source": [
    "links[0]"
   ]
  },
  {
   "cell_type": "code",
   "execution_count": 10,
   "metadata": {},
   "outputs": [],
   "source": [
    "# 문자열만 추출\n",
    "links = response.xpath(\n",
    "    '//*[@id=\"contents\"]/div[2]/div/ul/li/div/a/@href'\n",
    ").extract()"
   ]
  },
  {
   "cell_type": "code",
   "execution_count": 11,
   "metadata": {},
   "outputs": [
    {
     "data": {
      "text/plain": [
       "'/product/detail.html?product_no=573&cate_no=24&display_group=1'"
      ]
     },
     "execution_count": 11,
     "metadata": {},
     "output_type": "execute_result"
    }
   ],
   "source": [
    "links[0]"
   ]
  },
  {
   "cell_type": "code",
   "execution_count": null,
   "metadata": {},
   "outputs": [],
   "source": [
    "# 도메인 추가"
   ]
  },
  {
   "cell_type": "code",
   "execution_count": 12,
   "metadata": {},
   "outputs": [],
   "source": [
    "links = response.xpath(\n",
    "    '//*[@id=\"contents\"]/div[2]/div/ul/li/div/a/@href'\n",
    ").extract()\n",
    "links = list(map(response.urljoin, links))  # iterabel한 데이터 하나하나에 함수를 적용"
   ]
  },
  {
   "cell_type": "code",
   "execution_count": 35,
   "metadata": {},
   "outputs": [
    {
     "data": {
      "text/plain": [
       "['http://playnomore.co.kr/product/detail.html?product_no=573&cate_no=24&display_group=1',\n",
       " 'http://playnomore.co.kr/product/detail.html?product_no=572&cate_no=24&display_group=1',\n",
       " 'http://playnomore.co.kr/product/detail.html?product_no=550&cate_no=24&display_group=1',\n",
       " 'http://playnomore.co.kr/product/detail.html?product_no=532&cate_no=24&display_group=1',\n",
       " 'http://playnomore.co.kr/product/detail.html?product_no=507&cate_no=24&display_group=1',\n",
       " 'http://playnomore.co.kr/product/detail.html?product_no=493&cate_no=24&display_group=1',\n",
       " 'http://playnomore.co.kr/product/detail.html?product_no=545&cate_no=24&display_group=1',\n",
       " 'http://playnomore.co.kr/product/detail.html?product_no=562&cate_no=24&display_group=1',\n",
       " 'http://playnomore.co.kr/product/detail.html?product_no=563&cate_no=24&display_group=1',\n",
       " 'http://playnomore.co.kr/product/detail.html?product_no=564&cate_no=24&display_group=1',\n",
       " 'http://playnomore.co.kr/product/detail.html?product_no=565&cate_no=24&display_group=1',\n",
       " 'http://playnomore.co.kr/product/detail.html?product_no=566&cate_no=24&display_group=1',\n",
       " 'http://playnomore.co.kr/product/detail.html?product_no=567&cate_no=24&display_group=1',\n",
       " 'http://playnomore.co.kr/product/detail.html?product_no=568&cate_no=24&display_group=1',\n",
       " 'http://playnomore.co.kr/product/detail.html?product_no=569&cate_no=24&display_group=1']"
      ]
     },
     "execution_count": 35,
     "metadata": {},
     "output_type": "execute_result"
    }
   ],
   "source": [
    "links"
   ]
  },
  {
   "cell_type": "code",
   "execution_count": 14,
   "metadata": {},
   "outputs": [
    {
     "data": {
      "text/plain": [
       "<200 http://playnomore.co.kr/product/sale-20-micro-baguette-yellow-180/573/?cate_no=24&display_group=1>"
      ]
     },
     "execution_count": 14,
     "metadata": {},
     "output_type": "execute_result"
    }
   ],
   "source": [
    "# 상세페이지 : 제목, 가격, 이미지URL\n",
    "url = links[0]\n",
    "headers = { \"User-Agent\": UserAgent().chrome }\n",
    "req = requests.get(url, headers=headers)\n",
    "response = TextResponse(req.url, body=req.text, encoding=\"utf-8\") \n",
    "response"
   ]
  },
  {
   "cell_type": "code",
   "execution_count": 23,
   "metadata": {},
   "outputs": [
    {
     "data": {
      "text/plain": [
       "('[SALE 20%] MICRO BAGUETTE yellow ',\n",
       " '$ 144',\n",
       " 'http://playnomore.co.kr/web/product/big/20200407/626de3d4081df6e1dff057623e9e4877.jpg')"
      ]
     },
     "execution_count": 23,
     "metadata": {},
     "output_type": "execute_result"
    }
   ],
   "source": [
    "title1 = response.xpath(\n",
    "        '//*[@id=\"contents\"]/div[1]/div[1]/div[2]/div[1]/font/text()'\n",
    "    ).extract()\n",
    "title2 = response.xpath(\n",
    "        '//*[@id=\"contents\"]/div[1]/div[1]/div[2]/div[1]/text()'\n",
    "    ).extract()\n",
    "title = \"\".join(title1) + \"\".join(title2)\n",
    "price = response.xpath(\n",
    "        '//*[@id=\"contents\"]/div[1]/div[1]/div[2]/div[2]/text()'\n",
    "    ).extract()[0]\n",
    "img = \"http:\" + response.xpath(\n",
    "        '//*[@id=\"contents\"]/div[1]/div[1]/div[1]/div[1]/img/@src'\n",
    "    ).extract()[0] \n",
    "title, price, img\n"
   ]
  },
  {
   "cell_type": "markdown",
   "metadata": {},
   "source": [
    "#### 4. spider.py\n",
    "- scrapy-fake-useragent 설치\n",
    "    - pip install scrapy-fake-useragent"
   ]
  },
  {
   "cell_type": "code",
   "execution_count": 25,
   "metadata": {
    "scrolled": true
   },
   "outputs": [
    {
     "name": "stdout",
     "output_type": "stream",
     "text": [
      "fake-useragent        0.1.11      \n",
      "scrapy-fake-useragent 1.2.0       \n",
      "\u001b[33mWARNING: You are using pip version 20.0.2; however, version 20.1.1 is available.\n",
      "You should consider upgrading via the '/home/ubuntu/.pyenv/versions/3.6.9/envs/python3/bin/python3.6 -m pip install --upgrade pip' command.\u001b[0m\n"
     ]
    }
   ],
   "source": [
    "!pip list | grep fake"
   ]
  },
  {
   "cell_type": "code",
   "execution_count": 36,
   "metadata": {},
   "outputs": [
    {
     "name": "stdout",
     "output_type": "stream",
     "text": [
      "Overwriting playnomore/playnomore/spiders/spider.py\n"
     ]
    }
   ],
   "source": [
    "%%writefile playnomore/playnomore/spiders/spider.py\n",
    "import scrapy\n",
    "from playnomore.items import PlaynomoreItem\n",
    "\n",
    "class PlaynomoreSpider(scrapy.Spider):\n",
    "    name = \"Playnomore\"\n",
    "    custom_settings = {\n",
    "        'DOWNLOADER_MIDDLEWARES': {\n",
    "            'scrapy.downloadermiddlewares.useragent.UserAgentMiddleware': None,\n",
    "            'scrapy_fake_useragent.middleware.RandomUserAgentMiddleware': 400,\n",
    "        }\n",
    "    }\n",
    "    \n",
    "    def start_requests(self):\n",
    "        url = \"http://playnomore.co.kr/category/bag/24/\"\n",
    "        yield scrapy.Request(url, callback=self.parse)\n",
    "        \n",
    "    def parse(self, response):\n",
    "        links = response.xpath('//*[@id=\"contents\"]/div[2]/div/ul/li/div/a/@href').extract()\n",
    "        links = list(map(response.urljoin, links))\n",
    "        for link in links:\n",
    "            yield scrapy.Request(link, callback=self.page_parse)\n",
    "    \n",
    "    def page_parse(self, response):\n",
    "        item = PlaynomoreItem()\n",
    "        title1 = response.xpath('//*[@id=\"contents\"]/div[1]/div[1]/div[2]/div[1]/font/text()').extract()\n",
    "        title2 = response.xpath('//*[@id=\"contents\"]/div[1]/div[1]/div[2]/div[1]/text()').extract()\n",
    "        item[\"title\"] = \"\".join(title1) + \"\".join(title2)\n",
    "        item[\"price\"] = response.xpath('//*[@id=\"contents\"]/div[1]/div[1]/div[2]/div[2]/text()').extract()[0]\n",
    "        item[\"img\"] = \"http:\" + response.xpath('//*[@id=\"contents\"]/div[1]/div[1]/div[1]/div[1]/img/@src').extract()[0]\n",
    "        item[\"link\"] = response.url\n",
    "        yield item\n",
    "            \n",
    "        \n",
    "    "
   ]
  },
  {
   "cell_type": "code",
   "execution_count": 29,
   "metadata": {},
   "outputs": [
    {
     "name": "stdout",
     "output_type": "stream",
     "text": [
      "Overwriting run.sh\n"
     ]
    }
   ],
   "source": [
    "%%writefile run.sh\n",
    "cd playnomore\n",
    "scrapy crawl Playnomore -o playnomore.csv\n"
   ]
  },
  {
   "cell_type": "code",
   "execution_count": null,
   "metadata": {},
   "outputs": [],
   "source": [
    "# 실행권한 부여\n",
    "!chmod +x run.sh"
   ]
  },
  {
   "cell_type": "code",
   "execution_count": 37,
   "metadata": {
    "scrolled": false
   },
   "outputs": [
    {
     "name": "stdout",
     "output_type": "stream",
     "text": [
      "2020-07-03 01:34:34 [scrapy.utils.log] INFO: Scrapy 2.2.0 started (bot: playnomore)\n",
      "2020-07-03 01:34:34 [scrapy.utils.log] INFO: Versions: lxml 4.5.1.0, libxml2 2.9.10, cssselect 1.1.0, parsel 1.6.0, w3lib 1.22.0, Twisted 20.3.0, Python 3.6.9 (default, Apr 15 2020, 12:56:52) - [GCC 7.5.0], pyOpenSSL 19.1.0 (OpenSSL 1.1.1g  21 Apr 2020), cryptography 2.9.2, Platform Linux-5.3.0-1023-aws-x86_64-with-debian-buster-sid\n",
      "2020-07-03 01:34:34 [scrapy.utils.log] DEBUG: Using reactor: twisted.internet.epollreactor.EPollReactor\n",
      "2020-07-03 01:34:34 [scrapy.crawler] INFO: Overridden settings:\n",
      "{'BOT_NAME': 'playnomore',\n",
      " 'NEWSPIDER_MODULE': 'playnomore.spiders',\n",
      " 'ROBOTSTXT_OBEY': True,\n",
      " 'SPIDER_MODULES': ['playnomore.spiders']}\n",
      "2020-07-03 01:34:35 [scrapy.extensions.telnet] INFO: Telnet Password: 4eadb1e9515c911e\n",
      "2020-07-03 01:34:35 [scrapy.middleware] INFO: Enabled extensions:\n",
      "['scrapy.extensions.corestats.CoreStats',\n",
      " 'scrapy.extensions.telnet.TelnetConsole',\n",
      " 'scrapy.extensions.memusage.MemoryUsage',\n",
      " 'scrapy.extensions.feedexport.FeedExporter',\n",
      " 'scrapy.extensions.logstats.LogStats']\n",
      "2020-07-03 01:34:35 [scrapy.middleware] INFO: Enabled downloader middlewares:\n",
      "['scrapy.downloadermiddlewares.robotstxt.RobotsTxtMiddleware',\n",
      " 'scrapy.downloadermiddlewares.httpauth.HttpAuthMiddleware',\n",
      " 'scrapy.downloadermiddlewares.downloadtimeout.DownloadTimeoutMiddleware',\n",
      " 'scrapy.downloadermiddlewares.defaultheaders.DefaultHeadersMiddleware',\n",
      " 'scrapy_fake_useragent.middleware.RandomUserAgentMiddleware',\n",
      " 'scrapy.downloadermiddlewares.retry.RetryMiddleware',\n",
      " 'scrapy.downloadermiddlewares.redirect.MetaRefreshMiddleware',\n",
      " 'scrapy.downloadermiddlewares.httpcompression.HttpCompressionMiddleware',\n",
      " 'scrapy.downloadermiddlewares.redirect.RedirectMiddleware',\n",
      " 'scrapy.downloadermiddlewares.cookies.CookiesMiddleware',\n",
      " 'scrapy.downloadermiddlewares.httpproxy.HttpProxyMiddleware',\n",
      " 'scrapy.downloadermiddlewares.stats.DownloaderStats']\n",
      "2020-07-03 01:34:35 [scrapy.middleware] INFO: Enabled spider middlewares:\n",
      "['scrapy.spidermiddlewares.httperror.HttpErrorMiddleware',\n",
      " 'scrapy.spidermiddlewares.offsite.OffsiteMiddleware',\n",
      " 'scrapy.spidermiddlewares.referer.RefererMiddleware',\n",
      " 'scrapy.spidermiddlewares.urllength.UrlLengthMiddleware',\n",
      " 'scrapy.spidermiddlewares.depth.DepthMiddleware']\n",
      "2020-07-03 01:34:35 [scrapy.middleware] INFO: Enabled item pipelines:\n",
      "[]\n",
      "2020-07-03 01:34:35 [scrapy.core.engine] INFO: Spider opened\n",
      "2020-07-03 01:34:35 [scrapy.extensions.logstats] INFO: Crawled 0 pages (at 0 pages/min), scraped 0 items (at 0 items/min)\n",
      "2020-07-03 01:34:35 [scrapy.extensions.telnet] INFO: Telnet console listening on 127.0.0.1:6023\n",
      "2020-07-03 01:34:35 [scrapy.core.engine] DEBUG: Crawled (200) <GET http://playnomore.co.kr/robots.txt> (referer: None)\n",
      "2020-07-03 01:34:35 [scrapy.core.engine] DEBUG: Crawled (200) <GET http://playnomore.co.kr/category/bag/24/> (referer: None)\n",
      "2020-07-03 01:34:35 [scrapy.downloadermiddlewares.redirect] DEBUG: Redirecting (301) to <GET http://playnomore.co.kr/product/spring-sale-15-micro-candy-magenta-180/493/?cate_no=24&display_group=1> from <GET http://playnomore.co.kr/product/detail.html?product_no=493&cate_no=24&display_group=1>\n",
      "2020-07-03 01:34:35 [scrapy.downloadermiddlewares.redirect] DEBUG: Redirecting (301) to <GET http://playnomore.co.kr/product/new-open-event-10-rainbow-hobo-mint-180/566/?cate_no=24&display_group=1> from <GET http://playnomore.co.kr/product/detail.html?product_no=566&cate_no=24&display_group=1>\n",
      "2020-07-03 01:34:35 [scrapy.downloadermiddlewares.redirect] DEBUG: Redirecting (301) to <GET http://playnomore.co.kr/product/new-open-event-10-rainbow-hobo-blue-180/567/?cate_no=24&display_group=1> from <GET http://playnomore.co.kr/product/detail.html?product_no=567&cate_no=24&display_group=1>\n",
      "2020-07-03 01:34:35 [scrapy.downloadermiddlewares.redirect] DEBUG: Redirecting (301) to <GET http://playnomore.co.kr/product//545/?cate_no=24&display_group=1> from <GET http://playnomore.co.kr/product/detail.html?product_no=545&cate_no=24&display_group=1>\n",
      "2020-07-03 01:34:35 [scrapy.downloadermiddlewares.redirect] DEBUG: Redirecting (301) to <GET http://playnomore.co.kr/product/new-open-event-10-rainbow-hobo-ice-grey-180/565/?cate_no=24&display_group=1> from <GET http://playnomore.co.kr/product/detail.html?product_no=565&cate_no=24&display_group=1>\n",
      "2020-07-03 01:34:35 [scrapy.downloadermiddlewares.redirect] DEBUG: Redirecting (301) to <GET http://playnomore.co.kr/product/new-open-event-10-rainbow-hobo-black-180/562/?cate_no=24&display_group=1> from <GET http://playnomore.co.kr/product/detail.html?product_no=562&cate_no=24&display_group=1>\n",
      "2020-07-03 01:34:35 [scrapy.downloadermiddlewares.redirect] DEBUG: Redirecting (301) to <GET http://playnomore.co.kr/product/new-open-event-10-rainbow-hobo-candy-pink-180/564/?cate_no=24&display_group=1> from <GET http://playnomore.co.kr/product/detail.html?product_no=564&cate_no=24&display_group=1>\n",
      "2020-07-03 01:34:35 [scrapy.downloadermiddlewares.redirect] DEBUG: Redirecting (301) to <GET http://playnomore.co.kr/product/new-open-event-10-rainbow-hobo-whtie-180/563/?cate_no=24&display_group=1> from <GET http://playnomore.co.kr/product/detail.html?product_no=563&cate_no=24&display_group=1>\n",
      "2020-07-03 01:34:35 [scrapy.downloadermiddlewares.redirect] DEBUG: Redirecting (301) to <GET http://playnomore.co.kr/product/spring-sale-15-micro-candy-white-180/507/?cate_no=24&display_group=1> from <GET http://playnomore.co.kr/product/detail.html?product_no=507&cate_no=24&display_group=1>\n",
      "2020-07-03 01:34:35 [scrapy.downloadermiddlewares.redirect] DEBUG: Redirecting (301) to <GET http://playnomore.co.kr/product/spring-sale-15-micro-candy-natural-180/532/?cate_no=24&display_group=1> from <GET http://playnomore.co.kr/product/detail.html?product_no=532&cate_no=24&display_group=1>\n",
      "2020-07-03 01:34:35 [scrapy.downloadermiddlewares.redirect] DEBUG: Redirecting (301) to <GET http://playnomore.co.kr/product/sale-20-micro-baguette-yellow-180/573/?cate_no=24&display_group=1> from <GET http://playnomore.co.kr/product/detail.html?product_no=573&cate_no=24&display_group=1>\n",
      "2020-07-03 01:34:35 [scrapy.downloadermiddlewares.redirect] DEBUG: Redirecting (301) to <GET http://playnomore.co.kr/product/spring-sale-15-micro-candy-dot-180/550/?cate_no=24&display_group=1> from <GET http://playnomore.co.kr/product/detail.html?product_no=550&cate_no=24&display_group=1>\n",
      "2020-07-03 01:34:35 [scrapy.core.engine] DEBUG: Crawled (404) <GET http://playnomore.co.kr/product//545/?cate_no=24&display_group=1> (referer: http://playnomore.co.kr/category/bag/24/)\n",
      "2020-07-03 01:34:35 [scrapy.downloadermiddlewares.redirect] DEBUG: Redirecting (301) to <GET http://playnomore.co.kr/product/sale-20-micro-baguette-white-180/572/?cate_no=24&display_group=1> from <GET http://playnomore.co.kr/product/detail.html?product_no=572&cate_no=24&display_group=1>\n",
      "2020-07-03 01:34:35 [scrapy.downloadermiddlewares.redirect] DEBUG: Redirecting (301) to <GET http://playnomore.co.kr/product/new-open-event-10-rainbow-hobo-green-180/568/?cate_no=24&display_group=1> from <GET http://playnomore.co.kr/product/detail.html?product_no=568&cate_no=24&display_group=1>\n",
      "2020-07-03 01:34:35 [scrapy.downloadermiddlewares.redirect] DEBUG: Redirecting (301) to <GET http://playnomore.co.kr/product/new-open-event-10-rainbow-hobo-red-180/569/?cate_no=24&display_group=1> from <GET http://playnomore.co.kr/product/detail.html?product_no=569&cate_no=24&display_group=1>\n",
      "2020-07-03 01:34:35 [scrapy.spidermiddlewares.httperror] INFO: Ignoring response <404 http://playnomore.co.kr/product//545/?cate_no=24&display_group=1>: HTTP status code is not handled or not allowed\n",
      "2020-07-03 01:34:35 [scrapy.core.engine] DEBUG: Crawled (200) <GET http://playnomore.co.kr/product/new-open-event-10-rainbow-hobo-ice-grey-180/565/?cate_no=24&display_group=1> (referer: http://playnomore.co.kr/category/bag/24/)\n",
      "2020-07-03 01:34:35 [scrapy.core.engine] DEBUG: Crawled (200) <GET http://playnomore.co.kr/product/spring-sale-15-micro-candy-magenta-180/493/?cate_no=24&display_group=1> (referer: http://playnomore.co.kr/category/bag/24/)\n",
      "2020-07-03 01:34:35 [scrapy.core.engine] DEBUG: Crawled (200) <GET http://playnomore.co.kr/product/new-open-event-10-rainbow-hobo-blue-180/567/?cate_no=24&display_group=1> (referer: http://playnomore.co.kr/category/bag/24/)\n",
      "2020-07-03 01:34:35 [scrapy.core.engine] DEBUG: Crawled (200) <GET http://playnomore.co.kr/product/new-open-event-10-rainbow-hobo-whtie-180/563/?cate_no=24&display_group=1> (referer: http://playnomore.co.kr/category/bag/24/)\n",
      "2020-07-03 01:34:35 [scrapy.core.engine] DEBUG: Crawled (200) <GET http://playnomore.co.kr/product/spring-sale-15-micro-candy-white-180/507/?cate_no=24&display_group=1> (referer: http://playnomore.co.kr/category/bag/24/)\n",
      "2020-07-03 01:34:35 [scrapy.core.engine] DEBUG: Crawled (200) <GET http://playnomore.co.kr/product/new-open-event-10-rainbow-hobo-mint-180/566/?cate_no=24&display_group=1> (referer: http://playnomore.co.kr/category/bag/24/)\n",
      "2020-07-03 01:34:36 [scrapy.core.engine] DEBUG: Crawled (200) <GET http://playnomore.co.kr/product/new-open-event-10-rainbow-hobo-candy-pink-180/564/?cate_no=24&display_group=1> (referer: http://playnomore.co.kr/category/bag/24/)\n",
      "2020-07-03 01:34:36 [scrapy.core.scraper] DEBUG: Scraped from <200 http://playnomore.co.kr/product/new-open-event-10-rainbow-hobo-ice-grey-180/565/?cate_no=24&display_group=1>\n",
      "{'img': 'http://playnomore.co.kr/web/product/big/20200317/8b360e875520ffebcfb628d0137f3273.jpg',\n",
      " 'link': 'http://playnomore.co.kr/product/new-open-event-10-rainbow-hobo-ice-grey-180/565/?cate_no=24&display_group=1',\n",
      " 'price': '$ 162',\n",
      " 'title': '[New Open Event 10%] RAINBOW HOBO ice grey '}\n",
      "2020-07-03 01:34:36 [scrapy.core.engine] DEBUG: Crawled (200) <GET http://playnomore.co.kr/product/new-open-event-10-rainbow-hobo-black-180/562/?cate_no=24&display_group=1> (referer: http://playnomore.co.kr/category/bag/24/)\n",
      "2020-07-03 01:34:36 [scrapy.core.scraper] DEBUG: Scraped from <200 http://playnomore.co.kr/product/spring-sale-15-micro-candy-magenta-180/493/?cate_no=24&display_group=1>\n",
      "{'img': 'http://playnomore.co.kr/web/product/big/20200303/4b468e41aa0114038f15b9b97702ccb8.jpg',\n",
      " 'link': 'http://playnomore.co.kr/product/spring-sale-15-micro-candy-magenta-180/493/?cate_no=24&display_group=1',\n",
      " 'price': '$ 153',\n",
      " 'title': '[Spring SALE 15%] MICRO CANDY magenta '}\n",
      "2020-07-03 01:34:36 [scrapy.core.scraper] DEBUG: Scraped from <200 http://playnomore.co.kr/product/new-open-event-10-rainbow-hobo-blue-180/567/?cate_no=24&display_group=1>\n",
      "{'img': 'http://playnomore.co.kr/web/product/big/20200317/a5ea014ec575f68728cc1bf360b3d127.jpg',\n",
      " 'link': 'http://playnomore.co.kr/product/new-open-event-10-rainbow-hobo-blue-180/567/?cate_no=24&display_group=1',\n",
      " 'price': '$ 162',\n",
      " 'title': '[New Open Event 10%] RAINBOW HOBO blue '}\n",
      "2020-07-03 01:34:36 [scrapy.core.scraper] DEBUG: Scraped from <200 http://playnomore.co.kr/product/new-open-event-10-rainbow-hobo-whtie-180/563/?cate_no=24&display_group=1>\n",
      "{'img': 'http://playnomore.co.kr/web/product/big/20200317/924aa77ebf25941ab05dbd66f656d0c2.jpg',\n",
      " 'link': 'http://playnomore.co.kr/product/new-open-event-10-rainbow-hobo-whtie-180/563/?cate_no=24&display_group=1',\n",
      " 'price': '$ 162',\n",
      " 'title': '[New Open Event 10%] RAINBOW HOBO whtie '}\n",
      "2020-07-03 01:34:36 [scrapy.core.scraper] DEBUG: Scraped from <200 http://playnomore.co.kr/product/spring-sale-15-micro-candy-white-180/507/?cate_no=24&display_group=1>\n",
      "{'img': 'http://playnomore.co.kr/web/product/big/20200303/75ffbe8e032a8e233f00210ac4e6e4fd.jpg',\n",
      " 'link': 'http://playnomore.co.kr/product/spring-sale-15-micro-candy-white-180/507/?cate_no=24&display_group=1',\n",
      " 'price': '$ 153',\n",
      " 'title': '[Spring SALE 15%] MICRO CANDY white '}\n",
      "2020-07-03 01:34:36 [scrapy.core.scraper] DEBUG: Scraped from <200 http://playnomore.co.kr/product/new-open-event-10-rainbow-hobo-mint-180/566/?cate_no=24&display_group=1>\n",
      "{'img': 'http://playnomore.co.kr/web/product/big/20200317/44e1772952f01937bc481e34cc7de6f0.jpg',\n",
      " 'link': 'http://playnomore.co.kr/product/new-open-event-10-rainbow-hobo-mint-180/566/?cate_no=24&display_group=1',\n",
      " 'price': '$ 162',\n",
      " 'title': '[New Open Event 10%] RAINBOW HOBO mint '}\n",
      "2020-07-03 01:34:36 [scrapy.core.scraper] DEBUG: Scraped from <200 http://playnomore.co.kr/product/new-open-event-10-rainbow-hobo-candy-pink-180/564/?cate_no=24&display_group=1>\n",
      "{'img': 'http://playnomore.co.kr/web/product/big/20200317/30f03a82a40613037ab9763f4a1fc7cd.jpg',\n",
      " 'link': 'http://playnomore.co.kr/product/new-open-event-10-rainbow-hobo-candy-pink-180/564/?cate_no=24&display_group=1',\n",
      " 'price': '$ 162',\n",
      " 'title': '[New Open Event 10%] RAINBOW HOBO candy pink '}\n",
      "2020-07-03 01:34:36 [scrapy.core.scraper] DEBUG: Scraped from <200 http://playnomore.co.kr/product/new-open-event-10-rainbow-hobo-black-180/562/?cate_no=24&display_group=1>\n",
      "{'img': 'http://playnomore.co.kr/web/product/big/20200317/33d8cfd4ea02bc468f02dc95464109f9.jpg',\n",
      " 'link': 'http://playnomore.co.kr/product/new-open-event-10-rainbow-hobo-black-180/562/?cate_no=24&display_group=1',\n",
      " 'price': '$ 162',\n",
      " 'title': '[New Open Event 10%] RAINBOW HOBO black '}\n",
      "2020-07-03 01:34:36 [scrapy.core.engine] DEBUG: Crawled (200) <GET http://playnomore.co.kr/product/spring-sale-15-micro-candy-dot-180/550/?cate_no=24&display_group=1> (referer: http://playnomore.co.kr/category/bag/24/)\n",
      "2020-07-03 01:34:36 [scrapy.core.engine] DEBUG: Crawled (200) <GET http://playnomore.co.kr/product/sale-20-micro-baguette-white-180/572/?cate_no=24&display_group=1> (referer: http://playnomore.co.kr/category/bag/24/)\n",
      "2020-07-03 01:34:36 [scrapy.core.engine] DEBUG: Crawled (200) <GET http://playnomore.co.kr/product/sale-20-micro-baguette-yellow-180/573/?cate_no=24&display_group=1> (referer: http://playnomore.co.kr/category/bag/24/)\n",
      "2020-07-03 01:34:36 [scrapy.core.engine] DEBUG: Crawled (200) <GET http://playnomore.co.kr/product/spring-sale-15-micro-candy-natural-180/532/?cate_no=24&display_group=1> (referer: http://playnomore.co.kr/category/bag/24/)\n",
      "2020-07-03 01:34:36 [scrapy.core.engine] DEBUG: Crawled (200) <GET http://playnomore.co.kr/product/new-open-event-10-rainbow-hobo-red-180/569/?cate_no=24&display_group=1> (referer: http://playnomore.co.kr/category/bag/24/)\n",
      "2020-07-03 01:34:36 [scrapy.core.engine] DEBUG: Crawled (200) <GET http://playnomore.co.kr/product/new-open-event-10-rainbow-hobo-green-180/568/?cate_no=24&display_group=1> (referer: http://playnomore.co.kr/category/bag/24/)\n",
      "2020-07-03 01:34:36 [scrapy.core.scraper] DEBUG: Scraped from <200 http://playnomore.co.kr/product/spring-sale-15-micro-candy-dot-180/550/?cate_no=24&display_group=1>\n",
      "{'img': 'http://playnomore.co.kr/web/product/big/20200303/448ef015df082eec76b9dbd116a1c86a.jpg',\n",
      " 'link': 'http://playnomore.co.kr/product/spring-sale-15-micro-candy-dot-180/550/?cate_no=24&display_group=1',\n",
      " 'price': '$ 153',\n",
      " 'title': '[Spring SALE 15%] MICRO CANDY dot '}\n",
      "2020-07-03 01:34:36 [scrapy.core.scraper] DEBUG: Scraped from <200 http://playnomore.co.kr/product/sale-20-micro-baguette-white-180/572/?cate_no=24&display_group=1>\n",
      "{'img': 'http://playnomore.co.kr/web/product/big/20200407/5d236db50fc74a8e435bb543137d56e2.jpg',\n",
      " 'link': 'http://playnomore.co.kr/product/sale-20-micro-baguette-white-180/572/?cate_no=24&display_group=1',\n",
      " 'price': '$ 144',\n",
      " 'title': '[SALE 20%] MICRO BAGUETTE white '}\n",
      "2020-07-03 01:34:36 [scrapy.core.scraper] DEBUG: Scraped from <200 http://playnomore.co.kr/product/sale-20-micro-baguette-yellow-180/573/?cate_no=24&display_group=1>\n",
      "{'img': 'http://playnomore.co.kr/web/product/big/20200407/626de3d4081df6e1dff057623e9e4877.jpg',\n",
      " 'link': 'http://playnomore.co.kr/product/sale-20-micro-baguette-yellow-180/573/?cate_no=24&display_group=1',\n",
      " 'price': '$ 144',\n",
      " 'title': '[SALE 20%] MICRO BAGUETTE yellow '}\n",
      "2020-07-03 01:34:36 [scrapy.core.scraper] DEBUG: Scraped from <200 http://playnomore.co.kr/product/spring-sale-15-micro-candy-natural-180/532/?cate_no=24&display_group=1>\n",
      "{'img': 'http://playnomore.co.kr/web/product/big/20200303/46c317e5bc83027b99c6a1e105adb2af.jpg',\n",
      " 'link': 'http://playnomore.co.kr/product/spring-sale-15-micro-candy-natural-180/532/?cate_no=24&display_group=1',\n",
      " 'price': '$ 153',\n",
      " 'title': '[Spring SALE 15%] MICRO CANDY natural '}\n",
      "2020-07-03 01:34:36 [scrapy.core.scraper] DEBUG: Scraped from <200 http://playnomore.co.kr/product/new-open-event-10-rainbow-hobo-red-180/569/?cate_no=24&display_group=1>\n",
      "{'img': 'http://playnomore.co.kr/web/product/big/20200317/0c563a8e24723b3791f888656dbe2338.jpg',\n",
      " 'link': 'http://playnomore.co.kr/product/new-open-event-10-rainbow-hobo-red-180/569/?cate_no=24&display_group=1',\n",
      " 'price': '$ 162',\n",
      " 'title': '[New Open Event 10%] RAINBOW HOBO red '}\n",
      "2020-07-03 01:34:36 [scrapy.core.scraper] DEBUG: Scraped from <200 http://playnomore.co.kr/product/new-open-event-10-rainbow-hobo-green-180/568/?cate_no=24&display_group=1>\n",
      "{'img': 'http://playnomore.co.kr/web/product/big/20200317/31a7cc70839b4dba791673f40e20db2d.jpg',\n",
      " 'link': 'http://playnomore.co.kr/product/new-open-event-10-rainbow-hobo-green-180/568/?cate_no=24&display_group=1',\n",
      " 'price': '$ 162',\n",
      " 'title': '[New Open Event 10%] RAINBOW HOBO green '}\n",
      "2020-07-03 01:34:36 [scrapy.core.engine] INFO: Closing spider (finished)\n",
      "2020-07-03 01:34:36 [scrapy.extensions.feedexport] INFO: Stored csv feed (14 items) in: playnomore.csv\n",
      "2020-07-03 01:34:36 [scrapy.statscollectors] INFO: Dumping Scrapy stats:\n",
      "{'downloader/request_bytes': 17113,\n",
      " 'downloader/request_count': 32,\n",
      " 'downloader/request_method_count/GET': 32,\n",
      " 'downloader/response_bytes': 293850,\n",
      " 'downloader/response_count': 32,\n",
      " 'downloader/response_status_count/200': 16,\n",
      " 'downloader/response_status_count/301': 15,\n",
      " 'downloader/response_status_count/404': 1,\n",
      " 'elapsed_time_seconds': 1.368367,\n",
      " 'finish_reason': 'finished',\n",
      " 'finish_time': datetime.datetime(2020, 7, 3, 1, 34, 36, 446884),\n",
      " 'httperror/response_ignored_count': 1,\n",
      " 'httperror/response_ignored_status_count/404': 1,\n",
      " 'item_scraped_count': 14,\n",
      " 'log_count/DEBUG': 46,\n",
      " 'log_count/INFO': 12,\n",
      " 'memusage/max': 54870016,\n",
      " 'memusage/startup': 54870016,\n",
      " 'request_depth_max': 1,\n",
      " 'response_received_count': 17,\n",
      " 'robotstxt/request_count': 1,\n",
      " 'robotstxt/response_count': 1,\n",
      " 'robotstxt/response_status_count/200': 1,\n",
      " 'scheduler/dequeued': 31,\n",
      " 'scheduler/dequeued/memory': 31,\n",
      " 'scheduler/enqueued': 31,\n",
      " 'scheduler/enqueued/memory': 31,\n",
      " 'start_time': datetime.datetime(2020, 7, 3, 1, 34, 35, 78517)}\n",
      "2020-07-03 01:34:36 [scrapy.core.engine] INFO: Spider closed (finished)\n"
     ]
    }
   ],
   "source": [
    "!./run.sh"
   ]
  },
  {
   "cell_type": "code",
   "execution_count": 38,
   "metadata": {},
   "outputs": [
    {
     "data": {
      "text/html": [
       "<div>\n",
       "<style scoped>\n",
       "    .dataframe tbody tr th:only-of-type {\n",
       "        vertical-align: middle;\n",
       "    }\n",
       "\n",
       "    .dataframe tbody tr th {\n",
       "        vertical-align: top;\n",
       "    }\n",
       "\n",
       "    .dataframe thead th {\n",
       "        text-align: right;\n",
       "    }\n",
       "</style>\n",
       "<table border=\"1\" class=\"dataframe\">\n",
       "  <thead>\n",
       "    <tr style=\"text-align: right;\">\n",
       "      <th></th>\n",
       "      <th>img</th>\n",
       "      <th>link</th>\n",
       "      <th>price</th>\n",
       "      <th>title</th>\n",
       "    </tr>\n",
       "  </thead>\n",
       "  <tbody>\n",
       "    <tr>\n",
       "      <th>13</th>\n",
       "      <td>http://playnomore.co.kr/web/product/big/202003...</td>\n",
       "      <td>http://playnomore.co.kr/product/new-open-event...</td>\n",
       "      <td>$ 162</td>\n",
       "      <td>[New Open Event 10%] RAINBOW HOBO green</td>\n",
       "    </tr>\n",
       "  </tbody>\n",
       "</table>\n",
       "</div>"
      ],
      "text/plain": [
       "                                                  img  \\\n",
       "13  http://playnomore.co.kr/web/product/big/202003...   \n",
       "\n",
       "                                                 link  price  \\\n",
       "13  http://playnomore.co.kr/product/new-open-event...  $ 162   \n",
       "\n",
       "                                       title  \n",
       "13  [New Open Event 10%] RAINBOW HOBO green   "
      ]
     },
     "execution_count": 38,
     "metadata": {},
     "output_type": "execute_result"
    }
   ],
   "source": [
    "import pandas as pd\n",
    "df = pd.read_csv(\"playnomore/playnomore.csv\")\n",
    "df.tail(1)"
   ]
  },
  {
   "cell_type": "markdown",
   "metadata": {},
   "source": [
    "#### 5. argument 설정"
   ]
  },
  {
   "cell_type": "code",
   "execution_count": 49,
   "metadata": {},
   "outputs": [
    {
     "name": "stdout",
     "output_type": "stream",
     "text": [
      "Overwriting playnomore/playnomore/spiders/spider.py\n"
     ]
    }
   ],
   "source": [
    "%%writefile playnomore/playnomore/spiders/spider.py\n",
    "import scrapy\n",
    "from playnomore.items import PlaynomoreItem\n",
    "\n",
    "class PlaynomoreSpider(scrapy.Spider):\n",
    "    name = \"Playnomore\"\n",
    "    custom_settings = {\n",
    "        'DOWNLOADER_MIDDLEWARES': {\n",
    "            'scrapy.downloadermiddlewares.useragent.UserAgentMiddleware': None,\n",
    "            'scrapy_fake_useragent.middleware.RandomUserAgentMiddleware': 400,\n",
    "        }\n",
    "    }\n",
    "    \n",
    "    # 오버라이딩\n",
    "    def __init__(self, category1=\"bag\", category2=24, **kwargs):\n",
    "        self.start_url = \"http://playnomore.co.kr/category/{}/{}/\".format(category1, category2)\n",
    "        # 기존의 생성자 함수 살려주기\n",
    "        super().__init__(**kwargs)\n",
    "    \n",
    "    def start_requests(self):\n",
    "        url = self.start_url\n",
    "        yield scrapy.Request(url, callback=self.parse)\n",
    "        \n",
    "    def parse(self, response):\n",
    "        links = response.xpath('//*[@id=\"contents\"]/div[2]/div/ul/li/div/a/@href').extract()\n",
    "        links = list(map(response.urljoin, links))\n",
    "        for link in links:\n",
    "            yield scrapy.Request(link, callback=self.page_parse)\n",
    "    \n",
    "    def page_parse(self, response):\n",
    "        item = PlaynomoreItem()\n",
    "        title1 = response.xpath('//*[@id=\"contents\"]/div[1]/div[1]/div[2]/div[1]/font/text()').extract()\n",
    "        title2 = response.xpath('//*[@id=\"contents\"]/div[1]/div[1]/div[2]/div[1]/text()').extract()\n",
    "        item[\"title\"] = \"\".join(title1) + \"\".join(title2)\n",
    "        item[\"price\"] = response.xpath('//*[@id=\"contents\"]/div[1]/div[1]/div[2]/div[2]/text()').extract()[0]\n",
    "        item[\"img\"] = \"http:\" + response.xpath('//*[@id=\"contents\"]/div[1]/div[1]/div[1]/div[1]/img/@src').extract()[0]\n",
    "        item[\"link\"] = response.url\n",
    "        yield item"
   ]
  },
  {
   "cell_type": "code",
   "execution_count": 51,
   "metadata": {},
   "outputs": [
    {
     "name": "stdout",
     "output_type": "stream",
     "text": [
      "Overwriting run.sh\n"
     ]
    }
   ],
   "source": [
    "%%writefile run.sh\n",
    "cd playnomore\n",
    "scrapy crawl Playnomore -o playnomore2.csv -a category1=shoes -a category2=25"
   ]
  },
  {
   "cell_type": "code",
   "execution_count": 52,
   "metadata": {},
   "outputs": [
    {
     "name": "stdout",
     "output_type": "stream",
     "text": [
      "2020-07-03 01:48:38 [scrapy.utils.log] INFO: Scrapy 2.2.0 started (bot: playnomore)\n",
      "2020-07-03 01:48:38 [scrapy.utils.log] INFO: Versions: lxml 4.5.1.0, libxml2 2.9.10, cssselect 1.1.0, parsel 1.6.0, w3lib 1.22.0, Twisted 20.3.0, Python 3.6.9 (default, Apr 15 2020, 12:56:52) - [GCC 7.5.0], pyOpenSSL 19.1.0 (OpenSSL 1.1.1g  21 Apr 2020), cryptography 2.9.2, Platform Linux-5.3.0-1023-aws-x86_64-with-debian-buster-sid\n",
      "2020-07-03 01:48:38 [scrapy.utils.log] DEBUG: Using reactor: twisted.internet.epollreactor.EPollReactor\n",
      "2020-07-03 01:48:38 [scrapy.crawler] INFO: Overridden settings:\n",
      "{'BOT_NAME': 'playnomore',\n",
      " 'NEWSPIDER_MODULE': 'playnomore.spiders',\n",
      " 'ROBOTSTXT_OBEY': True,\n",
      " 'SPIDER_MODULES': ['playnomore.spiders']}\n",
      "2020-07-03 01:48:38 [scrapy.extensions.telnet] INFO: Telnet Password: abc3ba0a3372cb9c\n",
      "2020-07-03 01:48:38 [scrapy.middleware] INFO: Enabled extensions:\n",
      "['scrapy.extensions.corestats.CoreStats',\n",
      " 'scrapy.extensions.telnet.TelnetConsole',\n",
      " 'scrapy.extensions.memusage.MemoryUsage',\n",
      " 'scrapy.extensions.feedexport.FeedExporter',\n",
      " 'scrapy.extensions.logstats.LogStats']\n",
      "2020-07-03 01:48:38 [scrapy.middleware] INFO: Enabled downloader middlewares:\n",
      "['scrapy.downloadermiddlewares.robotstxt.RobotsTxtMiddleware',\n",
      " 'scrapy.downloadermiddlewares.httpauth.HttpAuthMiddleware',\n",
      " 'scrapy.downloadermiddlewares.downloadtimeout.DownloadTimeoutMiddleware',\n",
      " 'scrapy.downloadermiddlewares.defaultheaders.DefaultHeadersMiddleware',\n",
      " 'scrapy_fake_useragent.middleware.RandomUserAgentMiddleware',\n",
      " 'scrapy.downloadermiddlewares.retry.RetryMiddleware',\n",
      " 'scrapy.downloadermiddlewares.redirect.MetaRefreshMiddleware',\n",
      " 'scrapy.downloadermiddlewares.httpcompression.HttpCompressionMiddleware',\n",
      " 'scrapy.downloadermiddlewares.redirect.RedirectMiddleware',\n",
      " 'scrapy.downloadermiddlewares.cookies.CookiesMiddleware',\n",
      " 'scrapy.downloadermiddlewares.httpproxy.HttpProxyMiddleware',\n",
      " 'scrapy.downloadermiddlewares.stats.DownloaderStats']\n",
      "2020-07-03 01:48:38 [scrapy.middleware] INFO: Enabled spider middlewares:\n",
      "['scrapy.spidermiddlewares.httperror.HttpErrorMiddleware',\n",
      " 'scrapy.spidermiddlewares.offsite.OffsiteMiddleware',\n",
      " 'scrapy.spidermiddlewares.referer.RefererMiddleware',\n",
      " 'scrapy.spidermiddlewares.urllength.UrlLengthMiddleware',\n",
      " 'scrapy.spidermiddlewares.depth.DepthMiddleware']\n",
      "2020-07-03 01:48:38 [scrapy.middleware] INFO: Enabled item pipelines:\n",
      "[]\n",
      "2020-07-03 01:48:38 [scrapy.core.engine] INFO: Spider opened\n",
      "2020-07-03 01:48:38 [scrapy.extensions.logstats] INFO: Crawled 0 pages (at 0 pages/min), scraped 0 items (at 0 items/min)\n",
      "2020-07-03 01:48:38 [scrapy.extensions.telnet] INFO: Telnet console listening on 127.0.0.1:6023\n",
      "2020-07-03 01:48:38 [scrapy.core.engine] DEBUG: Crawled (200) <GET http://playnomore.co.kr/robots.txt> (referer: None)\n",
      "2020-07-03 01:48:38 [scrapy.core.engine] DEBUG: Crawled (200) <GET http://playnomore.co.kr/category/shoes/25/> (referer: None)\n",
      "2020-07-03 01:48:38 [scrapy.downloadermiddlewares.redirect] DEBUG: Redirecting (301) to <GET http://playnomore.co.kr/product/sold-out-winkygirl-color-blocks-2cm-black/138/?cate_no=25&display_group=1> from <GET http://playnomore.co.kr/product/detail.html?product_no=138&cate_no=25&display_group=1>\n",
      "2020-07-03 01:48:38 [scrapy.downloadermiddlewares.redirect] DEBUG: Redirecting (301) to <GET http://playnomore.co.kr/product/sold-out-winkygirl-color-blocks-5cm-metallic-pink/137/?cate_no=25&display_group=1> from <GET http://playnomore.co.kr/product/detail.html?product_no=137&cate_no=25&display_group=1>\n",
      "2020-07-03 01:48:38 [scrapy.downloadermiddlewares.redirect] DEBUG: Redirecting (301) to <GET http://playnomore.co.kr/product/sold-out-shy-lip-bloafer-chrome/304/?cate_no=25&display_group=1> from <GET http://playnomore.co.kr/product/detail.html?product_no=304&cate_no=25&display_group=1>\n",
      "2020-07-03 01:48:38 [scrapy.downloadermiddlewares.redirect] DEBUG: Redirecting (301) to <GET http://playnomore.co.kr/product/sold-out-kiss-me-deep-green/23/?cate_no=25&display_group=1> from <GET http://playnomore.co.kr/product/detail.html?product_no=23&cate_no=25&display_group=1>\n",
      "2020-07-03 01:48:38 [scrapy.downloadermiddlewares.redirect] DEBUG: Redirecting (301) to <GET http://playnomore.co.kr/product/sold-out-shy-friends-oxford-black/181/?cate_no=25&display_group=1> from <GET http://playnomore.co.kr/product/detail.html?product_no=181&cate_no=25&display_group=1>\n",
      "2020-07-03 01:48:38 [scrapy.downloadermiddlewares.redirect] DEBUG: Redirecting (301) to <GET http://playnomore.co.kr/product/sold-out-kiss-me-pink-beige/22/?cate_no=25&display_group=1> from <GET http://playnomore.co.kr/product/detail.html?product_no=22&cate_no=25&display_group=1>\n",
      "2020-07-03 01:48:38 [scrapy.downloadermiddlewares.redirect] DEBUG: Redirecting (301) to <GET http://playnomore.co.kr/product/sold-out-winkygirl-color-blocks-metallic-navy-5cm/20/?cate_no=25&display_group=1> from <GET http://playnomore.co.kr/product/detail.html?product_no=20&cate_no=25&display_group=1>\n",
      "2020-07-03 01:48:38 [scrapy.downloadermiddlewares.redirect] DEBUG: Redirecting (301) to <GET http://playnomore.co.kr/product/sold-out-shy-lip-bloafer-champagne-gold/305/?cate_no=25&display_group=1> from <GET http://playnomore.co.kr/product/detail.html?product_no=305&cate_no=25&display_group=1>\n",
      "2020-07-03 01:48:38 [scrapy.downloadermiddlewares.redirect] DEBUG: Redirecting (301) to <GET http://playnomore.co.kr/product/sold-out-shygirl-oxford-gold/233/?cate_no=25&display_group=1> from <GET http://playnomore.co.kr/product/detail.html?product_no=233&cate_no=25&display_group=1>\n",
      "2020-07-03 01:48:38 [scrapy.downloadermiddlewares.redirect] DEBUG: Redirecting (301) to <GET http://playnomore.co.kr/product/sold-out-shygirl-oxford-silver/232/?cate_no=25&display_group=1> from <GET http://playnomore.co.kr/product/detail.html?product_no=232&cate_no=25&display_group=1>\n",
      "2020-07-03 01:48:38 [scrapy.downloadermiddlewares.redirect] DEBUG: Redirecting (301) to <GET http://playnomore.co.kr/product/sold-out-shygirl-oxford-chrome/207/?cate_no=25&display_group=1> from <GET http://playnomore.co.kr/product/detail.html?product_no=207&cate_no=25&display_group=1>\n",
      "2020-07-03 01:48:38 [scrapy.downloadermiddlewares.redirect] DEBUG: Redirecting (301) to <GET http://playnomore.co.kr/product/sold-out-winkygirl-color-blocks-5cm-rose-gold/18/?cate_no=25&display_group=1> from <GET http://playnomore.co.kr/product/detail.html?product_no=18&cate_no=25&display_group=1>\n",
      "2020-07-03 01:48:38 [scrapy.downloadermiddlewares.redirect] DEBUG: Redirecting (301) to <GET http://playnomore.co.kr/product/sold-out-winkygirl-color-blocks-5cm-silver/21/?cate_no=25&display_group=1> from <GET http://playnomore.co.kr/product/detail.html?product_no=21&cate_no=25&display_group=1>\n",
      "2020-07-03 01:48:38 [scrapy.downloadermiddlewares.redirect] DEBUG: Redirecting (301) to <GET http://playnomore.co.kr/product/sold-out-winkygirl-color-blocks-5cm-multi/19/?cate_no=25&display_group=1> from <GET http://playnomore.co.kr/product/detail.html?product_no=19&cate_no=25&display_group=1>\n",
      "2020-07-03 01:48:38 [scrapy.downloadermiddlewares.redirect] DEBUG: Redirecting (301) to <GET http://playnomore.co.kr/product/sold-out-winkygirl-color-blocks-2cm-multi/140/?cate_no=25&display_group=1> from <GET http://playnomore.co.kr/product/detail.html?product_no=140&cate_no=25&display_group=1>\n",
      "2020-07-03 01:48:38 [scrapy.core.engine] DEBUG: Crawled (200) <GET http://playnomore.co.kr/product/sold-out-winkygirl-color-blocks-5cm-metallic-pink/137/?cate_no=25&display_group=1> (referer: http://playnomore.co.kr/category/shoes/25/)\n",
      "2020-07-03 01:48:39 [scrapy.core.engine] DEBUG: Crawled (200) <GET http://playnomore.co.kr/product/sold-out-winkygirl-color-blocks-2cm-black/138/?cate_no=25&display_group=1> (referer: http://playnomore.co.kr/category/shoes/25/)\n",
      "2020-07-03 01:48:39 [scrapy.core.engine] DEBUG: Crawled (200) <GET http://playnomore.co.kr/product/sold-out-kiss-me-pink-beige/22/?cate_no=25&display_group=1> (referer: http://playnomore.co.kr/category/shoes/25/)\n",
      "2020-07-03 01:48:39 [scrapy.core.engine] DEBUG: Crawled (200) <GET http://playnomore.co.kr/product/sold-out-winkygirl-color-blocks-metallic-navy-5cm/20/?cate_no=25&display_group=1> (referer: http://playnomore.co.kr/category/shoes/25/)\n",
      "2020-07-03 01:48:39 [scrapy.core.engine] DEBUG: Crawled (200) <GET http://playnomore.co.kr/product/sold-out-shy-friends-oxford-black/181/?cate_no=25&display_group=1> (referer: http://playnomore.co.kr/category/shoes/25/)\n",
      "2020-07-03 01:48:39 [scrapy.core.engine] DEBUG: Crawled (200) <GET http://playnomore.co.kr/product/sold-out-shy-lip-bloafer-champagne-gold/305/?cate_no=25&display_group=1> (referer: http://playnomore.co.kr/category/shoes/25/)\n",
      "2020-07-03 01:48:39 [scrapy.core.engine] DEBUG: Crawled (200) <GET http://playnomore.co.kr/product/sold-out-kiss-me-deep-green/23/?cate_no=25&display_group=1> (referer: http://playnomore.co.kr/category/shoes/25/)\n",
      "2020-07-03 01:48:39 [scrapy.core.engine] DEBUG: Crawled (200) <GET http://playnomore.co.kr/product/sold-out-shy-lip-bloafer-chrome/304/?cate_no=25&display_group=1> (referer: http://playnomore.co.kr/category/shoes/25/)\n",
      "2020-07-03 01:48:39 [scrapy.core.scraper] DEBUG: Scraped from <200 http://playnomore.co.kr/product/sold-out-winkygirl-color-blocks-5cm-metallic-pink/137/?cate_no=25&display_group=1>\n",
      "{'img': 'http://playnomore.co.kr/web/product/big/201701/137_shop7_918095.jpg',\n",
      " 'link': 'http://playnomore.co.kr/product/sold-out-winkygirl-color-blocks-5cm-metallic-pink/137/?cate_no=25&display_group=1',\n",
      " 'price': '$ 414',\n",
      " 'title': '[SOLD OUT] WINKYGIRL COLOR BLOCKS (5cm) metallic pink'}\n",
      "2020-07-03 01:48:39 [scrapy.core.scraper] DEBUG: Scraped from <200 http://playnomore.co.kr/product/sold-out-winkygirl-color-blocks-2cm-black/138/?cate_no=25&display_group=1>\n",
      "{'img': 'http://playnomore.co.kr/web/product/big/201701/138_shop7_619644.jpg',\n",
      " 'link': 'http://playnomore.co.kr/product/sold-out-winkygirl-color-blocks-2cm-black/138/?cate_no=25&display_group=1',\n",
      " 'price': '$ 414',\n",
      " 'title': '[SOLD OUT] WINKYGIRL COLOR BLOCKS  (2cm) black'}\n",
      "2020-07-03 01:48:39 [scrapy.core.scraper] DEBUG: Scraped from <200 http://playnomore.co.kr/product/sold-out-kiss-me-pink-beige/22/?cate_no=25&display_group=1>\n",
      "{'img': 'http://playnomore.co.kr/web/product/big/201702/22_shop7_242463.jpg',\n",
      " 'link': 'http://playnomore.co.kr/product/sold-out-kiss-me-pink-beige/22/?cate_no=25&display_group=1',\n",
      " 'price': '$ 450',\n",
      " 'title': '[SOLD OUT] KISS ME pink beige'}\n",
      "2020-07-03 01:48:39 [scrapy.core.scraper] DEBUG: Scraped from <200 http://playnomore.co.kr/product/sold-out-winkygirl-color-blocks-metallic-navy-5cm/20/?cate_no=25&display_group=1>\n",
      "{'img': 'http://playnomore.co.kr/web/product/big/201609/20_shop7_178984.jpg',\n",
      " 'link': 'http://playnomore.co.kr/product/sold-out-winkygirl-color-blocks-metallic-navy-5cm/20/?cate_no=25&display_group=1',\n",
      " 'price': '$ 414',\n",
      " 'title': '[SOLD OUT] WINKYGIRL COLOR BLOCKS metallic navy (5cm)'}\n",
      "2020-07-03 01:48:39 [scrapy.core.scraper] DEBUG: Scraped from <200 http://playnomore.co.kr/product/sold-out-shy-friends-oxford-black/181/?cate_no=25&display_group=1>\n",
      "{'img': 'http://playnomore.co.kr/web/product/big/201702/181_shop7_374071.jpg',\n",
      " 'link': 'http://playnomore.co.kr/product/sold-out-shy-friends-oxford-black/181/?cate_no=25&display_group=1',\n",
      " 'price': '$ 450',\n",
      " 'title': '[SOLD OUT] SHY FRIENDS oxford black'}\n",
      "2020-07-03 01:48:39 [scrapy.core.scraper] DEBUG: Scraped from <200 http://playnomore.co.kr/product/sold-out-shy-lip-bloafer-champagne-gold/305/?cate_no=25&display_group=1>\n",
      "{'img': 'http://playnomore.co.kr/web/product/big/201706/305_shop7_443176.jpg',\n",
      " 'link': 'http://playnomore.co.kr/product/sold-out-shy-lip-bloafer-champagne-gold/305/?cate_no=25&display_group=1',\n",
      " 'price': '$ 480',\n",
      " 'title': '[SOLD OUT] SHY LIP bloafer champagne gold'}\n",
      "2020-07-03 01:48:39 [scrapy.core.scraper] DEBUG: Scraped from <200 http://playnomore.co.kr/product/sold-out-kiss-me-deep-green/23/?cate_no=25&display_group=1>\n",
      "{'img': 'http://playnomore.co.kr/web/product/big/201702/23_shop7_151870.jpg',\n",
      " 'link': 'http://playnomore.co.kr/product/sold-out-kiss-me-deep-green/23/?cate_no=25&display_group=1',\n",
      " 'price': '$ 450',\n",
      " 'title': '[SOLD OUT] KISS ME deep green'}\n",
      "2020-07-03 01:48:39 [scrapy.core.scraper] DEBUG: Scraped from <200 http://playnomore.co.kr/product/sold-out-shy-lip-bloafer-chrome/304/?cate_no=25&display_group=1>\n",
      "{'img': 'http://playnomore.co.kr/web/product/big/201706/304_shop7_862848.jpg',\n",
      " 'link': 'http://playnomore.co.kr/product/sold-out-shy-lip-bloafer-chrome/304/?cate_no=25&display_group=1',\n",
      " 'price': '$ 480',\n",
      " 'title': '[SOLD OUT] SHY LIP bloafer chrome'}\n",
      "2020-07-03 01:48:39 [scrapy.core.engine] DEBUG: Crawled (200) <GET http://playnomore.co.kr/product/sold-out-shygirl-oxford-silver/232/?cate_no=25&display_group=1> (referer: http://playnomore.co.kr/category/shoes/25/)\n",
      "2020-07-03 01:48:39 [scrapy.core.engine] DEBUG: Crawled (200) <GET http://playnomore.co.kr/product/sold-out-shygirl-oxford-gold/233/?cate_no=25&display_group=1> (referer: http://playnomore.co.kr/category/shoes/25/)\n",
      "2020-07-03 01:48:39 [scrapy.core.engine] DEBUG: Crawled (200) <GET http://playnomore.co.kr/product/sold-out-shygirl-oxford-chrome/207/?cate_no=25&display_group=1> (referer: http://playnomore.co.kr/category/shoes/25/)\n",
      "2020-07-03 01:48:39 [scrapy.core.engine] DEBUG: Crawled (200) <GET http://playnomore.co.kr/product/sold-out-winkygirl-color-blocks-5cm-silver/21/?cate_no=25&display_group=1> (referer: http://playnomore.co.kr/category/shoes/25/)\n",
      "2020-07-03 01:48:39 [scrapy.core.engine] DEBUG: Crawled (200) <GET http://playnomore.co.kr/product/sold-out-winkygirl-color-blocks-2cm-multi/140/?cate_no=25&display_group=1> (referer: http://playnomore.co.kr/category/shoes/25/)\n",
      "2020-07-03 01:48:39 [scrapy.core.engine] DEBUG: Crawled (200) <GET http://playnomore.co.kr/product/sold-out-winkygirl-color-blocks-5cm-rose-gold/18/?cate_no=25&display_group=1> (referer: http://playnomore.co.kr/category/shoes/25/)\n",
      "2020-07-03 01:48:39 [scrapy.core.engine] DEBUG: Crawled (200) <GET http://playnomore.co.kr/product/sold-out-winkygirl-color-blocks-5cm-multi/19/?cate_no=25&display_group=1> (referer: http://playnomore.co.kr/category/shoes/25/)\n",
      "2020-07-03 01:48:39 [scrapy.core.scraper] DEBUG: Scraped from <200 http://playnomore.co.kr/product/sold-out-shygirl-oxford-silver/232/?cate_no=25&display_group=1>\n",
      "{'img': 'http://playnomore.co.kr/web/product/big/201703/232_shop7_426702.jpg',\n",
      " 'link': 'http://playnomore.co.kr/product/sold-out-shygirl-oxford-silver/232/?cate_no=25&display_group=1',\n",
      " 'price': '$ 450',\n",
      " 'title': '[SOLD OUT] SHYGIRL oxford silver'}\n",
      "2020-07-03 01:48:39 [scrapy.core.scraper] DEBUG: Scraped from <200 http://playnomore.co.kr/product/sold-out-shygirl-oxford-gold/233/?cate_no=25&display_group=1>\n",
      "{'img': 'http://playnomore.co.kr/web/product/big/201703/233_shop7_194677.jpg',\n",
      " 'link': 'http://playnomore.co.kr/product/sold-out-shygirl-oxford-gold/233/?cate_no=25&display_group=1',\n",
      " 'price': '$ 450',\n",
      " 'title': '[SOLD OUT] SHYGIRL oxford gold'}\n",
      "2020-07-03 01:48:39 [scrapy.core.scraper] DEBUG: Scraped from <200 http://playnomore.co.kr/product/sold-out-shygirl-oxford-chrome/207/?cate_no=25&display_group=1>\n",
      "{'img': 'http://playnomore.co.kr/web/product/big/201702/207_shop7_312513.jpg',\n",
      " 'link': 'http://playnomore.co.kr/product/sold-out-shygirl-oxford-chrome/207/?cate_no=25&display_group=1',\n",
      " 'price': '$ 450',\n",
      " 'title': '[SOLD OUT] SHYGIRL oxford chrome'}\n",
      "2020-07-03 01:48:39 [scrapy.core.scraper] DEBUG: Scraped from <200 http://playnomore.co.kr/product/sold-out-winkygirl-color-blocks-5cm-silver/21/?cate_no=25&display_group=1>\n",
      "{'img': 'http://playnomore.co.kr/web/product/big/201609/21_shop1_572305.jpg',\n",
      " 'link': 'http://playnomore.co.kr/product/sold-out-winkygirl-color-blocks-5cm-silver/21/?cate_no=25&display_group=1',\n",
      " 'price': '$ 414',\n",
      " 'title': '[SOLD OUT] WINKYGIRL COLOR BLOCKS (5cm) silver'}\n",
      "2020-07-03 01:48:39 [scrapy.core.scraper] DEBUG: Scraped from <200 http://playnomore.co.kr/product/sold-out-winkygirl-color-blocks-2cm-multi/140/?cate_no=25&display_group=1>\n",
      "{'img': 'http://playnomore.co.kr/web/product/big/201701/140_shop7_744641.jpg',\n",
      " 'link': 'http://playnomore.co.kr/product/sold-out-winkygirl-color-blocks-2cm-multi/140/?cate_no=25&display_group=1',\n",
      " 'price': '$ 414',\n",
      " 'title': '[SOLD OUT] WINKYGIRL COLOR BLOCKS (2cm) multi'}\n",
      "2020-07-03 01:48:39 [scrapy.core.scraper] DEBUG: Scraped from <200 http://playnomore.co.kr/product/sold-out-winkygirl-color-blocks-5cm-rose-gold/18/?cate_no=25&display_group=1>\n",
      "{'img': 'http://playnomore.co.kr/web/product/big/201702/18_shop7_183931.jpg',\n",
      " 'link': 'http://playnomore.co.kr/product/sold-out-winkygirl-color-blocks-5cm-rose-gold/18/?cate_no=25&display_group=1',\n",
      " 'price': '$ 414',\n",
      " 'title': '[SOLD OUT] WINKYGIRL COLOR BLOCKS (5cm) rose gold'}\n",
      "2020-07-03 01:48:39 [scrapy.core.scraper] DEBUG: Scraped from <200 http://playnomore.co.kr/product/sold-out-winkygirl-color-blocks-5cm-multi/19/?cate_no=25&display_group=1>\n",
      "{'img': 'http://playnomore.co.kr/web/product/big/201702/19_shop7_561442.jpg',\n",
      " 'link': 'http://playnomore.co.kr/product/sold-out-winkygirl-color-blocks-5cm-multi/19/?cate_no=25&display_group=1',\n",
      " 'price': '$ 414',\n",
      " 'title': '[SOLD OUT] WINKYGIRL COLOR BLOCKS (5cm) multi'}\n",
      "2020-07-03 01:48:39 [scrapy.core.engine] INFO: Closing spider (finished)\n",
      "2020-07-03 01:48:39 [scrapy.extensions.feedexport] INFO: Stored csv feed (15 items) in: playnomore2.csv\n",
      "2020-07-03 01:48:39 [scrapy.statscollectors] INFO: Dumping Scrapy stats:\n",
      "{'downloader/request_bytes': 17611,\n",
      " 'downloader/request_count': 32,\n",
      " 'downloader/request_method_count/GET': 32,\n",
      " 'downloader/response_bytes': 310057,\n",
      " 'downloader/response_count': 32,\n",
      " 'downloader/response_status_count/200': 17,\n",
      " 'downloader/response_status_count/301': 15,\n",
      " 'elapsed_time_seconds': 1.277732,\n",
      " 'finish_reason': 'finished',\n",
      " 'finish_time': datetime.datetime(2020, 7, 3, 1, 48, 39, 499786),\n",
      " 'item_scraped_count': 15,\n",
      " 'log_count/DEBUG': 47,\n",
      " 'log_count/INFO': 11,\n",
      " 'memusage/max': 55087104,\n",
      " 'memusage/startup': 55087104,\n",
      " 'request_depth_max': 1,\n",
      " 'response_received_count': 17,\n",
      " 'robotstxt/request_count': 1,\n",
      " 'robotstxt/response_count': 1,\n",
      " 'robotstxt/response_status_count/200': 1,\n",
      " 'scheduler/dequeued': 31,\n",
      " 'scheduler/dequeued/memory': 31,\n",
      " 'scheduler/enqueued': 31,\n",
      " 'scheduler/enqueued/memory': 31,\n",
      " 'start_time': datetime.datetime(2020, 7, 3, 1, 48, 38, 222054)}\n",
      "2020-07-03 01:48:39 [scrapy.core.engine] INFO: Spider closed (finished)\n"
     ]
    }
   ],
   "source": [
    "!./run.sh"
   ]
  },
  {
   "cell_type": "code",
   "execution_count": 53,
   "metadata": {},
   "outputs": [
    {
     "data": {
      "text/html": [
       "<div>\n",
       "<style scoped>\n",
       "    .dataframe tbody tr th:only-of-type {\n",
       "        vertical-align: middle;\n",
       "    }\n",
       "\n",
       "    .dataframe tbody tr th {\n",
       "        vertical-align: top;\n",
       "    }\n",
       "\n",
       "    .dataframe thead th {\n",
       "        text-align: right;\n",
       "    }\n",
       "</style>\n",
       "<table border=\"1\" class=\"dataframe\">\n",
       "  <thead>\n",
       "    <tr style=\"text-align: right;\">\n",
       "      <th></th>\n",
       "      <th>img</th>\n",
       "      <th>link</th>\n",
       "      <th>price</th>\n",
       "      <th>title</th>\n",
       "    </tr>\n",
       "  </thead>\n",
       "  <tbody>\n",
       "    <tr>\n",
       "      <th>14</th>\n",
       "      <td>http://playnomore.co.kr/web/product/big/201702...</td>\n",
       "      <td>http://playnomore.co.kr/product/sold-out-winky...</td>\n",
       "      <td>$ 414</td>\n",
       "      <td>[SOLD OUT] WINKYGIRL COLOR BLOCKS (5cm) multi</td>\n",
       "    </tr>\n",
       "  </tbody>\n",
       "</table>\n",
       "</div>"
      ],
      "text/plain": [
       "                                                  img  \\\n",
       "14  http://playnomore.co.kr/web/product/big/201702...   \n",
       "\n",
       "                                                 link  price  \\\n",
       "14  http://playnomore.co.kr/product/sold-out-winky...  $ 414   \n",
       "\n",
       "                                            title  \n",
       "14  [SOLD OUT] WINKYGIRL COLOR BLOCKS (5cm) multi  "
      ]
     },
     "execution_count": 53,
     "metadata": {},
     "output_type": "execute_result"
    }
   ],
   "source": [
    "import pandas as pd\n",
    "df = pd.read_csv(\"playnomore/playnomore2.csv\")\n",
    "df.tail(1)"
   ]
  },
  {
   "cell_type": "markdown",
   "metadata": {},
   "source": [
    "#### 6. Mongodb에 저장\n",
    "- pymongo를 piplines.py에 적용"
   ]
  },
  {
   "cell_type": "code",
   "execution_count": 55,
   "metadata": {},
   "outputs": [
    {
     "name": "stdout",
     "output_type": "stream",
     "text": [
      "pymongo               2.8.1       \n",
      "\u001b[33mWARNING: You are using pip version 20.0.2; however, version 20.1.1 is available.\n",
      "You should consider upgrading via the '/home/ubuntu/.pyenv/versions/3.6.9/envs/python3/bin/python3.6 -m pip install --upgrade pip' command.\u001b[0m\n"
     ]
    }
   ],
   "source": [
    "!pip list | grep pymongo"
   ]
  },
  {
   "cell_type": "code",
   "execution_count": 54,
   "metadata": {},
   "outputs": [],
   "source": [
    "import pymongo"
   ]
  },
  {
   "cell_type": "code",
   "execution_count": 57,
   "metadata": {},
   "outputs": [
    {
     "data": {
      "text/plain": [
       "MongoClient('54.180.179.245', 27017)"
      ]
     },
     "execution_count": 57,
     "metadata": {},
     "output_type": "execute_result"
    }
   ],
   "source": [
    "client = pymongo.MongoClient('mongodb://54.180.179.245:27017/')\n",
    "client"
   ]
  },
  {
   "cell_type": "code",
   "execution_count": 58,
   "metadata": {},
   "outputs": [
    {
     "data": {
      "text/plain": [
       "Collection(Database(MongoClient('54.180.179.245', 27017), 'playnomore'), 'shoes')"
      ]
     },
     "execution_count": 58,
     "metadata": {},
     "output_type": "execute_result"
    }
   ],
   "source": [
    "db = client.playnomore\n",
    "collection = db.shoes\n",
    "collection"
   ]
  },
  {
   "cell_type": "code",
   "execution_count": 59,
   "metadata": {},
   "outputs": [
    {
     "data": {
      "text/plain": [
       "ObjectId('5efe91400bf77133c2406b4d')"
      ]
     },
     "execution_count": 59,
     "metadata": {},
     "output_type": "execute_result"
    }
   ],
   "source": [
    "data = {\"title\":\"신발\"}\n",
    "collection.insert(data)"
   ]
  },
  {
   "cell_type": "markdown",
   "metadata": {},
   "source": [
    "##### Mongodb 모듈 파일 생성"
   ]
  },
  {
   "cell_type": "code",
   "execution_count": 60,
   "metadata": {},
   "outputs": [
    {
     "name": "stdout",
     "output_type": "stream",
     "text": [
      "Writing playnomore/playnomore/mongodb.py\n"
     ]
    }
   ],
   "source": [
    "%%writefile playnomore/playnomore/mongodb.py\n",
    "import pymongo\n",
    "\n",
    "client = pymongo.MongoClient('mongodb://54.180.179.245:27017/')\n",
    "db = client.playnomore\n",
    "collection = db.shoes"
   ]
  },
  {
   "cell_type": "code",
   "execution_count": 62,
   "metadata": {},
   "outputs": [
    {
     "name": "stdout",
     "output_type": "stream",
     "text": [
      "cat: writefile: No such file or directory\r\n",
      "# Define your item pipelines here\r\n",
      "#\r\n",
      "# Don't forget to add your pipeline to the ITEM_PIPELINES setting\r\n",
      "# See: https://docs.scrapy.org/en/latest/topics/item-pipeline.html\r\n",
      "\r\n",
      "\r\n",
      "# useful for handling different item types with a single interface\r\n",
      "from itemadapter import ItemAdapter\r\n",
      "\r\n",
      "\r\n",
      "class PlaynomorePipeline:\r\n",
      "    def process_item(self, item, spider):\r\n",
      "        return item\r\n"
     ]
    }
   ],
   "source": [
    "!cat writefile playnomore/playnomore/pipelines.py"
   ]
  },
  {
   "cell_type": "code",
   "execution_count": 71,
   "metadata": {},
   "outputs": [
    {
     "name": "stdout",
     "output_type": "stream",
     "text": [
      "Overwriting playnomore/playnomore/pipelines.py\n"
     ]
    }
   ],
   "source": [
    "%%writefile playnomore/playnomore/pipelines.py\n",
    "from .mongodb import collection\n",
    "\n",
    "class PlaynomorePipeline(object):\n",
    "    \n",
    "    def process_item(self, item, spider):\n",
    "        \n",
    "        data = { \"title\": item[\"title\"], \n",
    "                 \"price\": item[\"price\"],\n",
    "                 \"img\": item[\"img\"], \n",
    "                 \"link\": item[\"link\"],\n",
    "               }\n",
    "        \n",
    "        collection.insert(data)\n",
    "        \n",
    "        return item"
   ]
  },
  {
   "cell_type": "code",
   "execution_count": 64,
   "metadata": {},
   "outputs": [],
   "source": [
    "!echo \"ITEM_PIPELINES = {\" >> playnomore/playnomore/settings.py"
   ]
  },
  {
   "cell_type": "code",
   "execution_count": 65,
   "metadata": {},
   "outputs": [],
   "source": [
    "!echo \"   'playnomore.pipelines.PlaynomorePipeline': 300,\" >> playnomore/playnomore/settings.py"
   ]
  },
  {
   "cell_type": "code",
   "execution_count": 66,
   "metadata": {},
   "outputs": [],
   "source": [
    "!echo \"}\" >> playnomore/playnomore/settings.py"
   ]
  },
  {
   "cell_type": "code",
   "execution_count": 72,
   "metadata": {},
   "outputs": [
    {
     "name": "stdout",
     "output_type": "stream",
     "text": [
      "#HTTPCACHE_IGNORE_HTTP_CODES = []\r\n",
      "#HTTPCACHE_STORAGE = 'scrapy.extensions.httpcache.FilesystemCacheStorage'\r\n",
      "ITEM_PIPELINES = {\r\n",
      "   'playnomore.pipelines.PlaynomorePipeline': 300,\r\n",
      "}\r\n"
     ]
    }
   ],
   "source": [
    "!tail -n 5 playnomore/playnomore/settings.py"
   ]
  },
  {
   "cell_type": "code",
   "execution_count": 73,
   "metadata": {},
   "outputs": [
    {
     "name": "stdout",
     "output_type": "stream",
     "text": [
      "cd playnomore\r\n",
      "scrapy crawl Playnomore -o playnomore2.csv -a category1=shoes -a category2=25\r\n"
     ]
    }
   ],
   "source": [
    "!cat run.sh"
   ]
  },
  {
   "cell_type": "code",
   "execution_count": 74,
   "metadata": {},
   "outputs": [
    {
     "name": "stdout",
     "output_type": "stream",
     "text": [
      "2020-07-03 02:26:28 [scrapy.utils.log] INFO: Scrapy 2.2.0 started (bot: playnomore)\n",
      "2020-07-03 02:26:28 [scrapy.utils.log] INFO: Versions: lxml 4.5.1.0, libxml2 2.9.10, cssselect 1.1.0, parsel 1.6.0, w3lib 1.22.0, Twisted 20.3.0, Python 3.6.9 (default, Apr 15 2020, 12:56:52) - [GCC 7.5.0], pyOpenSSL 19.1.0 (OpenSSL 1.1.1g  21 Apr 2020), cryptography 2.9.2, Platform Linux-5.3.0-1023-aws-x86_64-with-debian-buster-sid\n",
      "2020-07-03 02:26:28 [scrapy.utils.log] DEBUG: Using reactor: twisted.internet.epollreactor.EPollReactor\n",
      "2020-07-03 02:26:28 [scrapy.crawler] INFO: Overridden settings:\n",
      "{'BOT_NAME': 'playnomore',\n",
      " 'NEWSPIDER_MODULE': 'playnomore.spiders',\n",
      " 'ROBOTSTXT_OBEY': True,\n",
      " 'SPIDER_MODULES': ['playnomore.spiders']}\n",
      "2020-07-03 02:26:28 [scrapy.extensions.telnet] INFO: Telnet Password: 9046cbc8b4c40c6d\n",
      "2020-07-03 02:26:28 [scrapy.middleware] INFO: Enabled extensions:\n",
      "['scrapy.extensions.corestats.CoreStats',\n",
      " 'scrapy.extensions.telnet.TelnetConsole',\n",
      " 'scrapy.extensions.memusage.MemoryUsage',\n",
      " 'scrapy.extensions.feedexport.FeedExporter',\n",
      " 'scrapy.extensions.logstats.LogStats']\n",
      "2020-07-03 02:26:28 [scrapy.middleware] INFO: Enabled downloader middlewares:\n",
      "['scrapy.downloadermiddlewares.robotstxt.RobotsTxtMiddleware',\n",
      " 'scrapy.downloadermiddlewares.httpauth.HttpAuthMiddleware',\n",
      " 'scrapy.downloadermiddlewares.downloadtimeout.DownloadTimeoutMiddleware',\n",
      " 'scrapy.downloadermiddlewares.defaultheaders.DefaultHeadersMiddleware',\n",
      " 'scrapy_fake_useragent.middleware.RandomUserAgentMiddleware',\n",
      " 'scrapy.downloadermiddlewares.retry.RetryMiddleware',\n",
      " 'scrapy.downloadermiddlewares.redirect.MetaRefreshMiddleware',\n",
      " 'scrapy.downloadermiddlewares.httpcompression.HttpCompressionMiddleware',\n",
      " 'scrapy.downloadermiddlewares.redirect.RedirectMiddleware',\n",
      " 'scrapy.downloadermiddlewares.cookies.CookiesMiddleware',\n",
      " 'scrapy.downloadermiddlewares.httpproxy.HttpProxyMiddleware',\n",
      " 'scrapy.downloadermiddlewares.stats.DownloaderStats']\n",
      "2020-07-03 02:26:28 [scrapy.middleware] INFO: Enabled spider middlewares:\n",
      "['scrapy.spidermiddlewares.httperror.HttpErrorMiddleware',\n",
      " 'scrapy.spidermiddlewares.offsite.OffsiteMiddleware',\n",
      " 'scrapy.spidermiddlewares.referer.RefererMiddleware',\n",
      " 'scrapy.spidermiddlewares.urllength.UrlLengthMiddleware',\n",
      " 'scrapy.spidermiddlewares.depth.DepthMiddleware']\n",
      "2020-07-03 02:26:28 [scrapy.middleware] INFO: Enabled item pipelines:\n",
      "['playnomore.pipelines.PlaynomorePipeline']\n",
      "2020-07-03 02:26:28 [scrapy.core.engine] INFO: Spider opened\n",
      "2020-07-03 02:26:28 [scrapy.extensions.logstats] INFO: Crawled 0 pages (at 0 pages/min), scraped 0 items (at 0 items/min)\n",
      "2020-07-03 02:26:28 [scrapy.extensions.telnet] INFO: Telnet console listening on 127.0.0.1:6023\n",
      "2020-07-03 02:26:28 [scrapy.core.engine] DEBUG: Crawled (200) <GET http://playnomore.co.kr/robots.txt> (referer: None)\n",
      "2020-07-03 02:26:28 [scrapy.core.engine] DEBUG: Crawled (200) <GET http://playnomore.co.kr/category/shoes/25/> (referer: None)\n",
      "2020-07-03 02:26:28 [scrapy.downloadermiddlewares.redirect] DEBUG: Redirecting (301) to <GET http://playnomore.co.kr/product/sold-out-shy-friends-oxford-black/181/?cate_no=25&display_group=1> from <GET http://playnomore.co.kr/product/detail.html?product_no=181&cate_no=25&display_group=1>\n",
      "2020-07-03 02:26:28 [scrapy.downloadermiddlewares.redirect] DEBUG: Redirecting (301) to <GET http://playnomore.co.kr/product/sold-out-winkygirl-color-blocks-metallic-navy-5cm/20/?cate_no=25&display_group=1> from <GET http://playnomore.co.kr/product/detail.html?product_no=20&cate_no=25&display_group=1>\n",
      "2020-07-03 02:26:28 [scrapy.downloadermiddlewares.redirect] DEBUG: Redirecting (301) to <GET http://playnomore.co.kr/product/sold-out-kiss-me-deep-green/23/?cate_no=25&display_group=1> from <GET http://playnomore.co.kr/product/detail.html?product_no=23&cate_no=25&display_group=1>\n",
      "2020-07-03 02:26:28 [scrapy.downloadermiddlewares.redirect] DEBUG: Redirecting (301) to <GET http://playnomore.co.kr/product/sold-out-shy-lip-bloafer-champagne-gold/305/?cate_no=25&display_group=1> from <GET http://playnomore.co.kr/product/detail.html?product_no=305&cate_no=25&display_group=1>\n",
      "2020-07-03 02:26:28 [scrapy.downloadermiddlewares.redirect] DEBUG: Redirecting (301) to <GET http://playnomore.co.kr/product/sold-out-kiss-me-pink-beige/22/?cate_no=25&display_group=1> from <GET http://playnomore.co.kr/product/detail.html?product_no=22&cate_no=25&display_group=1>\n",
      "2020-07-03 02:26:28 [scrapy.downloadermiddlewares.redirect] DEBUG: Redirecting (301) to <GET http://playnomore.co.kr/product/sold-out-winkygirl-color-blocks-2cm-multi/140/?cate_no=25&display_group=1> from <GET http://playnomore.co.kr/product/detail.html?product_no=140&cate_no=25&display_group=1>\n",
      "2020-07-03 02:26:28 [scrapy.downloadermiddlewares.redirect] DEBUG: Redirecting (301) to <GET http://playnomore.co.kr/product/sold-out-winkygirl-color-blocks-5cm-metallic-pink/137/?cate_no=25&display_group=1> from <GET http://playnomore.co.kr/product/detail.html?product_no=137&cate_no=25&display_group=1>\n",
      "2020-07-03 02:26:28 [scrapy.downloadermiddlewares.redirect] DEBUG: Redirecting (301) to <GET http://playnomore.co.kr/product/sold-out-winkygirl-color-blocks-2cm-black/138/?cate_no=25&display_group=1> from <GET http://playnomore.co.kr/product/detail.html?product_no=138&cate_no=25&display_group=1>\n",
      "2020-07-03 02:26:28 [scrapy.downloadermiddlewares.redirect] DEBUG: Redirecting (301) to <GET http://playnomore.co.kr/product/sold-out-shy-lip-bloafer-chrome/304/?cate_no=25&display_group=1> from <GET http://playnomore.co.kr/product/detail.html?product_no=304&cate_no=25&display_group=1>\n",
      "2020-07-03 02:26:28 [scrapy.downloadermiddlewares.redirect] DEBUG: Redirecting (301) to <GET http://playnomore.co.kr/product/sold-out-winkygirl-color-blocks-5cm-silver/21/?cate_no=25&display_group=1> from <GET http://playnomore.co.kr/product/detail.html?product_no=21&cate_no=25&display_group=1>\n",
      "2020-07-03 02:26:28 [scrapy.downloadermiddlewares.redirect] DEBUG: Redirecting (301) to <GET http://playnomore.co.kr/product/sold-out-winkygirl-color-blocks-5cm-multi/19/?cate_no=25&display_group=1> from <GET http://playnomore.co.kr/product/detail.html?product_no=19&cate_no=25&display_group=1>\n",
      "2020-07-03 02:26:28 [scrapy.downloadermiddlewares.redirect] DEBUG: Redirecting (301) to <GET http://playnomore.co.kr/product/sold-out-winkygirl-color-blocks-5cm-rose-gold/18/?cate_no=25&display_group=1> from <GET http://playnomore.co.kr/product/detail.html?product_no=18&cate_no=25&display_group=1>\n",
      "2020-07-03 02:26:28 [scrapy.downloadermiddlewares.redirect] DEBUG: Redirecting (301) to <GET http://playnomore.co.kr/product/sold-out-shygirl-oxford-chrome/207/?cate_no=25&display_group=1> from <GET http://playnomore.co.kr/product/detail.html?product_no=207&cate_no=25&display_group=1>\n",
      "2020-07-03 02:26:28 [scrapy.downloadermiddlewares.redirect] DEBUG: Redirecting (301) to <GET http://playnomore.co.kr/product/sold-out-shygirl-oxford-silver/232/?cate_no=25&display_group=1> from <GET http://playnomore.co.kr/product/detail.html?product_no=232&cate_no=25&display_group=1>\n",
      "2020-07-03 02:26:28 [scrapy.downloadermiddlewares.redirect] DEBUG: Redirecting (301) to <GET http://playnomore.co.kr/product/sold-out-shygirl-oxford-gold/233/?cate_no=25&display_group=1> from <GET http://playnomore.co.kr/product/detail.html?product_no=233&cate_no=25&display_group=1>\n",
      "2020-07-03 02:26:29 [scrapy.core.engine] DEBUG: Crawled (200) <GET http://playnomore.co.kr/product/sold-out-winkygirl-color-blocks-5cm-metallic-pink/137/?cate_no=25&display_group=1> (referer: http://playnomore.co.kr/category/shoes/25/)\n",
      "2020-07-03 02:26:29 [scrapy.core.engine] DEBUG: Crawled (200) <GET http://playnomore.co.kr/product/sold-out-winkygirl-color-blocks-2cm-multi/140/?cate_no=25&display_group=1> (referer: http://playnomore.co.kr/category/shoes/25/)\n",
      "2020-07-03 02:26:29 [scrapy.core.engine] DEBUG: Crawled (200) <GET http://playnomore.co.kr/product/sold-out-kiss-me-pink-beige/22/?cate_no=25&display_group=1> (referer: http://playnomore.co.kr/category/shoes/25/)\n",
      "2020-07-03 02:26:29 [scrapy.core.engine] DEBUG: Crawled (200) <GET http://playnomore.co.kr/product/sold-out-winkygirl-color-blocks-metallic-navy-5cm/20/?cate_no=25&display_group=1> (referer: http://playnomore.co.kr/category/shoes/25/)\n",
      "2020-07-03 02:26:29 [scrapy.core.engine] DEBUG: Crawled (200) <GET http://playnomore.co.kr/product/sold-out-shy-friends-oxford-black/181/?cate_no=25&display_group=1> (referer: http://playnomore.co.kr/category/shoes/25/)\n",
      "2020-07-03 02:26:29 [scrapy.core.engine] DEBUG: Crawled (200) <GET http://playnomore.co.kr/product/sold-out-kiss-me-deep-green/23/?cate_no=25&display_group=1> (referer: http://playnomore.co.kr/category/shoes/25/)\n",
      "2020-07-03 02:26:29 [scrapy.core.engine] DEBUG: Crawled (200) <GET http://playnomore.co.kr/product/sold-out-shy-lip-bloafer-champagne-gold/305/?cate_no=25&display_group=1> (referer: http://playnomore.co.kr/category/shoes/25/)\n",
      "2020-07-03 02:26:29 [scrapy.core.engine] DEBUG: Crawled (200) <GET http://playnomore.co.kr/product/sold-out-winkygirl-color-blocks-2cm-black/138/?cate_no=25&display_group=1> (referer: http://playnomore.co.kr/category/shoes/25/)\n",
      "2020-07-03 02:26:29 [scrapy.core.scraper] DEBUG: Scraped from <200 http://playnomore.co.kr/product/sold-out-winkygirl-color-blocks-5cm-metallic-pink/137/?cate_no=25&display_group=1>\n",
      "{'img': 'http://playnomore.co.kr/web/product/big/201701/137_shop7_918095.jpg',\n",
      " 'link': 'http://playnomore.co.kr/product/sold-out-winkygirl-color-blocks-5cm-metallic-pink/137/?cate_no=25&display_group=1',\n",
      " 'price': '$ 414',\n",
      " 'title': '[SOLD OUT] WINKYGIRL COLOR BLOCKS (5cm) metallic pink'}\n",
      "2020-07-03 02:26:29 [scrapy.core.scraper] DEBUG: Scraped from <200 http://playnomore.co.kr/product/sold-out-winkygirl-color-blocks-2cm-multi/140/?cate_no=25&display_group=1>\n",
      "{'img': 'http://playnomore.co.kr/web/product/big/201701/140_shop7_744641.jpg',\n",
      " 'link': 'http://playnomore.co.kr/product/sold-out-winkygirl-color-blocks-2cm-multi/140/?cate_no=25&display_group=1',\n",
      " 'price': '$ 414',\n",
      " 'title': '[SOLD OUT] WINKYGIRL COLOR BLOCKS (2cm) multi'}\n",
      "2020-07-03 02:26:29 [scrapy.core.scraper] DEBUG: Scraped from <200 http://playnomore.co.kr/product/sold-out-kiss-me-pink-beige/22/?cate_no=25&display_group=1>\n",
      "{'img': 'http://playnomore.co.kr/web/product/big/201702/22_shop7_242463.jpg',\n",
      " 'link': 'http://playnomore.co.kr/product/sold-out-kiss-me-pink-beige/22/?cate_no=25&display_group=1',\n",
      " 'price': '$ 450',\n",
      " 'title': '[SOLD OUT] KISS ME pink beige'}\n",
      "2020-07-03 02:26:29 [scrapy.core.scraper] DEBUG: Scraped from <200 http://playnomore.co.kr/product/sold-out-winkygirl-color-blocks-metallic-navy-5cm/20/?cate_no=25&display_group=1>\n",
      "{'img': 'http://playnomore.co.kr/web/product/big/201609/20_shop7_178984.jpg',\n",
      " 'link': 'http://playnomore.co.kr/product/sold-out-winkygirl-color-blocks-metallic-navy-5cm/20/?cate_no=25&display_group=1',\n",
      " 'price': '$ 414',\n",
      " 'title': '[SOLD OUT] WINKYGIRL COLOR BLOCKS metallic navy (5cm)'}\n",
      "2020-07-03 02:26:29 [scrapy.core.scraper] DEBUG: Scraped from <200 http://playnomore.co.kr/product/sold-out-shy-friends-oxford-black/181/?cate_no=25&display_group=1>\n",
      "{'img': 'http://playnomore.co.kr/web/product/big/201702/181_shop7_374071.jpg',\n",
      " 'link': 'http://playnomore.co.kr/product/sold-out-shy-friends-oxford-black/181/?cate_no=25&display_group=1',\n",
      " 'price': '$ 450',\n",
      " 'title': '[SOLD OUT] SHY FRIENDS oxford black'}\n",
      "2020-07-03 02:26:29 [scrapy.core.scraper] DEBUG: Scraped from <200 http://playnomore.co.kr/product/sold-out-kiss-me-deep-green/23/?cate_no=25&display_group=1>\n",
      "{'img': 'http://playnomore.co.kr/web/product/big/201702/23_shop7_151870.jpg',\n",
      " 'link': 'http://playnomore.co.kr/product/sold-out-kiss-me-deep-green/23/?cate_no=25&display_group=1',\n",
      " 'price': '$ 450',\n",
      " 'title': '[SOLD OUT] KISS ME deep green'}\n",
      "2020-07-03 02:26:29 [scrapy.core.scraper] DEBUG: Scraped from <200 http://playnomore.co.kr/product/sold-out-shy-lip-bloafer-champagne-gold/305/?cate_no=25&display_group=1>\n",
      "{'img': 'http://playnomore.co.kr/web/product/big/201706/305_shop7_443176.jpg',\n",
      " 'link': 'http://playnomore.co.kr/product/sold-out-shy-lip-bloafer-champagne-gold/305/?cate_no=25&display_group=1',\n",
      " 'price': '$ 480',\n",
      " 'title': '[SOLD OUT] SHY LIP bloafer champagne gold'}\n",
      "2020-07-03 02:26:29 [scrapy.core.scraper] DEBUG: Scraped from <200 http://playnomore.co.kr/product/sold-out-winkygirl-color-blocks-2cm-black/138/?cate_no=25&display_group=1>\n",
      "{'img': 'http://playnomore.co.kr/web/product/big/201701/138_shop7_619644.jpg',\n",
      " 'link': 'http://playnomore.co.kr/product/sold-out-winkygirl-color-blocks-2cm-black/138/?cate_no=25&display_group=1',\n",
      " 'price': '$ 414',\n",
      " 'title': '[SOLD OUT] WINKYGIRL COLOR BLOCKS  (2cm) black'}\n",
      "2020-07-03 02:26:29 [scrapy.core.engine] DEBUG: Crawled (200) <GET http://playnomore.co.kr/product/sold-out-shygirl-oxford-silver/232/?cate_no=25&display_group=1> (referer: http://playnomore.co.kr/category/shoes/25/)\n",
      "2020-07-03 02:26:29 [scrapy.core.engine] DEBUG: Crawled (200) <GET http://playnomore.co.kr/product/sold-out-shy-lip-bloafer-chrome/304/?cate_no=25&display_group=1> (referer: http://playnomore.co.kr/category/shoes/25/)\n",
      "2020-07-03 02:26:29 [scrapy.core.engine] DEBUG: Crawled (200) <GET http://playnomore.co.kr/product/sold-out-winkygirl-color-blocks-5cm-rose-gold/18/?cate_no=25&display_group=1> (referer: http://playnomore.co.kr/category/shoes/25/)\n",
      "2020-07-03 02:26:29 [scrapy.core.engine] DEBUG: Crawled (200) <GET http://playnomore.co.kr/product/sold-out-shygirl-oxford-chrome/207/?cate_no=25&display_group=1> (referer: http://playnomore.co.kr/category/shoes/25/)\n",
      "2020-07-03 02:26:29 [scrapy.core.engine] DEBUG: Crawled (200) <GET http://playnomore.co.kr/product/sold-out-winkygirl-color-blocks-5cm-silver/21/?cate_no=25&display_group=1> (referer: http://playnomore.co.kr/category/shoes/25/)\n",
      "2020-07-03 02:26:29 [scrapy.core.engine] DEBUG: Crawled (200) <GET http://playnomore.co.kr/product/sold-out-winkygirl-color-blocks-5cm-multi/19/?cate_no=25&display_group=1> (referer: http://playnomore.co.kr/category/shoes/25/)\n",
      "2020-07-03 02:26:29 [scrapy.core.engine] DEBUG: Crawled (200) <GET http://playnomore.co.kr/product/sold-out-shygirl-oxford-gold/233/?cate_no=25&display_group=1> (referer: http://playnomore.co.kr/category/shoes/25/)\n",
      "2020-07-03 02:26:29 [scrapy.core.scraper] DEBUG: Scraped from <200 http://playnomore.co.kr/product/sold-out-shygirl-oxford-silver/232/?cate_no=25&display_group=1>\n",
      "{'img': 'http://playnomore.co.kr/web/product/big/201703/232_shop7_426702.jpg',\n",
      " 'link': 'http://playnomore.co.kr/product/sold-out-shygirl-oxford-silver/232/?cate_no=25&display_group=1',\n",
      " 'price': '$ 450',\n",
      " 'title': '[SOLD OUT] SHYGIRL oxford silver'}\n",
      "2020-07-03 02:26:29 [scrapy.core.scraper] DEBUG: Scraped from <200 http://playnomore.co.kr/product/sold-out-shy-lip-bloafer-chrome/304/?cate_no=25&display_group=1>\n",
      "{'img': 'http://playnomore.co.kr/web/product/big/201706/304_shop7_862848.jpg',\n",
      " 'link': 'http://playnomore.co.kr/product/sold-out-shy-lip-bloafer-chrome/304/?cate_no=25&display_group=1',\n",
      " 'price': '$ 480',\n",
      " 'title': '[SOLD OUT] SHY LIP bloafer chrome'}\n",
      "2020-07-03 02:26:29 [scrapy.core.scraper] DEBUG: Scraped from <200 http://playnomore.co.kr/product/sold-out-winkygirl-color-blocks-5cm-rose-gold/18/?cate_no=25&display_group=1>\n",
      "{'img': 'http://playnomore.co.kr/web/product/big/201702/18_shop7_183931.jpg',\n",
      " 'link': 'http://playnomore.co.kr/product/sold-out-winkygirl-color-blocks-5cm-rose-gold/18/?cate_no=25&display_group=1',\n",
      " 'price': '$ 414',\n",
      " 'title': '[SOLD OUT] WINKYGIRL COLOR BLOCKS (5cm) rose gold'}\n",
      "2020-07-03 02:26:29 [scrapy.core.scraper] DEBUG: Scraped from <200 http://playnomore.co.kr/product/sold-out-shygirl-oxford-chrome/207/?cate_no=25&display_group=1>\n",
      "{'img': 'http://playnomore.co.kr/web/product/big/201702/207_shop7_312513.jpg',\n",
      " 'link': 'http://playnomore.co.kr/product/sold-out-shygirl-oxford-chrome/207/?cate_no=25&display_group=1',\n",
      " 'price': '$ 450',\n",
      " 'title': '[SOLD OUT] SHYGIRL oxford chrome'}\n",
      "2020-07-03 02:26:29 [scrapy.core.scraper] DEBUG: Scraped from <200 http://playnomore.co.kr/product/sold-out-winkygirl-color-blocks-5cm-silver/21/?cate_no=25&display_group=1>\n",
      "{'img': 'http://playnomore.co.kr/web/product/big/201609/21_shop1_572305.jpg',\n",
      " 'link': 'http://playnomore.co.kr/product/sold-out-winkygirl-color-blocks-5cm-silver/21/?cate_no=25&display_group=1',\n",
      " 'price': '$ 414',\n",
      " 'title': '[SOLD OUT] WINKYGIRL COLOR BLOCKS (5cm) silver'}\n",
      "2020-07-03 02:26:29 [scrapy.core.scraper] DEBUG: Scraped from <200 http://playnomore.co.kr/product/sold-out-winkygirl-color-blocks-5cm-multi/19/?cate_no=25&display_group=1>\n",
      "{'img': 'http://playnomore.co.kr/web/product/big/201702/19_shop7_561442.jpg',\n",
      " 'link': 'http://playnomore.co.kr/product/sold-out-winkygirl-color-blocks-5cm-multi/19/?cate_no=25&display_group=1',\n",
      " 'price': '$ 414',\n",
      " 'title': '[SOLD OUT] WINKYGIRL COLOR BLOCKS (5cm) multi'}\n",
      "2020-07-03 02:26:29 [scrapy.core.scraper] DEBUG: Scraped from <200 http://playnomore.co.kr/product/sold-out-shygirl-oxford-gold/233/?cate_no=25&display_group=1>\n",
      "{'img': 'http://playnomore.co.kr/web/product/big/201703/233_shop7_194677.jpg',\n",
      " 'link': 'http://playnomore.co.kr/product/sold-out-shygirl-oxford-gold/233/?cate_no=25&display_group=1',\n",
      " 'price': '$ 450',\n",
      " 'title': '[SOLD OUT] SHYGIRL oxford gold'}\n",
      "2020-07-03 02:26:29 [scrapy.core.engine] INFO: Closing spider (finished)\n",
      "2020-07-03 02:26:29 [scrapy.extensions.feedexport] INFO: Stored csv feed (15 items) in: playnomore2.csv\n",
      "2020-07-03 02:26:29 [scrapy.statscollectors] INFO: Dumping Scrapy stats:\n",
      "{'downloader/request_bytes': 17646,\n",
      " 'downloader/request_count': 32,\n",
      " 'downloader/request_method_count/GET': 32,\n",
      " 'downloader/response_bytes': 310186,\n",
      " 'downloader/response_count': 32,\n",
      " 'downloader/response_status_count/200': 17,\n",
      " 'downloader/response_status_count/301': 15,\n",
      " 'elapsed_time_seconds': 1.338905,\n",
      " 'finish_reason': 'finished',\n",
      " 'finish_time': datetime.datetime(2020, 7, 3, 2, 26, 29, 531831),\n",
      " 'item_scraped_count': 15,\n",
      " 'log_count/DEBUG': 47,\n",
      " 'log_count/INFO': 11,\n",
      " 'memusage/max': 56516608,\n",
      " 'memusage/startup': 56516608,\n",
      " 'request_depth_max': 1,\n",
      " 'response_received_count': 17,\n",
      " 'robotstxt/request_count': 1,\n",
      " 'robotstxt/response_count': 1,\n",
      " 'robotstxt/response_status_count/200': 1,\n",
      " 'scheduler/dequeued': 31,\n",
      " 'scheduler/dequeued/memory': 31,\n",
      " 'scheduler/enqueued': 31,\n",
      " 'scheduler/enqueued/memory': 31,\n",
      " 'start_time': datetime.datetime(2020, 7, 3, 2, 26, 28, 192926)}\n",
      "2020-07-03 02:26:29 [scrapy.core.engine] INFO: Spider closed (finished)\n"
     ]
    }
   ],
   "source": [
    "!./run.sh"
   ]
  },
  {
   "cell_type": "code",
   "execution_count": null,
   "metadata": {},
   "outputs": [],
   "source": []
  }
 ],
 "metadata": {
  "kernelspec": {
   "display_name": "Python 3",
   "language": "python",
   "name": "python3"
  },
  "language_info": {
   "codemirror_mode": {
    "name": "ipython",
    "version": 3
   },
   "file_extension": ".py",
   "mimetype": "text/x-python",
   "name": "python",
   "nbconvert_exporter": "python",
   "pygments_lexer": "ipython3",
   "version": "3.6.9"
  }
 },
 "nbformat": 4,
 "nbformat_minor": 2
}
