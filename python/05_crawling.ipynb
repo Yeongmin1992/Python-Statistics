{
 "cells": [
  {
   "cell_type": "markdown",
   "metadata": {},
   "source": [
    "### web crawling\n",
    "- 1. requests : json : 동적페이지(URL의 변경 없이 데이터를 수정 및 추가)\n",
    "- 2. requests : html : 정적페이지(URL 변경으로 데이터를 수정 및 추가)\n",
    "- 3. selenium : web browser : 1, 2번 방법을 사용하지 못 할 때 사용"
   ]
  },
  {
   "cell_type": "markdown",
   "metadata": {},
   "source": [
    "#### 1. 네이버 주식 데이터 크롤링\n",
    "- 코스피 데이터 수집\n",
    "- 코스닥 데이터 수집\n",
    "- USD 환율 데이터 수집\n",
    "- 그래프, 상관계수 확인"
   ]
  },
  {
   "cell_type": "markdown",
   "metadata": {},
   "source": [
    "#### 크롤링 절차\n",
    "\n",
    "    - 1. 웹 서비스 분석 : URL 확인\n",
    "    - 2. request, response : json 데이터(문자열) 얻기\n",
    "    - 3. json 데이터(문자열) -> dict(파싱) -> 데이터 프레임 "
   ]
  },
  {
   "cell_type": "code",
   "execution_count": 1,
   "metadata": {},
   "outputs": [],
   "source": [
    "import requests"
   ]
  },
  {
   "cell_type": "markdown",
   "metadata": {},
   "source": [
    "네이버 주식에서 더보기를 눌러와서 자료를 더 불러와도 url이 \n",
    "변하지 않는다. > 동적페이지"
   ]
  },
  {
   "cell_type": "markdown",
   "metadata": {},
   "source": [
    "- m.stock.naver.com(모바일 화면에 가져오기 더 쉬움) > 국내 > 코스피 >개발자도구 > 네트워크 > XHR(JSON포맷으로 된 애들만 봄) >  \n",
    "더보기 > 방식은 get 방식, status 200(정상), ip, user agent 부분을 잘 봐야함(내가 어떤 os, browser를 사용했는지)\n",
    "> "
   ]
  },
  {
   "cell_type": "code",
   "execution_count": 8,
   "metadata": {},
   "outputs": [
    {
     "data": {
      "text/plain": [
       "'https://m.stock.naver.com/api/json/sise/dailySiseIndexListJson.nhn?code=KOSPI&pageSize=20&page=1'"
      ]
     },
     "execution_count": 8,
     "metadata": {},
     "output_type": "execute_result"
    }
   ],
   "source": [
    "# 1. 웹서비스 분석 : URL 찾기\n",
    "code, page_size, page = \"KOSPI\", 20, 1       #page_size는 데이터 수\n",
    "\n",
    "url = \"https://m.stock.naver.com/api/json/sise/dailySiseIndexListJson.nhn?\\\n",
    "code={}&pageSize={}&page={}\".format(code, page_size, page)\n",
    "\n",
    "url"
   ]
  },
  {
   "cell_type": "code",
   "execution_count": 9,
   "metadata": {},
   "outputs": [
    {
     "name": "stdout",
     "output_type": "stream",
     "text": [
      "https://m.stock.naver.com/api/json/sise/dailySiseIndexListJson.nhn?code=KOSPI&pageSize=20&page=1\n"
     ]
    }
   ],
   "source": [
    "print(url)"
   ]
  },
  {
   "cell_type": "code",
   "execution_count": 12,
   "metadata": {},
   "outputs": [
    {
     "data": {
      "text/plain": [
       "<Response [200]>"
      ]
     },
     "execution_count": 12,
     "metadata": {},
     "output_type": "execute_result"
    }
   ],
   "source": [
    "# 2. request, response : JSON(str)\n",
    "response = requests.get(url)\n",
    "response"
   ]
  },
  {
   "cell_type": "code",
   "execution_count": 16,
   "metadata": {},
   "outputs": [
    {
     "data": {
      "text/plain": [
       "str"
      ]
     },
     "execution_count": 16,
     "metadata": {},
     "output_type": "execute_result"
    }
   ],
   "source": [
    "type(response.text)"
   ]
  },
  {
   "cell_type": "code",
   "execution_count": 15,
   "metadata": {},
   "outputs": [
    {
     "data": {
      "text/plain": [
       "'{\"result\":{\"siseList\":[{\"cd\":\"KOSPI\",\"dt\":\"20200619\",\"ncv\":2141.32,\"cv\":7.84,\"cr\":0.37,\"ov\":2153.09,\"hv\":2153.57,\"lv\":2108.91},{\"cd\":\"KOSPI\",\"dt\":\"20200618\",\"ncv\":2133.48,\"cv\":-7.57,\"cr\":-0.35,\"ov\":2134.35,\"hv\":2145.13,\"lv\":2120.29},{\"cd\":\"KOSPI\",\"dt\":\"20200617\",\"ncv\":2141.05,\"cv\":3.0,\"cr\":0.14,\"ov\":2133.18,\"hv\":2154.37,\"lv\":2105.26},{\"cd\":\"KOSPI\",\"dt\":\"20200616\",\"ncv\":2138.05,\"cv\":107.23,\"cr\":5.28,\"ov\":2091.09,\"hv\":2138.08,\"lv\":2079.02},{\"cd\":\"KOSPI\",\"dt\":\"20200615\",\"ncv\":2030.82,\"cv\":-101.48,\"cr\":-4.76,\"ov\":2114.41,\"hv\":2129.67,\"lv\":2030.82},{\"cd\":\"KOSPI\",\"dt\":\"20200612\",\"ncv\":2132.3,\"cv\":-44.48,\"cr\":-2.04,\"ov\":2088.24,\"hv\":2137.12,\"lv\":2084.63},{\"cd\":\"KOSPI\",\"dt\":\"20200611\",\"ncv\":2176.78,\"cv\":-18.91,\"cr\":-0.86,\"ov\":2184.36,\"hv\":2200.72,\"lv\":2148.51},{\"cd\":\"KOSPI\",\"dt\":\"20200610\",\"ncv\":2195.69,\"cv\":6.77,\"cr\":0.31,\"ov\":2187.91,\"hv\":2200.68,\"lv\":2178.12},{\"cd\":\"KOSPI\",\"dt\":\"20200609\",\"ncv\":2188.92,\"cv\":4.63,\"cr\":0.21,\"ov\":2206.23,\"hv\":2212.17,\"lv\":2166.01},{\"cd\":\"KOSPI\",\"dt\":\"20200608\",\"ncv\":2184.29,\"cv\":2.42,\"cr\":0.11,\"ov\":2215.6,\"hv\":2217.21,\"lv\":2174.96},{\"cd\":\"KOSPI\",\"dt\":\"20200605\",\"ncv\":2181.87,\"cv\":30.69,\"cr\":1.43,\"ov\":2151.17,\"hv\":2187.25,\"lv\":2138.18},{\"cd\":\"KOSPI\",\"dt\":\"20200604\",\"ncv\":2151.18,\"cv\":4.18,\"cr\":0.19,\"ov\":2181.64,\"hv\":2191.0,\"lv\":2139.68},{\"cd\":\"KOSPI\",\"dt\":\"20200603\",\"ncv\":2147.0,\"cv\":59.81,\"cr\":2.87,\"ov\":2108.55,\"hv\":2156.55,\"lv\":2107.69},{\"cd\":\"KOSPI\",\"dt\":\"20200602\",\"ncv\":2087.19,\"cv\":22.11,\"cr\":1.07,\"ov\":2061.45,\"hv\":2089.43,\"lv\":2059.14},{\"cd\":\"KOSPI\",\"dt\":\"20200601\",\"ncv\":2065.08,\"cv\":35.48,\"cr\":1.75,\"ov\":2037.04,\"hv\":2065.38,\"lv\":2035.63},{\"cd\":\"KOSPI\",\"dt\":\"20200529\",\"ncv\":2029.6,\"cv\":1.06,\"cr\":0.05,\"ov\":2018.37,\"hv\":2038.89,\"lv\":2006.62},{\"cd\":\"KOSPI\",\"dt\":\"20200528\",\"ncv\":2028.54,\"cv\":-2.66,\"cr\":-0.13,\"ov\":2047.08,\"hv\":2054.52,\"lv\":2003.75},{\"cd\":\"KOSPI\",\"dt\":\"20200527\",\"ncv\":2031.2,\"cv\":1.42,\"cr\":0.07,\"ov\":2027.9,\"hv\":2043.44,\"lv\":2019.82},{\"cd\":\"KOSPI\",\"dt\":\"20200526\",\"ncv\":2029.78,\"cv\":35.18,\"cr\":1.76,\"ov\":2001.0,\"hv\":2029.89,\"lv\":1997.94},{\"cd\":\"KOSPI\",\"dt\":\"20200525\",\"ncv\":1994.6,\"cv\":24.47,\"cr\":1.24,\"ov\":1980.51,\"hv\":1994.9,\"lv\":1967.84}]},\"resultCode\":\"success\"}'"
      ]
     },
     "execution_count": 15,
     "metadata": {},
     "output_type": "execute_result"
    }
   ],
   "source": [
    "# 3. JSON(str) -> JSON(dict) -> DF\n",
    "response.text #response 객체 안에 text라는 변수 안에 아래의 문자열이 있는 것"
   ]
  },
  {
   "cell_type": "code",
   "execution_count": 19,
   "metadata": {},
   "outputs": [
    {
     "data": {
      "text/plain": [
       "dict"
      ]
     },
     "execution_count": 19,
     "metadata": {},
     "output_type": "execute_result"
    }
   ],
   "source": [
    "type(response.json())"
   ]
  },
  {
   "cell_type": "code",
   "execution_count": 22,
   "metadata": {},
   "outputs": [
    {
     "data": {
      "text/plain": [
       "{'result': {'siseList': [{'cd': 'KOSPI',\n",
       "    'dt': '20200619',\n",
       "    'ncv': 2141.32,\n",
       "    'cv': 7.84,\n",
       "    'cr': 0.37,\n",
       "    'ov': 2153.09,\n",
       "    'hv': 2153.57,\n",
       "    'lv': 2108.91},\n",
       "   {'cd': 'KOSPI',\n",
       "    'dt': '20200618',\n",
       "    'ncv': 2133.48,\n",
       "    'cv': -7.57,\n",
       "    'cr': -0.35,\n",
       "    'ov': 2134.35,\n",
       "    'hv': 2145.13,\n",
       "    'lv': 2120.29},\n",
       "   {'cd': 'KOSPI',\n",
       "    'dt': '20200617',\n",
       "    'ncv': 2141.05,\n",
       "    'cv': 3.0,\n",
       "    'cr': 0.14,\n",
       "    'ov': 2133.18,\n",
       "    'hv': 2154.37,\n",
       "    'lv': 2105.26},\n",
       "   {'cd': 'KOSPI',\n",
       "    'dt': '20200616',\n",
       "    'ncv': 2138.05,\n",
       "    'cv': 107.23,\n",
       "    'cr': 5.28,\n",
       "    'ov': 2091.09,\n",
       "    'hv': 2138.08,\n",
       "    'lv': 2079.02},\n",
       "   {'cd': 'KOSPI',\n",
       "    'dt': '20200615',\n",
       "    'ncv': 2030.82,\n",
       "    'cv': -101.48,\n",
       "    'cr': -4.76,\n",
       "    'ov': 2114.41,\n",
       "    'hv': 2129.67,\n",
       "    'lv': 2030.82},\n",
       "   {'cd': 'KOSPI',\n",
       "    'dt': '20200612',\n",
       "    'ncv': 2132.3,\n",
       "    'cv': -44.48,\n",
       "    'cr': -2.04,\n",
       "    'ov': 2088.24,\n",
       "    'hv': 2137.12,\n",
       "    'lv': 2084.63},\n",
       "   {'cd': 'KOSPI',\n",
       "    'dt': '20200611',\n",
       "    'ncv': 2176.78,\n",
       "    'cv': -18.91,\n",
       "    'cr': -0.86,\n",
       "    'ov': 2184.36,\n",
       "    'hv': 2200.72,\n",
       "    'lv': 2148.51},\n",
       "   {'cd': 'KOSPI',\n",
       "    'dt': '20200610',\n",
       "    'ncv': 2195.69,\n",
       "    'cv': 6.77,\n",
       "    'cr': 0.31,\n",
       "    'ov': 2187.91,\n",
       "    'hv': 2200.68,\n",
       "    'lv': 2178.12},\n",
       "   {'cd': 'KOSPI',\n",
       "    'dt': '20200609',\n",
       "    'ncv': 2188.92,\n",
       "    'cv': 4.63,\n",
       "    'cr': 0.21,\n",
       "    'ov': 2206.23,\n",
       "    'hv': 2212.17,\n",
       "    'lv': 2166.01},\n",
       "   {'cd': 'KOSPI',\n",
       "    'dt': '20200608',\n",
       "    'ncv': 2184.29,\n",
       "    'cv': 2.42,\n",
       "    'cr': 0.11,\n",
       "    'ov': 2215.6,\n",
       "    'hv': 2217.21,\n",
       "    'lv': 2174.96},\n",
       "   {'cd': 'KOSPI',\n",
       "    'dt': '20200605',\n",
       "    'ncv': 2181.87,\n",
       "    'cv': 30.69,\n",
       "    'cr': 1.43,\n",
       "    'ov': 2151.17,\n",
       "    'hv': 2187.25,\n",
       "    'lv': 2138.18},\n",
       "   {'cd': 'KOSPI',\n",
       "    'dt': '20200604',\n",
       "    'ncv': 2151.18,\n",
       "    'cv': 4.18,\n",
       "    'cr': 0.19,\n",
       "    'ov': 2181.64,\n",
       "    'hv': 2191.0,\n",
       "    'lv': 2139.68},\n",
       "   {'cd': 'KOSPI',\n",
       "    'dt': '20200603',\n",
       "    'ncv': 2147.0,\n",
       "    'cv': 59.81,\n",
       "    'cr': 2.87,\n",
       "    'ov': 2108.55,\n",
       "    'hv': 2156.55,\n",
       "    'lv': 2107.69},\n",
       "   {'cd': 'KOSPI',\n",
       "    'dt': '20200602',\n",
       "    'ncv': 2087.19,\n",
       "    'cv': 22.11,\n",
       "    'cr': 1.07,\n",
       "    'ov': 2061.45,\n",
       "    'hv': 2089.43,\n",
       "    'lv': 2059.14},\n",
       "   {'cd': 'KOSPI',\n",
       "    'dt': '20200601',\n",
       "    'ncv': 2065.08,\n",
       "    'cv': 35.48,\n",
       "    'cr': 1.75,\n",
       "    'ov': 2037.04,\n",
       "    'hv': 2065.38,\n",
       "    'lv': 2035.63},\n",
       "   {'cd': 'KOSPI',\n",
       "    'dt': '20200529',\n",
       "    'ncv': 2029.6,\n",
       "    'cv': 1.06,\n",
       "    'cr': 0.05,\n",
       "    'ov': 2018.37,\n",
       "    'hv': 2038.89,\n",
       "    'lv': 2006.62},\n",
       "   {'cd': 'KOSPI',\n",
       "    'dt': '20200528',\n",
       "    'ncv': 2028.54,\n",
       "    'cv': -2.66,\n",
       "    'cr': -0.13,\n",
       "    'ov': 2047.08,\n",
       "    'hv': 2054.52,\n",
       "    'lv': 2003.75},\n",
       "   {'cd': 'KOSPI',\n",
       "    'dt': '20200527',\n",
       "    'ncv': 2031.2,\n",
       "    'cv': 1.42,\n",
       "    'cr': 0.07,\n",
       "    'ov': 2027.9,\n",
       "    'hv': 2043.44,\n",
       "    'lv': 2019.82},\n",
       "   {'cd': 'KOSPI',\n",
       "    'dt': '20200526',\n",
       "    'ncv': 2029.78,\n",
       "    'cv': 35.18,\n",
       "    'cr': 1.76,\n",
       "    'ov': 2001.0,\n",
       "    'hv': 2029.89,\n",
       "    'lv': 1997.94},\n",
       "   {'cd': 'KOSPI',\n",
       "    'dt': '20200525',\n",
       "    'ncv': 1994.6,\n",
       "    'cv': 24.47,\n",
       "    'cr': 1.24,\n",
       "    'ov': 1980.51,\n",
       "    'hv': 1994.9,\n",
       "    'lv': 1967.84}]},\n",
       " 'resultCode': 'success'}"
      ]
     },
     "execution_count": 22,
     "metadata": {},
     "output_type": "execute_result"
    }
   ],
   "source": [
    "response.json()"
   ]
  },
  {
   "cell_type": "code",
   "execution_count": 24,
   "metadata": {},
   "outputs": [],
   "source": [
    "import pandas as pd"
   ]
  },
  {
   "cell_type": "code",
   "execution_count": 25,
   "metadata": {},
   "outputs": [
    {
     "data": {
      "text/html": [
       "<div>\n",
       "<style scoped>\n",
       "    .dataframe tbody tr th:only-of-type {\n",
       "        vertical-align: middle;\n",
       "    }\n",
       "\n",
       "    .dataframe tbody tr th {\n",
       "        vertical-align: top;\n",
       "    }\n",
       "\n",
       "    .dataframe thead th {\n",
       "        text-align: right;\n",
       "    }\n",
       "</style>\n",
       "<table border=\"1\" class=\"dataframe\">\n",
       "  <thead>\n",
       "    <tr style=\"text-align: right;\">\n",
       "      <th></th>\n",
       "      <th>cd</th>\n",
       "      <th>cr</th>\n",
       "      <th>cv</th>\n",
       "      <th>dt</th>\n",
       "      <th>hv</th>\n",
       "      <th>lv</th>\n",
       "      <th>ncv</th>\n",
       "      <th>ov</th>\n",
       "    </tr>\n",
       "  </thead>\n",
       "  <tbody>\n",
       "    <tr>\n",
       "      <th>18</th>\n",
       "      <td>KOSPI</td>\n",
       "      <td>1.76</td>\n",
       "      <td>35.18</td>\n",
       "      <td>20200526</td>\n",
       "      <td>2029.89</td>\n",
       "      <td>1997.94</td>\n",
       "      <td>2029.78</td>\n",
       "      <td>2001.00</td>\n",
       "    </tr>\n",
       "    <tr>\n",
       "      <th>19</th>\n",
       "      <td>KOSPI</td>\n",
       "      <td>1.24</td>\n",
       "      <td>24.47</td>\n",
       "      <td>20200525</td>\n",
       "      <td>1994.90</td>\n",
       "      <td>1967.84</td>\n",
       "      <td>1994.60</td>\n",
       "      <td>1980.51</td>\n",
       "    </tr>\n",
       "  </tbody>\n",
       "</table>\n",
       "</div>"
      ],
      "text/plain": [
       "       cd    cr     cv        dt       hv       lv      ncv       ov\n",
       "18  KOSPI  1.76  35.18  20200526  2029.89  1997.94  2029.78  2001.00\n",
       "19  KOSPI  1.24  24.47  20200525  1994.90  1967.84  1994.60  1980.51"
      ]
     },
     "execution_count": 25,
     "metadata": {},
     "output_type": "execute_result"
    }
   ],
   "source": [
    "# text데이터를 dictionary로 parsing\n",
    "datas = response.json()[\"result\"][\"siseList\"] # 위 데이터의 키 값입력\n",
    "kospi_df = pd.DataFrame(datas)\n",
    "kospi_df.tail(2)"
   ]
  },
  {
   "cell_type": "code",
   "execution_count": 26,
   "metadata": {},
   "outputs": [],
   "source": [
    "# 함수로 만들기\n",
    "def get_stock_data(code, page_size=20, page=1):\n",
    "    url = \"https://m.stock.naver.com/api/json/sise/dailySiseIndexListJson.nhn?\\\n",
    "code={}&pageSize={}&page={}\".format(code, page_size, page)\n",
    "    response = requests.get(url)\n",
    "    datas = response.json()[\"result\"][\"siseList\"]\n",
    "    return pd.DataFrame(datas)"
   ]
  },
  {
   "cell_type": "code",
   "execution_count": 27,
   "metadata": {},
   "outputs": [
    {
     "data": {
      "text/html": [
       "<div>\n",
       "<style scoped>\n",
       "    .dataframe tbody tr th:only-of-type {\n",
       "        vertical-align: middle;\n",
       "    }\n",
       "\n",
       "    .dataframe tbody tr th {\n",
       "        vertical-align: top;\n",
       "    }\n",
       "\n",
       "    .dataframe thead th {\n",
       "        text-align: right;\n",
       "    }\n",
       "</style>\n",
       "<table border=\"1\" class=\"dataframe\">\n",
       "  <thead>\n",
       "    <tr style=\"text-align: right;\">\n",
       "      <th></th>\n",
       "      <th>cd</th>\n",
       "      <th>cr</th>\n",
       "      <th>cv</th>\n",
       "      <th>dt</th>\n",
       "      <th>hv</th>\n",
       "      <th>lv</th>\n",
       "      <th>ncv</th>\n",
       "      <th>ov</th>\n",
       "    </tr>\n",
       "  </thead>\n",
       "  <tbody>\n",
       "    <tr>\n",
       "      <th>0</th>\n",
       "      <td>KOSDAQ</td>\n",
       "      <td>0.64</td>\n",
       "      <td>4.70</td>\n",
       "      <td>20200619</td>\n",
       "      <td>743.94</td>\n",
       "      <td>732.55</td>\n",
       "      <td>742.03</td>\n",
       "      <td>743.35</td>\n",
       "    </tr>\n",
       "    <tr>\n",
       "      <th>1</th>\n",
       "      <td>KOSDAQ</td>\n",
       "      <td>0.26</td>\n",
       "      <td>1.93</td>\n",
       "      <td>20200618</td>\n",
       "      <td>743.12</td>\n",
       "      <td>732.92</td>\n",
       "      <td>737.33</td>\n",
       "      <td>738.11</td>\n",
       "    </tr>\n",
       "    <tr>\n",
       "      <th>2</th>\n",
       "      <td>KOSDAQ</td>\n",
       "      <td>0.00</td>\n",
       "      <td>0.02</td>\n",
       "      <td>20200617</td>\n",
       "      <td>743.11</td>\n",
       "      <td>717.68</td>\n",
       "      <td>735.40</td>\n",
       "      <td>731.91</td>\n",
       "    </tr>\n",
       "    <tr>\n",
       "      <th>3</th>\n",
       "      <td>KOSDAQ</td>\n",
       "      <td>6.09</td>\n",
       "      <td>42.23</td>\n",
       "      <td>20200616</td>\n",
       "      <td>735.74</td>\n",
       "      <td>714.14</td>\n",
       "      <td>735.38</td>\n",
       "      <td>716.60</td>\n",
       "    </tr>\n",
       "    <tr>\n",
       "      <th>4</th>\n",
       "      <td>KOSDAQ</td>\n",
       "      <td>-7.09</td>\n",
       "      <td>-52.91</td>\n",
       "      <td>20200615</td>\n",
       "      <td>747.21</td>\n",
       "      <td>693.15</td>\n",
       "      <td>693.15</td>\n",
       "      <td>745.60</td>\n",
       "    </tr>\n",
       "    <tr>\n",
       "      <th>5</th>\n",
       "      <td>KOSDAQ</td>\n",
       "      <td>-1.45</td>\n",
       "      <td>-11.00</td>\n",
       "      <td>20200612</td>\n",
       "      <td>747.37</td>\n",
       "      <td>722.81</td>\n",
       "      <td>746.06</td>\n",
       "      <td>722.91</td>\n",
       "    </tr>\n",
       "    <tr>\n",
       "      <th>6</th>\n",
       "      <td>KOSDAQ</td>\n",
       "      <td>-0.21</td>\n",
       "      <td>-1.56</td>\n",
       "      <td>20200611</td>\n",
       "      <td>766.96</td>\n",
       "      <td>752.04</td>\n",
       "      <td>757.06</td>\n",
       "      <td>760.07</td>\n",
       "    </tr>\n",
       "    <tr>\n",
       "      <th>7</th>\n",
       "      <td>KOSDAQ</td>\n",
       "      <td>0.64</td>\n",
       "      <td>4.80</td>\n",
       "      <td>20200610</td>\n",
       "      <td>759.48</td>\n",
       "      <td>752.29</td>\n",
       "      <td>758.62</td>\n",
       "      <td>754.30</td>\n",
       "    </tr>\n",
       "    <tr>\n",
       "      <th>8</th>\n",
       "      <td>KOSDAQ</td>\n",
       "      <td>0.10</td>\n",
       "      <td>0.78</td>\n",
       "      <td>20200609</td>\n",
       "      <td>756.45</td>\n",
       "      <td>746.56</td>\n",
       "      <td>753.82</td>\n",
       "      <td>756.02</td>\n",
       "    </tr>\n",
       "    <tr>\n",
       "      <th>9</th>\n",
       "      <td>KOSDAQ</td>\n",
       "      <td>0.50</td>\n",
       "      <td>3.73</td>\n",
       "      <td>20200608</td>\n",
       "      <td>754.32</td>\n",
       "      <td>747.37</td>\n",
       "      <td>753.04</td>\n",
       "      <td>754.12</td>\n",
       "    </tr>\n",
       "    <tr>\n",
       "      <th>10</th>\n",
       "      <td>KOSDAQ</td>\n",
       "      <td>0.93</td>\n",
       "      <td>6.94</td>\n",
       "      <td>20200605</td>\n",
       "      <td>749.75</td>\n",
       "      <td>739.52</td>\n",
       "      <td>749.31</td>\n",
       "      <td>743.65</td>\n",
       "    </tr>\n",
       "    <tr>\n",
       "      <th>11</th>\n",
       "      <td>KOSDAQ</td>\n",
       "      <td>0.64</td>\n",
       "      <td>4.71</td>\n",
       "      <td>20200604</td>\n",
       "      <td>744.36</td>\n",
       "      <td>733.91</td>\n",
       "      <td>742.37</td>\n",
       "      <td>742.87</td>\n",
       "    </tr>\n",
       "    <tr>\n",
       "      <th>12</th>\n",
       "      <td>KOSDAQ</td>\n",
       "      <td>-0.80</td>\n",
       "      <td>-5.92</td>\n",
       "      <td>20200603</td>\n",
       "      <td>750.14</td>\n",
       "      <td>734.63</td>\n",
       "      <td>737.66</td>\n",
       "      <td>749.49</td>\n",
       "    </tr>\n",
       "    <tr>\n",
       "      <th>13</th>\n",
       "      <td>KOSDAQ</td>\n",
       "      <td>1.07</td>\n",
       "      <td>7.86</td>\n",
       "      <td>20200602</td>\n",
       "      <td>743.70</td>\n",
       "      <td>735.06</td>\n",
       "      <td>743.58</td>\n",
       "      <td>737.67</td>\n",
       "    </tr>\n",
       "    <tr>\n",
       "      <th>14</th>\n",
       "      <td>KOSDAQ</td>\n",
       "      <td>3.09</td>\n",
       "      <td>22.04</td>\n",
       "      <td>20200601</td>\n",
       "      <td>735.72</td>\n",
       "      <td>716.83</td>\n",
       "      <td>735.72</td>\n",
       "      <td>716.96</td>\n",
       "    </tr>\n",
       "    <tr>\n",
       "      <th>15</th>\n",
       "      <td>KOSDAQ</td>\n",
       "      <td>0.70</td>\n",
       "      <td>4.93</td>\n",
       "      <td>20200529</td>\n",
       "      <td>714.51</td>\n",
       "      <td>700.84</td>\n",
       "      <td>713.68</td>\n",
       "      <td>706.16</td>\n",
       "    </tr>\n",
       "    <tr>\n",
       "      <th>16</th>\n",
       "      <td>KOSDAQ</td>\n",
       "      <td>-2.19</td>\n",
       "      <td>-15.84</td>\n",
       "      <td>20200528</td>\n",
       "      <td>728.80</td>\n",
       "      <td>695.30</td>\n",
       "      <td>708.75</td>\n",
       "      <td>728.76</td>\n",
       "    </tr>\n",
       "    <tr>\n",
       "      <th>17</th>\n",
       "      <td>KOSDAQ</td>\n",
       "      <td>-0.62</td>\n",
       "      <td>-4.52</td>\n",
       "      <td>20200527</td>\n",
       "      <td>730.41</td>\n",
       "      <td>722.04</td>\n",
       "      <td>724.59</td>\n",
       "      <td>728.26</td>\n",
       "    </tr>\n",
       "    <tr>\n",
       "      <th>18</th>\n",
       "      <td>KOSDAQ</td>\n",
       "      <td>1.28</td>\n",
       "      <td>9.22</td>\n",
       "      <td>20200526</td>\n",
       "      <td>729.16</td>\n",
       "      <td>718.81</td>\n",
       "      <td>729.11</td>\n",
       "      <td>723.28</td>\n",
       "    </tr>\n",
       "    <tr>\n",
       "      <th>19</th>\n",
       "      <td>KOSDAQ</td>\n",
       "      <td>1.60</td>\n",
       "      <td>11.31</td>\n",
       "      <td>20200525</td>\n",
       "      <td>719.89</td>\n",
       "      <td>708.60</td>\n",
       "      <td>719.89</td>\n",
       "      <td>712.88</td>\n",
       "    </tr>\n",
       "  </tbody>\n",
       "</table>\n",
       "</div>"
      ],
      "text/plain": [
       "        cd    cr     cv        dt      hv      lv     ncv      ov\n",
       "0   KOSDAQ  0.64   4.70  20200619  743.94  732.55  742.03  743.35\n",
       "1   KOSDAQ  0.26   1.93  20200618  743.12  732.92  737.33  738.11\n",
       "2   KOSDAQ  0.00   0.02  20200617  743.11  717.68  735.40  731.91\n",
       "3   KOSDAQ  6.09  42.23  20200616  735.74  714.14  735.38  716.60\n",
       "4   KOSDAQ -7.09 -52.91  20200615  747.21  693.15  693.15  745.60\n",
       "5   KOSDAQ -1.45 -11.00  20200612  747.37  722.81  746.06  722.91\n",
       "6   KOSDAQ -0.21  -1.56  20200611  766.96  752.04  757.06  760.07\n",
       "7   KOSDAQ  0.64   4.80  20200610  759.48  752.29  758.62  754.30\n",
       "8   KOSDAQ  0.10   0.78  20200609  756.45  746.56  753.82  756.02\n",
       "9   KOSDAQ  0.50   3.73  20200608  754.32  747.37  753.04  754.12\n",
       "10  KOSDAQ  0.93   6.94  20200605  749.75  739.52  749.31  743.65\n",
       "11  KOSDAQ  0.64   4.71  20200604  744.36  733.91  742.37  742.87\n",
       "12  KOSDAQ -0.80  -5.92  20200603  750.14  734.63  737.66  749.49\n",
       "13  KOSDAQ  1.07   7.86  20200602  743.70  735.06  743.58  737.67\n",
       "14  KOSDAQ  3.09  22.04  20200601  735.72  716.83  735.72  716.96\n",
       "15  KOSDAQ  0.70   4.93  20200529  714.51  700.84  713.68  706.16\n",
       "16  KOSDAQ -2.19 -15.84  20200528  728.80  695.30  708.75  728.76\n",
       "17  KOSDAQ -0.62  -4.52  20200527  730.41  722.04  724.59  728.26\n",
       "18  KOSDAQ  1.28   9.22  20200526  729.16  718.81  729.11  723.28\n",
       "19  KOSDAQ  1.60  11.31  20200525  719.89  708.60  719.89  712.88"
      ]
     },
     "execution_count": 27,
     "metadata": {},
     "output_type": "execute_result"
    }
   ],
   "source": [
    "kosdaq_df = get_stock_data(\"KOSDAQ\")\n",
    "kosdaq_df"
   ]
  },
  {
   "cell_type": "code",
   "execution_count": 28,
   "metadata": {},
   "outputs": [
    {
     "data": {
      "text/html": [
       "<div>\n",
       "<style scoped>\n",
       "    .dataframe tbody tr th:only-of-type {\n",
       "        vertical-align: middle;\n",
       "    }\n",
       "\n",
       "    .dataframe tbody tr th {\n",
       "        vertical-align: top;\n",
       "    }\n",
       "\n",
       "    .dataframe thead th {\n",
       "        text-align: right;\n",
       "    }\n",
       "</style>\n",
       "<table border=\"1\" class=\"dataframe\">\n",
       "  <thead>\n",
       "    <tr style=\"text-align: right;\">\n",
       "      <th></th>\n",
       "      <th>cd</th>\n",
       "      <th>cr</th>\n",
       "      <th>cv</th>\n",
       "      <th>dt</th>\n",
       "      <th>hv</th>\n",
       "      <th>lv</th>\n",
       "      <th>ncv</th>\n",
       "      <th>ov</th>\n",
       "    </tr>\n",
       "  </thead>\n",
       "  <tbody>\n",
       "    <tr>\n",
       "      <th>98</th>\n",
       "      <td>KOSPI</td>\n",
       "      <td>0.39</td>\n",
       "      <td>8.56</td>\n",
       "      <td>20200129</td>\n",
       "      <td>2195.45</td>\n",
       "      <td>2172.33</td>\n",
       "      <td>2185.28</td>\n",
       "      <td>2188.18</td>\n",
       "    </tr>\n",
       "    <tr>\n",
       "      <th>99</th>\n",
       "      <td>KOSPI</td>\n",
       "      <td>-3.09</td>\n",
       "      <td>-69.41</td>\n",
       "      <td>20200128</td>\n",
       "      <td>2199.93</td>\n",
       "      <td>2166.23</td>\n",
       "      <td>2176.72</td>\n",
       "      <td>2192.22</td>\n",
       "    </tr>\n",
       "  </tbody>\n",
       "</table>\n",
       "</div>"
      ],
      "text/plain": [
       "       cd    cr     cv        dt       hv       lv      ncv       ov\n",
       "98  KOSPI  0.39   8.56  20200129  2195.45  2172.33  2185.28  2188.18\n",
       "99  KOSPI -3.09 -69.41  20200128  2199.93  2166.23  2176.72  2192.22"
      ]
     },
     "execution_count": 28,
     "metadata": {},
     "output_type": "execute_result"
    }
   ],
   "source": [
    "kospi_df = get_stock_data(\"KOSPI\", 100)\n",
    "kospi_df.tail(2)"
   ]
  },
  {
   "cell_type": "markdown",
   "metadata": {},
   "source": [
    "#### USD 수집"
   ]
  },
  {
   "cell_type": "code",
   "execution_count": 35,
   "metadata": {},
   "outputs": [
    {
     "name": "stdout",
     "output_type": "stream",
     "text": [
      "https://m.stock.naver.com/api/json/marketindex/marketIndexDay.nhn?marketIndexCd=FX_USDKRW&pageSize=20&page=1\n"
     ]
    }
   ],
   "source": [
    "# 1. 웹페이지 분석 : URL\n",
    "code, page_size, page = \"FX_USDKRW\", 20, 1\n",
    "\n",
    "url = \"https://m.stock.naver.com/api/json/marketindex/marketIndexDay.nhn?\\\n",
    "marketIndexCd={}&pageSize={}&page={}\".format(code, page_size, page)\n",
    "\n",
    "print(url)"
   ]
  },
  {
   "cell_type": "code",
   "execution_count": 47,
   "metadata": {},
   "outputs": [
    {
     "data": {
      "text/plain": [
       "<Response [200]>"
      ]
     },
     "execution_count": 47,
     "metadata": {},
     "output_type": "execute_result"
    }
   ],
   "source": [
    "# 2. request, response : JSON(str)\n",
    "# 쿠키 데이터 추가해서 요청\n",
    "params = {\n",
    "    \"cookie\": \"NNB=3EKBMOOL2RSV4; NRTK=ag#all_gr#1_ma#-2_si#0_en#0_sp#0; nx_ssl=2; page_uid=UXylAwp0YihssCbdKwlssssstV0-419183; XSRF-TOKEN=115ccee3-0afb-43c5-977d-7b9e86d32044; JSESSIONID=3B28589171687413B58FAF2104BA3A7F; BMR=\"\n",
    "}\n",
    "\n",
    "response = requests.get(url, headers=params)\n",
    "response"
   ]
  },
  {
   "cell_type": "code",
   "execution_count": 48,
   "metadata": {},
   "outputs": [
    {
     "data": {
      "text/plain": [
       "'{\"result\":{\"errorMessage\":\"로그인이 필요한 서비스 입니다.\\\\n로그인 하시겠습니까?\",\"errorCode\":\"authenticationFail\"},\"resultCode\":\"error\"}'"
      ]
     },
     "execution_count": 48,
     "metadata": {},
     "output_type": "execute_result"
    }
   ],
   "source": [
    "response.text"
   ]
  },
  {
   "cell_type": "code",
   "execution_count": 32,
   "metadata": {},
   "outputs": [],
   "source": [
    "# 3. JSON(str) -> DF\n",
    "datas = response.json()[\"result\"][\"marketIndexDay\"]\n",
    "usd_df = pd.DataFrame(datas)\n",
    "usd_df.tail(2)"
   ]
  },
  {
   "cell_type": "code",
   "execution_count": null,
   "metadata": {},
   "outputs": [],
   "source": []
  }
 ],
 "metadata": {
  "kernelspec": {
   "display_name": "Python 3",
   "language": "python",
   "name": "python3"
  },
  "language_info": {
   "codemirror_mode": {
    "name": "ipython",
    "version": 3
   },
   "file_extension": ".py",
   "mimetype": "text/x-python",
   "name": "python",
   "nbconvert_exporter": "python",
   "pygments_lexer": "ipython3",
   "version": "3.6.9"
  }
 },
 "nbformat": 4,
 "nbformat_minor": 4
}
