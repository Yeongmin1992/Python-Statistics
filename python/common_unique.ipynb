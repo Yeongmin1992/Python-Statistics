{
 "cells": [
  {
   "cell_type": "code",
   "execution_count": 4,
   "metadata": {},
   "outputs": [],
   "source": [
    "import scrapy\n",
    "import requests\n",
    "from scrapy.http import TextResponse"
   ]
  },
  {
   "cell_type": "code",
   "execution_count": 5,
   "metadata": {},
   "outputs": [
    {
     "data": {
      "text/plain": [
       "<200 https://common-unique.com/product/listbest.html?cate_no=25>"
      ]
     },
     "execution_count": 5,
     "metadata": {},
     "output_type": "execute_result"
    }
   ],
   "source": [
    "from fake_useragent import UserAgent\n",
    "url = 'https://common-unique.com/product/listbest.html?cate_no=25'\n",
    "headers = { \"User-Agent\": UserAgent().chrome }\n",
    "req = requests.get(url, headers=headers)\n",
    "response = TextResponse(req.url, body=req.text, encoding=\"utf-8\")\n",
    "response"
   ]
  },
  {
   "cell_type": "code",
   "execution_count": 6,
   "metadata": {},
   "outputs": [
    {
     "data": {
      "text/plain": [
       "60"
      ]
     },
     "execution_count": 6,
     "metadata": {},
     "output_type": "execute_result"
    }
   ],
   "source": [
    "items = response.xpath('//*[@id=\"sunny_contents\"]/div[3]/div/ul/li')\n",
    "len(items)"
   ]
  },
  {
   "cell_type": "code",
   "execution_count": 15,
   "metadata": {},
   "outputs": [
    {
     "data": {
      "text/plain": [
       "'/product/top-6-color-linen-collar-12-shirts/5106/category/25/display/1/'"
      ]
     },
     "execution_count": 15,
     "metadata": {},
     "output_type": "execute_result"
    }
   ],
   "source": [
    "links = response.xpath('//*[@id=\"sunny_contents\"]/div[3]/div/ul/li/div/div/a/@href').extract()\n",
    "links[0]"
   ]
  },
  {
   "cell_type": "code",
   "execution_count": 16,
   "metadata": {},
   "outputs": [
    {
     "data": {
      "text/plain": [
       "['https://common-unique.com/product/top-6-color-linen-collar-12-shirts/5106/category/25/display/1/',\n",
       " 'https://common-unique.com/product/top-ruki-basic-open-collar-12-knit/10474/category/25/display/1/',\n",
       " 'https://common-unique.com/product/top-cotton-puff-12-blouse/13876/category/25/display/1/']"
      ]
     },
     "execution_count": 16,
     "metadata": {},
     "output_type": "execute_result"
    }
   ],
   "source": [
    "links = response.xpath('//*[@id=\"sunny_contents\"]/div[3]/div/ul/li/div/div/a/@href').extract()\n",
    "links = list(map(lambda data:response.urljoin(data), links))\n",
    "links[:3]"
   ]
  },
  {
   "cell_type": "code",
   "execution_count": 17,
   "metadata": {},
   "outputs": [
    {
     "data": {
      "text/plain": [
       "<200 https://common-unique.com/product/top-6-color-linen-collar-12-shirts/5106/category/25/display/1/>"
      ]
     },
     "execution_count": 17,
     "metadata": {},
     "output_type": "execute_result"
    }
   ],
   "source": [
    "# 상세데이터\n",
    "url = \"https://common-unique.com/product/top-6-color-linen-collar-12-shirts/5106/category/25/display/1/\"\n",
    "headers = { \"User-Agent\": UserAgent().chrome }\n",
    "req = requests.get(url, headers=headers)\n",
    "response = TextResponse(req.url, body=req.text, encoding=\"utf-8\") \n",
    "response"
   ]
  },
  {
   "cell_type": "code",
   "execution_count": 35,
   "metadata": {},
   "outputs": [
    {
     "data": {
      "text/plain": [
       "('컬러린넨카라1/2셔츠',\n",
       " ['<strong id=\"span_product_price_text\" class=\"txt_price ProductPrice\"></strong>'],\n",
       " 'http://common-unique.com/web/product/big/20200527/48c5a038f1cd2664dbde741aabbbe2a3.jpg')"
      ]
     },
     "execution_count": 35,
     "metadata": {},
     "output_type": "execute_result"
    }
   ],
   "source": [
    "title = response.xpath('//*[@id=\"sunny_detail\"]/div[1]/div[2]/h3/text()')[0].extract().split(\" \")[1::]\n",
    "title = \"\".join(title)\n",
    "price = response.xpath('//*[@id=\"sunny_detail\"]/div[1]/div[2]/table/tbody[1]/tr[2]/td/strong').extract()\n",
    "img = \"http:\" + response.xpath('//*[@id=\"sunny_detail\"]/div[1]/div[1]/div/img/@src')[0].extract()\n",
    "\n",
    "title, price, img"
   ]
  },
  {
   "cell_type": "code",
   "execution_count": 40,
   "metadata": {},
   "outputs": [
    {
     "data": {
      "text/plain": [
       "[]"
      ]
     },
     "execution_count": 40,
     "metadata": {},
     "output_type": "execute_result"
    }
   ],
   "source": [
    "review = response.xpath('//*[@id=\"review_129408\"]/div/div[2]/div[2]/div[2]/div[1]/div[2]/text()')\n",
    "review"
   ]
  },
  {
   "cell_type": "code",
   "execution_count": null,
   "metadata": {},
   "outputs": [],
   "source": []
  }
 ],
 "metadata": {
  "kernelspec": {
   "display_name": "Python 3",
   "language": "python",
   "name": "python3"
  },
  "language_info": {
   "codemirror_mode": {
    "name": "ipython",
    "version": 3
   },
   "file_extension": ".py",
   "mimetype": "text/x-python",
   "name": "python",
   "nbconvert_exporter": "python",
   "pygments_lexer": "ipython3",
   "version": "3.7.4"
  }
 },
 "nbformat": 4,
 "nbformat_minor": 2
}
