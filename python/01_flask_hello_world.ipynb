{
 "cells": [
  {
   "cell_type": "markdown",
   "metadata": {},
   "source": [
    "### Flask\n",
    "- 파이썬 코드를 사용하는 웹 프레임워크 입니다.\n",
    "- https://blog.miguelgrinberg.com/post/the-flask-mega-tutorial-part-i-hello-world\n",
    "- install\n",
    "    - pip install flask"
   ]
  },
  {
   "cell_type": "markdown",
   "metadata": {},
   "source": [
    "#### 1. 프로젝트 생성\n",
    "- hello"
   ]
  },
  {
   "cell_type": "code",
   "execution_count": 1,
   "metadata": {},
   "outputs": [
    {
     "name": "stdout",
     "output_type": "stream",
     "text": [
      "\u001b[01;34mhello\u001b[00m\r\n",
      "├── hello.py\r\n",
      "├── \u001b[01;34mstatic\u001b[00m\r\n",
      "└── \u001b[01;34mtemplates\u001b[00m\r\n",
      "    └── index.html\r\n",
      "\r\n",
      "2 directories, 2 files\r\n"
     ]
    }
   ],
   "source": [
    "!mkdir -p hello/static\n",
    "!mkdir -p hello/templates\n",
    "!touch hello/hello.py\n",
    "!touch hello/templates/index.html\n",
    "!tree hello"
   ]
  },
  {
   "cell_type": "markdown",
   "metadata": {},
   "source": [
    "- hello.py : app 객체를 생성, route 설정\n",
    "- static : js, css, image파일 등을 저장\n",
    "- templates : html 코드를 저장"
   ]
  },
  {
   "cell_type": "code",
   "execution_count": 9,
   "metadata": {},
   "outputs": [
    {
     "name": "stdout",
     "output_type": "stream",
     "text": [
      "Overwriting hello/hello.py\n"
     ]
    }
   ],
   "source": [
    "%%writefile hello/hello.py\n",
    "from flask import *\n",
    "\n",
    "# flask app 객체 생성. 서버에서 돌아가는 애\n",
    "app = Flask(__name__)\n",
    "\n",
    "# 데코레이더\n",
    "@app.route(\"/\")\n",
    "def hello():\n",
    "    return \"Hello Flask\"\n",
    "\n",
    "@app.route('/user/<name>')\n",
    "def user(name):\n",
    "    return render_template('index.html', name=name)\n",
    "\n",
    "@app.route('/api/data')\n",
    "def api_data():\n",
    "    data = {\"alice\":25, \"andy\":35}\n",
    "    return jsonify(data)   #flask에 있는 함수. 객체를 문자열로 바꿔줌.\n",
    "\n",
    "#서버를 띄워줌, debug를 해주면 변경이 있을 때마다 서버가 자동으로 restart됨\n",
    "app.run(debug=True)"
   ]
  },
  {
   "cell_type": "code",
   "execution_count": 11,
   "metadata": {},
   "outputs": [
    {
     "name": "stdout",
     "output_type": "stream",
     "text": [
      "Overwriting hello/templates/index.html\n"
     ]
    }
   ],
   "source": [
    "%%writefile hello/templates/index.html\n",
    "<!DOCTYPE html>\n",
    "<html>\n",
    "<head>\n",
    "    <meta charset=\"utf-8\">\n",
    "    <title>Hello Flask</title>\n",
    "</head>\n",
    "<body>\n",
    "    Hello {{name}}    \n",
    "    <button class=\"result\">Click!!</button>\n",
    "    <div class=\"data\"></div>\n",
    "    <script src=\"https://cdnjs.cloudflare.com/ajax/libs/jquery/3.5.1/jquery.js\"></script>\n",
    "    <script type=\"text/javascript\">\n",
    "        $(document).ready(function(){\n",
    "            $('.result').on('click', function(){\n",
    "                $.getJSON(\"/api/data\", function(data){\n",
    "                    console.log(data);\n",
    "                    var tag = \"<p>alice:\" + data.alice + \"</p>\";\n",
    "                        tag += \"<p>andy:\" + data.andy + \"</p>\";\n",
    "                    $(\".data\").append(tag);                    \n",
    "                })\n",
    "            })\n",
    "        })\n",
    "    </script>\n",
    "</body>\n",
    "\n",
    "</html>"
   ]
  },
  {
   "cell_type": "code",
   "execution_count": null,
   "metadata": {},
   "outputs": [],
   "source": [
    "# 커맨드창에서는 되나 여기서 하면 에러\n",
    "! python hello/hello.py"
   ]
  },
  {
   "cell_type": "markdown",
   "metadata": {},
   "source": [
    "#### nginx 설정(aws)\n",
    "- sudo apt-get update\n",
    "- sudo apt-get install nginx    # 설치\n",
    "- sudo systemctl status nginx   # 확인\n",
    "- aws console에서 80번 포트 활성화\n",
    "- 브라우저에 퍼블릭 IP주소 입력해서 Welcome to nginx!확인\n",
    "- 설정파일 수정\n",
    "    -sudo vi /etc/nginx/sites-available/default\n",
    "    \n",
    "```\n",
    "# 1, 80을 8080으로 수정\n",
    "server {\n",
    "        listen 8080 default_server;\n",
    "        listen [::]:8080 default_server;\n",
    "\n",
    "# 2. 아래의 설정을 추가\n",
    "server {\n",
    "    listen 80;\n",
    "    location / {\n",
    "        proxy_pass http://localhost:5000;\n",
    "    }\n",
    "}\n",
    "\n",
    "```\n",
    "\n",
    "- ngninx restart\n",
    "    - sudo systemctl restart nginx"
   ]
  },
  {
   "cell_type": "code",
   "execution_count": null,
   "metadata": {},
   "outputs": [],
   "source": []
  },
  {
   "cell_type": "code",
   "execution_count": null,
   "metadata": {},
   "outputs": [],
   "source": []
  },
  {
   "cell_type": "code",
   "execution_count": null,
   "metadata": {},
   "outputs": [],
   "source": []
  }
 ],
 "metadata": {
  "kernelspec": {
   "display_name": "Python 3",
   "language": "python",
   "name": "python3"
  },
  "language_info": {
   "codemirror_mode": {
    "name": "ipython",
    "version": 3
   },
   "file_extension": ".py",
   "mimetype": "text/x-python",
   "name": "python",
   "nbconvert_exporter": "python",
   "pygments_lexer": "ipython3",
   "version": "3.7.4"
  }
 },
 "nbformat": 4,
 "nbformat_minor": 2
}
