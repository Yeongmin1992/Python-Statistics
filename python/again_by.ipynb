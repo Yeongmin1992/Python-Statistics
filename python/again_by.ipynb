{
 "cells": [
  {
   "cell_type": "code",
   "execution_count": 3,
   "metadata": {},
   "outputs": [],
   "source": [
    "import scrapy\n",
    "import requests\n",
    "from scrapy.http import TextResponse"
   ]
  },
  {
   "cell_type": "code",
   "execution_count": 1,
   "metadata": {},
   "outputs": [
    {
     "name": "stdout",
     "output_type": "stream",
     "text": [
      "New Scrapy project 'crawler', using template directory 'c:\\users\\samsung\\anaconda\\lib\\site-packages\\scrapy\\templates\\project', created in:\n",
      "    C:\\Users\\samsung\\Desktop\\fastcampus\\크롤링 프로젝트\\crawler\n",
      "\n",
      "You can start your first spider with:\n",
      "    cd crawler\n",
      "    scrapy genspider example example.com\n"
     ]
    }
   ],
   "source": [
    "!scrapy startproject crawler"
   ]
  },
  {
   "cell_type": "code",
   "execution_count": 16,
   "metadata": {},
   "outputs": [],
   "source": [
    "# again_by x_path 확인"
   ]
  },
  {
   "cell_type": "code",
   "execution_count": 5,
   "metadata": {},
   "outputs": [
    {
     "data": {
      "text/plain": [
       "<200 http://www.againby.com/shop/bestseller.html?xcode=BEST>"
      ]
     },
     "execution_count": 5,
     "metadata": {},
     "output_type": "execute_result"
    }
   ],
   "source": [
    "req = requests.get(\"http://www.againby.com/shop/bestseller.html?xcode=BEST\")\n",
    "response = TextResponse(req.url, body=req.text, encoding=\"utf-8\")\n",
    "response"
   ]
  },
  {
   "cell_type": "code",
   "execution_count": 6,
   "metadata": {},
   "outputs": [
    {
     "data": {
      "text/plain": [
       "100"
      ]
     },
     "execution_count": 6,
     "metadata": {},
     "output_type": "execute_result"
    }
   ],
   "source": [
    "items = response.xpath('//*[@id=\"productClass\"]/div/div/div/dl')\n",
    "len(items)"
   ]
  },
  {
   "cell_type": "code",
   "execution_count": 7,
   "metadata": {},
   "outputs": [
    {
     "data": {
      "text/plain": [
       "100"
      ]
     },
     "execution_count": 7,
     "metadata": {},
     "output_type": "execute_result"
    }
   ],
   "source": [
    "links = response.xpath('//*[@id=\"productClass\"]/div/div/div/dl/dt/a')\n",
    "len(links)"
   ]
  },
  {
   "cell_type": "code",
   "execution_count": 8,
   "metadata": {},
   "outputs": [
    {
     "data": {
      "text/plain": [
       "<Selector xpath='//*[@id=\"productClass\"]/div/div/div/dl/dt/a' data='<a href=\"/shop/shopdetail.html?brandu...'>"
      ]
     },
     "execution_count": 8,
     "metadata": {},
     "output_type": "execute_result"
    }
   ],
   "source": [
    "links[0]"
   ]
  },
  {
   "cell_type": "code",
   "execution_count": 12,
   "metadata": {},
   "outputs": [
    {
     "data": {
      "text/plain": [
       "100"
      ]
     },
     "execution_count": 12,
     "metadata": {},
     "output_type": "execute_result"
    }
   ],
   "source": [
    "links = response.xpath('//*[@id=\"productClass\"]/div/div/div/dl/dt/a/@href')\n",
    "len(links)"
   ]
  },
  {
   "cell_type": "code",
   "execution_count": 13,
   "metadata": {},
   "outputs": [
    {
     "data": {
      "text/plain": [
       "<Selector xpath='//*[@id=\"productClass\"]/div/div/div/dl/dt/a/@href' data='/shop/shopdetail.html?branduid=771419...'>"
      ]
     },
     "execution_count": 13,
     "metadata": {},
     "output_type": "execute_result"
    }
   ],
   "source": [
    "links[0]"
   ]
  },
  {
   "cell_type": "code",
   "execution_count": 14,
   "metadata": {},
   "outputs": [
    {
     "data": {
      "text/plain": [
       "'/shop/shopdetail.html?branduid=771419&xcode=004&mcode=002&scode=&GfDT=aWV9'"
      ]
     },
     "execution_count": 14,
     "metadata": {},
     "output_type": "execute_result"
    }
   ],
   "source": [
    "links = response.xpath('//*[@id=\"productClass\"]/div/div/div/dl/dt/a/@href').extract()\n",
    "links[0]"
   ]
  },
  {
   "cell_type": "code",
   "execution_count": 15,
   "metadata": {},
   "outputs": [
    {
     "data": {
      "text/plain": [
       "'http://www.againby.com/shop/shopdetail.html?branduid=771419&xcode=004&mcode=002&scode=&GfDT=aWV9'"
      ]
     },
     "execution_count": 15,
     "metadata": {},
     "output_type": "execute_result"
    }
   ],
   "source": [
    "link = response.urljoin(links[0])\n",
    "link"
   ]
  },
  {
   "cell_type": "code",
   "execution_count": 18,
   "metadata": {},
   "outputs": [],
   "source": [
    "# 상세정보 수집(상품명, 판매가, 원가)"
   ]
  },
  {
   "cell_type": "code",
   "execution_count": 72,
   "metadata": {},
   "outputs": [
    {
     "data": {
      "text/plain": [
       "'utf-8'"
      ]
     },
     "execution_count": 72,
     "metadata": {},
     "output_type": "execute_result"
    }
   ],
   "source": [
    "req = requests.get(link)\n",
    "response = TextResponse(req.url, body=req.text, encoding='utf-8')\n",
    "response.encoding"
   ]
  },
  {
   "cell_type": "code",
   "execution_count": 73,
   "metadata": {},
   "outputs": [
    {
     "data": {
      "text/plain": [
       "('ÇÃ·Ú¸£½¬Æù ops', '46,800', '52,000')"
      ]
     },
     "execution_count": 73,
     "metadata": {},
     "output_type": "execute_result"
    }
   ],
   "source": [
    "title = response.xpath('//*[@id=\"form1\"]/div[1]/span[1]/text()')[0].extract()\n",
    "s_price = response.xpath('//*[@id=\"form1\"]/div[2]/ul/li[1]/text()')[1].extract().split(\"\\n\")[2]\n",
    "o_price = response.xpath('//*[@id=\"form1\"]/div[2]/ul/li[1]/span[2]/text()')[0].extract()\n",
    "title, s_price, o_price"
   ]
  },
  {
   "cell_type": "code",
   "execution_count": 75,
   "metadata": {},
   "outputs": [
    {
     "ename": "NameError",
     "evalue": "name 'mb_convert_encoding' is not defined",
     "output_type": "error",
     "traceback": [
      "\u001b[1;31m---------------------------------------------------------------------------\u001b[0m",
      "\u001b[1;31mNameError\u001b[0m                                 Traceback (most recent call last)",
      "\u001b[1;32m<ipython-input-75-0c45ea095d28>\u001b[0m in \u001b[0;36m<module>\u001b[1;34m\u001b[0m\n\u001b[1;32m----> 1\u001b[1;33m \u001b[0mmb_convert_encoding\u001b[0m\u001b[1;33m(\u001b[0m\u001b[1;34m'ÇÃ·Ú¸£½¬Æù'\u001b[0m\u001b[1;33m,\u001b[0m \u001b[1;34m'utf-8'\u001b[0m\u001b[1;33m,\u001b[0m \u001b[1;34m'euc-kr'\u001b[0m\u001b[1;33m)\u001b[0m\u001b[1;33m\u001b[0m\u001b[1;33m\u001b[0m\u001b[0m\n\u001b[0m",
      "\u001b[1;31mNameError\u001b[0m: name 'mb_convert_encoding' is not defined"
     ]
    }
   ],
   "source": [
    "mb_convert_encoding('ÇÃ·Ú¸£½¬Æù', 'utf-8', 'euc-kr')"
   ]
  },
  {
   "cell_type": "code",
   "execution_count": 37,
   "metadata": {},
   "outputs": [],
   "source": [
    "# 리뷰 수집"
   ]
  },
  {
   "cell_type": "code",
   "execution_count": null,
   "metadata": {},
   "outputs": [],
   "source": [
    "http://www.againby.com/shop/shopdetail.html?branduid=771419&xcode=004&mcode=002&scode=&GfDT=aWV9#listPowerReview"
   ]
  },
  {
   "cell_type": "code",
   "execution_count": 51,
   "metadata": {},
   "outputs": [
    {
     "data": {
      "text/plain": [
       "55"
      ]
     },
     "execution_count": 51,
     "metadata": {},
     "output_type": "execute_result"
    }
   ],
   "source": [
    "review = response.xpath('//*[@id=\"listPowerReview\"]/ul/li/div[2]/p/a[1]/text()').extract()\n",
    "len(review)"
   ]
  },
  {
   "cell_type": "code",
   "execution_count": 52,
   "metadata": {},
   "outputs": [
    {
     "data": {
      "text/plain": [
       "['ÀÔ°í°¬´õ´Ï',\n",
       " '\\nÁ÷Àåµ¿·á°¡ ÀÌ»Ú´Ù°í Çß¾î¿ä ¤»¤»',\n",
       " '\\n³×ÀÌºñ¿©¼\\xad',\n",
       " '\\n»ìÀÌ ´õ ÇÏ¾êº¸ÀÌ³×¿ä ',\n",
       " '\\nÀüÃ¼ÀûÀÎ ±æÀÌµµ ÁÁ±¸¿ä^^',\n",
       " 'Á¦ÁÖµµ ½ÅÈ¥¿©Çà°¡¼\\xad ÀÔ¾ú¾î¿ä:)',\n",
       " '\\n¾î±úµµ ³ÐÀºÆíÀÎµ¥',\n",
       " '\\nÇÍÀÌ Àß ³ª¿À°í Çã¸®¿¡ ²öÀÌ ÀÖ¾î¼\\xad ³¯¾ÀÇØ º¸¿©¿ä.',\n",
       " '\\n³¯¾¾°¡ ´õ ¾øÀÌ ÁÁ¾Ò´Ù¸é !! ¿ÊÀÌ ´õ ºû³µÀ»ÅÙµ¥',\n",
       " '\\n¾Æ½±°Ô ÀÌ·¸°Ô ³î¾Ò´ä´Ï´Ù-^.^',\n",
       " '°ËÁ¤ ¹ÙÅÁ¿¡ »¡°\\xad ÆÄ¶û ²ÉµéÀÌ Àû´çÈ÷ Æ÷ÀÎÆ®°¡ µÇ¾î¼\\xad ¿¹»Þ´Ï´Ù! ',\n",
       " '\\n¾ö¸¶µµ º¸½Ã°í´Â ¿øÇÇ½º ¿¹»Ú°í Å°°¡ Ä¿ º¸ÀÎ´Ù°í ',\n",
       " '\\nÀß »ò´Ù°í ÇÏ¼Ì¾î¿ä ¤¾¤¾  ',\n",
       " '\\n',\n",
       " '\\n',\n",
       " '¿øÇÇ½º ÆíÇÏ°í ¿¹»µ¿ä!! ¾ã¾Æ¼\\xad ´õ¿î ¿©¸§¿¡µµ Àß ÀÔÀ»°Å °°¾Æ¿ä! µÚ¿¡ ²öÀÌ ÀÖ¾î¼\\xad Çã¸®µµ ³¯¾ÀÇØº¸ÀÌ°í ÁÁ¾Æ¿ä~',\n",
       " '¿øÇÇ½º°¡ ÆíÇÏ°í ÁÁ¾Æ¼\\xad ÀÚÁÖÀÔ´Âµ¥ ´«¿©°Üº¸´Ù ',\n",
       " '\\n ÇÑ´«¿¡ ¹ÝÇØ¼\\xad ¹Ù·Î±¸¸ÅÇØ¼\\xad',\n",
       " '\\nµå¶óÀÌ¼¼Å¹µµ¾ÈÇÏ°í ¿À´Ã ÀÔ°í Ãâ±ÙÇß¾î¿ä.',\n",
       " '\\n½¬ÆùÀÌ¶ó ¹Ù¶÷¿¡ »ì¶û»ì¶û´À³¦ÀÌ ³ÑÈåÁÁ°í',\n",
       " '\\n¿¹»Û¿ÊÀ» ÀÔ¾î¼\\xadÀÎÁö À¸¾³ÇØÁø ´À³¦µµÀÖ°í ',\n",
       " '¿øÇÇ½º°¡ ÆíÇÏ°í ÁÁ¾Æ¼\\xad ÀÚÁÖÀÔ´Âµ¥ ´«¿©°Üº¸´Ù ',\n",
       " '\\n ÇÑ´«¿¡ ¹ÝÇØ¼\\xad ¹Ù·Î±¸¸ÅÇØ¼\\xad',\n",
       " '\\nµå¶óÀÌ¼¼Å¹µµ¾ÈÇÏ°í ¿À´Ã ÀÔ°í Ãâ±ÙÇß¾î¿ä.',\n",
       " '\\n½¬ÆùÀÌ¶ó ¹Ù¶÷¿¡ »ì¶û»ì¶û´À³¦ÀÌ ³ÑÈåÁÁ°í',\n",
       " '\\n¿¹»Û¿ÊÀ» ÀÔ¾î¼\\xadÀÎÁö À¸¾³ÇØÁø ´À³¦µµÀÖ°í ',\n",
       " '\\n¼³·¹¿´¾î¿ä.¿À·§¸¸¿¡ ´À²¸º» ¼³·¹ÀÓ!!',\n",
       " '\\n°¨»çÇÕ´Ï´Ù¤ý',\n",
       " 'Å°°¡ ÀÛ¾Æ¼\\xad ¾î¿ï¸±Áö °í¹ÎÇß´Âµ¥. ¿Ø°É ¤¾¤¾¤¾ ³Ê¹« ³¯¾ÀÇØº¸ÀÌ°í °í±Þ½º·¯¿ö º¸¿©¿ë. ºí·¢ÀÌ¶ó ¾îµÎ¿ïÁÙ ¾Ë¾Ò´Âµ¥ »¡°£»ö²É¹«´Ì°¡ Æ÷ÀÎÆ®°¡µÇ¼\\xad ³Ê¹« ÀÌ»µ¿ë ±æÀÌµµ ³Ê¹« ±æÁö¾Ê°í ÇÏÃ¼ÅëÅëÀÎµ¥ Ã¼ÇüÄ¿¹ö¿¡ µüÀÌ³×¿é!!',\n",
       " '\\nÃÖ±Ù ¿øÇÇ½º¸¸ ¼îÇÎÁßÀÎµ¥ Á¦ÀÏ ÀÌ»µ¿ä ¤»',\n",
       " 'Å°°¡ ÀÛ¾Æ¼\\xad ¾î¿ï¸±Áö °í¹ÎÇß´Âµ¥. ¿Ø°É ¤¾¤¾¤¾ ³Ê¹« ³¯¾ÀÇØº¸ÀÌ°í °í±Þ½º·¯¿ö º¸¿©¿ë. ºí·¢ÀÌ¶ó ¾îµÎ¿ïÁÙ ¾Ë¾Ò´Âµ¥ »¡°£»ö²É¹«´Ì°¡ Æ÷ÀÎÆ®°¡µÇ¼\\xad ³Ê¹« ÀÌ»µ¿ë ±æÀÌµµ ³Ê¹« ±æÁö¾Ê°í ÇÏÃ¼ÅëÅëÀÎµ¥ Ã¼ÇüÄ¿¹ö¿¡ µüÀÌ³×¿é!!',\n",
       " '\\nÃÖ±Ù ¿øÇÇ½º¸¸ ¼îÇÎÁßÀÎµ¥ Á¦ÀÏ ÀÌ»µ¿ä ¤»¤» ',\n",
       " '\\nÇÍµµ µðÀÚÀÎµµ ´Ù¸¾¿¡ µå³×¿ë~~',\n",
       " '¼ÒÀçµµ ºÎµéºÎµéÇÏ°í ±¸±èµµ°ÅÀÇ¾ø´Â ½¬Æù¼ÒÀç¿¹¿ä ½Ã¿øÇÏ±¸¿ä ½ÑÆ¼³ªÁö¾Ê°í ¿¹»µ¿ä',\n",
       " '±æÀÌµµ Àû´çÇÏ°í ½Ã¿øÇÏ°í ÁÁ³×¿ä. ÀÛ³âºÎÅÍ »ì±î °í¹ÎÇß¾ú´Âµ¥ ¿ÃÇØ ¹Ù·Î Áú·¶³×¿ä. ¿ÀÇÇ½º·èÀ¸·Î ÁÁ¾Æ¿ä. ´Ù¸¸ ¹è ºÎºÐÀÌ ½½¸²ÇÏ°Ô ¶³¾îÁ®¼\\xad ÈûÁÖ¾î ÀÔ°ÔµË´Ï´Ù ¤¾ ',\n",
       " '\\n\\tÀÔ¾îº¸´Ï ¼ÒÀçµµ ½Ã¿øÇÏ°í ÁÁÀ¸³×¿ä~^^ ¾î±ú ¿òÁ÷ÀÌ±âµµ ÆíÇÏ°í ¿¹»Þ´Ï´Ù~^^',\n",
       " '\\n',\n",
       " '\\n\\t\\t\\t\\t',\n",
       " '\\n\\t',\n",
       " 'ÀÔ¾îº¸´Ï ¼ÒÀçµµ ½Ã¿øÇÏ°í ÁÁÀ¸³×¿ä~^^ ¾î±ú ¿òÁ÷ÀÌ±âµµ ÆíÇÏ°í ¿¹»Þ´Ï´Ù~^^',\n",
       " '\\n',\n",
       " '\\n\\t\\t\\t\\t',\n",
       " '\\n\\t\\t\\t\\t',\n",
       " '\\n',\n",
       " '\\n\\tÅ°´Â 171¿¡ ¸ö¹«°Ô 60Á¤µµ µÇ´Âµ¥ ±æÀÌ´Â ¹«¸\\xad µ¤ÀÌ´Â ±æÀÌÀÌ°í »çÀÌÁî´Â Å¸ÀÌÆ® ÇÏÁöµµ ¾Ê°í º¡º¡ÇÏÁöµµ ¾Ê°í Á¤ÇÍ(?) ´À³¦ÀÌ¿¡¿ä! ¼ÒÀçµµ ÁÖ¸§ÀÌ ÀßÀâÈ÷Áö ¾Ê¾Æ¼\\xad ÁÁ¾Æ¿ä °¡Á·µé¿¡°Ô ¸¸ÀåÀÏÄ¡·Î ÇÕ°Ý Á¡¼ö ¹Þ¾Ò½À´Ï´Ù ¤»¤» Â¦Â¦Â¦~',\n",
       " '\\n',\n",
       " '\\n\\t\\t\\t\\t',\n",
       " '\\n\\t',\n",
       " 'Å°´Â 171¿¡ ¸ö¹«°Ô 60Á¤µµ µÇ´Âµ¥ ±æÀÌ´Â ¹«¸\\xad µ¤ÀÌ´Â ±æÀÌÀÌ°í »çÀÌÁî´Â Å¸ÀÌÆ® ÇÏÁöµµ ¾Ê°í º¡º¡ÇÏÁöµµ ¾Ê°í Á¤ÇÍ(?) ´À³¦ÀÌ¿¡¿ä! ¼ÒÀçµµ ÁÖ¸§ÀÌ ÀßÀâÈ÷Áö ¾Ê¾Æ¼\\xad ÁÁ¾Æ¿ä °¡Á·µé¿¡°Ô ¸¸ÀåÀÏÄ¡·Î ÇÕ°Ý Á¡¼ö ¹Þ¾Ò½À´Ï´Ù ¤»¤» Â¦Â¦Â¦~',\n",
       " '\\n',\n",
       " '\\n\\t\\t\\t\\t',\n",
       " '\\n\\t\\t\\t\\t',\n",
       " '\\n',\n",
       " '¿ÊÀÌ ½Ã¿øÇÏ¸é¼\\xadµµ ³Ê¹« °¡º\\xad¿öº¸ÀÌÁö ¾Ê¾Æ ÁÁ¾Æ¿ä',\n",
       " '\\n±æÀÌµµ Àû´çÇÏ°Ô ³»·Á¿Í ÆíÇÏ°Ô ÀÔÀ» ¼öµµ ÀÖÀ»²¨ °°¾Æ¿ä!']"
      ]
     },
     "execution_count": 52,
     "metadata": {},
     "output_type": "execute_result"
    }
   ],
   "source": [
    "review"
   ]
  },
  {
   "cell_type": "code",
   "execution_count": null,
   "metadata": {},
   "outputs": [],
   "source": []
  }
 ],
 "metadata": {
  "kernelspec": {
   "display_name": "Python 3",
   "language": "python",
   "name": "python3"
  },
  "language_info": {
   "codemirror_mode": {
    "name": "ipython",
    "version": 3
   },
   "file_extension": ".py",
   "mimetype": "text/x-python",
   "name": "python",
   "nbconvert_exporter": "python",
   "pygments_lexer": "ipython3",
   "version": "3.7.4"
  }
 },
 "nbformat": 4,
 "nbformat_minor": 2
}
