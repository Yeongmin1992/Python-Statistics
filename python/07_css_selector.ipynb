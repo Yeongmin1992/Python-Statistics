{
 "cells": [
  {
   "cell_type": "markdown",
   "metadata": {},
   "source": [
    "### CSS Selector\n",
    "- HTML 엘리먼트에 CSS 스타일을 적용시킬 때 엘리먼트를 선택하기 위한 방법\n",
    "- 선택하는 방법\n",
    "    - tag 이름\n",
    "    - id 값\n",
    "    - class 값\n",
    "    - attribute 값"
   ]
  },
  {
   "cell_type": "markdown",
   "metadata": {},
   "source": [
    "#### 1. 태그 이름으로 선택\n",
    "- data 1 엘리먼트를 선택\n",
    "- css-selector : div"
   ]
  },
  {
   "cell_type": "code",
   "execution_count": 1,
   "metadata": {},
   "outputs": [
    {
     "data": {
      "text/html": [
       "<div>data 1</div>\n",
       "<p>data 2</p>\n",
       "<span>data 3</span>\n"
      ],
      "text/plain": [
       "<IPython.core.display.HTML object>"
      ]
     },
     "metadata": {},
     "output_type": "display_data"
    }
   ],
   "source": [
    "%%html\n",
    "<div>data 1</div>\n",
    "<p>data 2</p>\n",
    "<span>data 3</span>"
   ]
  },
  {
   "cell_type": "markdown",
   "metadata": {},
   "source": [
    "#### 2. 아이디 값으로 선책\n",
    "- data2 2를 아이디 값으로 선택\n",
    "- css-selector : #txt"
   ]
  },
  {
   "cell_type": "code",
   "execution_count": 3,
   "metadata": {},
   "outputs": [
    {
     "data": {
      "text/html": [
       "<div id=\"wrap\">data 1</div>\n",
       "<p id=\"txt\">data 2</p>\n",
       "<span>data 3</span>\n"
      ],
      "text/plain": [
       "<IPython.core.display.HTML object>"
      ]
     },
     "metadata": {},
     "output_type": "display_data"
    }
   ],
   "source": [
    "%%html\n",
    "<div id=\"wrap\">data 1</div>\n",
    "<p id=\"txt\">data 2</p>\n",
    "<span>data 3</span>"
   ]
  },
  {
   "cell_type": "markdown",
   "metadata": {},
   "source": [
    "#### 3. 클래스 값으로 선택\n",
    "- data 3를 클래스 값으로 선택\n",
    "- css-selector : `.no2`\n",
    "- `.dss-txt' : data2, data3 가 선택"
   ]
  },
  {
   "cell_type": "code",
   "execution_count": 4,
   "metadata": {},
   "outputs": [
    {
     "data": {
      "text/html": [
       "<div id=\"wrap\" class=\"dss\">data 1</div>\n",
       "<p id=\"txt\" class=\"dss-txt no1\">data 2</p>\n",
       "<span class = \"dss-txt no2\">data 3</span>\n"
      ],
      "text/plain": [
       "<IPython.core.display.HTML object>"
      ]
     },
     "metadata": {},
     "output_type": "display_data"
    }
   ],
   "source": [
    "%%html\n",
    "<div id=\"wrap\" class=\"dss\">data 1</div>\n",
    "<p id=\"txt\" class=\"dss-txt no1\">data 2</p>\n",
    "<span class = \"dss-txt no2\">data 3</span>"
   ]
  },
  {
   "cell_type": "markdown",
   "metadata": {},
   "source": [
    "#### 4. 속성 값으로 선택(잘 안사용. 위에 애들로 해결할 수 없을 때 사용.)\n",
    "- data 4를 속성 값으로 선택\n",
    "- css-selector : [val=\"d4\"], [id=\"da4\"] -> id, class도 속성값이다."
   ]
  },
  {
   "cell_type": "code",
   "execution_count": 6,
   "metadata": {},
   "outputs": [
    {
     "data": {
      "text/html": [
       "<div id=\"wrap\" class=\"dss\">data 1</div>\n",
       "<p id=\"txt\" class=\"dss-txt no1\">data 2</p>\n",
       "<span class = \"dss-txt no2\" val=\"d3\">data 3</span>\n",
       "<span val=\"d4\">data 4</span>  \n"
      ],
      "text/plain": [
       "<IPython.core.display.HTML object>"
      ]
     },
     "metadata": {},
     "output_type": "display_data"
    }
   ],
   "source": [
    "%%html\n",
    "<div id=\"wrap\" class=\"dss\">data 1</div>\n",
    "<p id=\"txt\" class=\"dss-txt no1\">data 2</p>\n",
    "<span class = \"dss-txt no2\" val=\"d3\">data 3</span>\n",
    "<span id=\"da4\" val=\"d4\">data 4</span>  "
   ]
  },
  {
   "cell_type": "markdown",
   "metadata": {},
   "source": [
    "#### 5. 혼합해서 사용\n",
    "- span 태그 이면서 calss 값이 no5 엘리먼트를 선택\n",
    "- css-selector : `span.no5`"
   ]
  },
  {
   "cell_type": "code",
   "execution_count": 7,
   "metadata": {},
   "outputs": [
    {
     "data": {
      "text/html": [
       "<div id=\"wrap\" class=\"dss\">data 1</div>\n",
       "<p id=\"txt\" class=\"dss-txt no1\">data 2</p>\n",
       "<span class = \"dss-txt no2\" val=\"d3\">data 3</span>\n",
       "<span id=\"da4\" val=\"d4\">data 4</span>\n",
       "<span class=\"no5\" val=\"d4\">data 5</span>\n"
      ],
      "text/plain": [
       "<IPython.core.display.HTML object>"
      ]
     },
     "metadata": {},
     "output_type": "display_data"
    }
   ],
   "source": [
    "%%html\n",
    "<div id=\"wrap\" class=\"dss\">data 1</div>\n",
    "<p id=\"txt\" class=\"dss-txt no1\">data 2</p>\n",
    "<span class = \"dss-txt no2\" val=\"d3\">data 3</span>\n",
    "<span id=\"da4\" val=\"d4\">data 4</span>\n",
    "<span class=\"no5\" val=\"d4\">data 5</span>"
   ]
  },
  {
   "cell_type": "markdown",
   "metadata": {},
   "source": [
    "#### 6. not selector\n",
    "- 선책된 엘리먼트에서 특정 조건의 엘리먼트를 제거해서 선택\n",
    "- data2 엘리먼트만 제외한 ds 클래스를 선택\n",
    "- css-selector : `.ds:not(.dss2)`"
   ]
  },
  {
   "cell_type": "code",
   "execution_count": 1,
   "metadata": {},
   "outputs": [
    {
     "data": {
      "text/html": [
       "<p class=\"ds dss1\">data 1</p>\n",
       "<p class=\"ds dss2\">data 2</p>\n",
       "<p class=\"ds dss3\">data 3</p>\n",
       "<p class=\"ds dss4\">data 4</p>\n"
      ],
      "text/plain": [
       "<IPython.core.display.HTML object>"
      ]
     },
     "metadata": {},
     "output_type": "display_data"
    }
   ],
   "source": [
    "%%html\n",
    "<p class=\"ds dss1\">data 1</p>\n",
    "<p class=\"ds dss2\">data 2</p>\n",
    "<p class=\"ds dss3\">data 3</p>\n",
    "<p class=\"ds dss4\">data 4</p>"
   ]
  },
  {
   "cell_type": "markdown",
   "metadata": {},
   "source": [
    "#### 7. nth-child\n",
    "- n 번째의 엘리먼트를 선택\n",
    "- data 3 선택하는 방법\n",
    "- css-selector : `.dss:nth-child(3)`   -> 아래 처럼 data 0  추가되면 data 2 선택. 위에서는 data 3. (3)조건을 먼저보고 ds를가지고 있으면 출력(n번째 데이터가 조건을 만족하면 출력)"
   ]
  },
  {
   "cell_type": "code",
   "execution_count": 10,
   "metadata": {},
   "outputs": [
    {
     "data": {
      "text/html": [
       "<div>\n",
       "    <p class=\"ds dss1\">data 1</p>\n",
       "    <p class=\"ds dss1\">data 2</p>\n",
       "    <p class=\"ds dss1\">data 3</p>\n",
       "    <p class=\"ds dss1\">data 4</p>\n",
       "</div>\n"
      ],
      "text/plain": [
       "<IPython.core.display.HTML object>"
      ]
     },
     "metadata": {},
     "output_type": "display_data"
    }
   ],
   "source": [
    "%%html\n",
    "<div>\n",
    "    <p class=\"ds dss1\">data 1</p>\n",
    "    <p class=\"ds dss1\">data 2</p>\n",
    "    <p class=\"ds dss1\">data 3</p>\n",
    "    <p class=\"ds dss1\">data 4</p>\n",
    "</div>"
   ]
  },
  {
   "cell_type": "code",
   "execution_count": null,
   "metadata": {},
   "outputs": [],
   "source": [
    "%%html\n",
    "<div>\n",
    "    <span>data 0</span>\n",
    "    <p class=\"ds dss1\">data 1</p>\n",
    "    <p class=\"ds dss2\">data 2</p>\n",
    "    <p class=\"ds dss3\">data 3</p>\n",
    "    <p class=\"ds dss4\">data 4</p>\n",
    "</div>"
   ]
  },
  {
   "cell_type": "code",
   "execution_count": null,
   "metadata": {},
   "outputs": [],
   "source": [
    "# 만약 아래와 같을경우 세번째 엘리먼트에 해당하면 다 출력\n",
    "%%html\n",
    "<div>\n",
    "    <span>data 0</span>\n",
    "    <p class=\"ds dss1\">data 1</p>\n",
    "    <p class=\"ds dss2\">data 2</p>            # 얘\n",
    "    <p class=\"ds dss3\">data 3</p>\n",
    "    <p class=\"ds dss4\">data 4</p>\n",
    "    <div>\n",
    "        <p class=\"ds dss1\">data 1</p>\n",
    "        <p class=\"ds dss2\">data 2</p>\n",
    "        <p class=\"ds dss3\">data 3</p>       # 얘\n",
    "        <p class=\"ds dss4\">data 4</p>\n",
    "    </div>\n",
    "</div>\n",
    "<div></div>\n",
    "<div class=\"ds\">data 5</div>           # 얘"
   ]
  },
  {
   "cell_type": "markdown",
   "metadata": {},
   "source": [
    "#### 8. 계층구조로 엘리먼트 선택\n",
    "- 바로 아래 단계의 엘리먼트 선택\n",
    "    - `.wrap-1 > h5` : inner 1 선택  -> 바로 한단계 밑에서 선택\n",
    "- 모든 하위 엘리먼트를 선택\n",
    "    - `.wrap-1 h5` : inner 1, inner 2 선택    -> 하위 엘리먼트 전체에서 조건에 맞는애 찾기"
   ]
  },
  {
   "cell_type": "code",
   "execution_count": null,
   "metadata": {},
   "outputs": [],
   "source": [
    "%%html\n",
    "<div class=\"wrap-1\">\n",
    "    <h5>inner 1<h5>\n",
    "    <div class=\"wrap-2\">\n",
    "        <h5>inner 2<h5>\n",
    "    </div>\n",
    "</div>"
   ]
  },
  {
   "cell_type": "code",
   "execution_count": null,
   "metadata": {},
   "outputs": [],
   "source": []
  },
  {
   "cell_type": "code",
   "execution_count": null,
   "metadata": {},
   "outputs": [],
   "source": []
  }
 ],
 "metadata": {
  "kernelspec": {
   "display_name": "Python 3",
   "language": "python",
   "name": "python3"
  },
  "language_info": {
   "codemirror_mode": {
    "name": "ipython",
    "version": 3
   },
   "file_extension": ".py",
   "mimetype": "text/x-python",
   "name": "python",
   "nbconvert_exporter": "python",
   "pygments_lexer": "ipython3",
   "version": "3.7.4"
  }
 },
 "nbformat": 4,
 "nbformat_minor": 2
}
