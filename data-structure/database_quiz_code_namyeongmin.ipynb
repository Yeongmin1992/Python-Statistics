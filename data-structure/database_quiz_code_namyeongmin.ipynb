{
 "cells": [
  {
   "cell_type": "code",
   "execution_count": 1,
   "metadata": {},
   "outputs": [],
   "source": [
    "import MySQLdb"
   ]
  },
  {
   "cell_type": "code",
   "execution_count": 2,
   "metadata": {},
   "outputs": [],
   "source": [
    "# world 데이터 베이스\n",
    "data = [\"54.180.179.245\", \"root\", \"dss\", \"world\"]\n",
    "world_db = MySQLdb.connect(*data, charset=\"utf8\")"
   ]
  },
  {
   "cell_type": "code",
   "execution_count": 3,
   "metadata": {},
   "outputs": [
    {
     "data": {
      "text/html": [
       "<div>\n",
       "<style scoped>\n",
       "    .dataframe tbody tr th:only-of-type {\n",
       "        vertical-align: middle;\n",
       "    }\n",
       "\n",
       "    .dataframe tbody tr th {\n",
       "        vertical-align: top;\n",
       "    }\n",
       "\n",
       "    .dataframe thead th {\n",
       "        text-align: right;\n",
       "    }\n",
       "</style>\n",
       "<table border=\"1\" class=\"dataframe\">\n",
       "  <thead>\n",
       "    <tr style=\"text-align: right;\">\n",
       "      <th></th>\n",
       "      <th>Code</th>\n",
       "      <th>Name</th>\n",
       "      <th>GNP</th>\n",
       "      <th>Population</th>\n",
       "    </tr>\n",
       "  </thead>\n",
       "  <tbody>\n",
       "    <tr>\n",
       "      <td>237</td>\n",
       "      <td>ZMB</td>\n",
       "      <td>Zambia</td>\n",
       "      <td>3377.0</td>\n",
       "      <td>9169000</td>\n",
       "    </tr>\n",
       "    <tr>\n",
       "      <td>238</td>\n",
       "      <td>ZWE</td>\n",
       "      <td>Zimbabwe</td>\n",
       "      <td>5951.0</td>\n",
       "      <td>11669000</td>\n",
       "    </tr>\n",
       "  </tbody>\n",
       "</table>\n",
       "</div>"
      ],
      "text/plain": [
       "    Code      Name     GNP  Population\n",
       "237  ZMB    Zambia  3377.0     9169000\n",
       "238  ZWE  Zimbabwe  5951.0    11669000"
      ]
     },
     "execution_count": 3,
     "metadata": {},
     "output_type": "execute_result"
    }
   ],
   "source": [
    "# 예시\n",
    "QUERY = \"\"\"\n",
    "    SELECT Code, Name, GNP, Population\n",
    "    FROM country\n",
    "\"\"\"\n",
    "\n",
    "df = pd.read_sql(QUERY, world_db)\n",
    "df.tail(2)"
   ]
  },
  {
   "cell_type": "markdown",
   "metadata": {},
   "source": [
    "### Quiz 1\n",
    "- 20점\n",
    "- 인구수 1000만이 넘는 국가중에 인구밀도가 가장 높은 상위 3개 국가의 국가코드와 인구밀도를 출력하세요.\n",
    "- 인구밀도는 소수 셋째자리에서 반올림하여 소수 둘째자리까지 출력하세요."
   ]
  },
  {
   "cell_type": "code",
   "execution_count": 4,
   "metadata": {},
   "outputs": [],
   "source": [
    "QUERY1 = \"\"\"\n",
    "    SELECT Code, (round(Population / SurfaceArea, 2)) AS pop_per_sur\n",
    "    FROM country\n",
    "    WHERE Population > 10000000\n",
    "    ORDER BY pop_per_sur Desc\n",
    "    LIMIT 3;\n",
    "\"\"\""
   ]
  },
  {
   "cell_type": "code",
   "execution_count": 5,
   "metadata": {},
   "outputs": [
    {
     "data": {
      "text/html": [
       "<div>\n",
       "<style scoped>\n",
       "    .dataframe tbody tr th:only-of-type {\n",
       "        vertical-align: middle;\n",
       "    }\n",
       "\n",
       "    .dataframe tbody tr th {\n",
       "        vertical-align: top;\n",
       "    }\n",
       "\n",
       "    .dataframe thead th {\n",
       "        text-align: right;\n",
       "    }\n",
       "</style>\n",
       "<table border=\"1\" class=\"dataframe\">\n",
       "  <thead>\n",
       "    <tr style=\"text-align: right;\">\n",
       "      <th></th>\n",
       "      <th>Code</th>\n",
       "      <th>pop_per_sur</th>\n",
       "    </tr>\n",
       "  </thead>\n",
       "  <tbody>\n",
       "    <tr>\n",
       "      <td>0</td>\n",
       "      <td>BGD</td>\n",
       "      <td>896.92</td>\n",
       "    </tr>\n",
       "    <tr>\n",
       "      <td>1</td>\n",
       "      <td>TWN</td>\n",
       "      <td>615.01</td>\n",
       "    </tr>\n",
       "    <tr>\n",
       "      <td>2</td>\n",
       "      <td>KOR</td>\n",
       "      <td>471.11</td>\n",
       "    </tr>\n",
       "  </tbody>\n",
       "</table>\n",
       "</div>"
      ],
      "text/plain": [
       "  Code  pop_per_sur\n",
       "0  BGD       896.92\n",
       "1  TWN       615.01\n",
       "2  KOR       471.11"
      ]
     },
     "execution_count": 5,
     "metadata": {},
     "output_type": "execute_result"
    }
   ],
   "source": [
    "df = pd.read_sql(QUERY1, world_db)\n",
    "df"
   ]
  },
  {
   "cell_type": "code",
   "execution_count": 5,
   "metadata": {},
   "outputs": [
    {
     "data": {
      "text/html": [
       "<div>\n",
       "<style scoped>\n",
       "    .dataframe tbody tr th:only-of-type {\n",
       "        vertical-align: middle;\n",
       "    }\n",
       "\n",
       "    .dataframe tbody tr th {\n",
       "        vertical-align: top;\n",
       "    }\n",
       "\n",
       "    .dataframe thead th {\n",
       "        text-align: right;\n",
       "    }\n",
       "</style>\n",
       "<table border=\"1\" class=\"dataframe\">\n",
       "  <thead>\n",
       "    <tr style=\"text-align: right;\">\n",
       "      <th></th>\n",
       "      <th>code</th>\n",
       "      <th>pop_per_sur</th>\n",
       "    </tr>\n",
       "  </thead>\n",
       "  <tbody>\n",
       "    <tr>\n",
       "      <th>0</th>\n",
       "      <td>BGD</td>\n",
       "      <td>896.92</td>\n",
       "    </tr>\n",
       "    <tr>\n",
       "      <th>1</th>\n",
       "      <td>TWN</td>\n",
       "      <td>615.01</td>\n",
       "    </tr>\n",
       "    <tr>\n",
       "      <th>2</th>\n",
       "      <td>KOR</td>\n",
       "      <td>471.11</td>\n",
       "    </tr>\n",
       "  </tbody>\n",
       "</table>\n",
       "</div>"
      ],
      "text/plain": [
       "  code  pop_per_sur\n",
       "0  BGD       896.92\n",
       "1  TWN       615.01\n",
       "2  KOR       471.11"
      ]
     },
     "execution_count": 5,
     "metadata": {},
     "output_type": "execute_result"
    }
   ],
   "source": [
    "df = pd.read_sql(QUERY1, world_db)\n",
    "df"
   ]
  },
  {
   "cell_type": "markdown",
   "metadata": {},
   "source": [
    "### Quiz 2\n",
    "- 30점\n",
    "- 위에서 출력된 결과를 아래와 같이 피봇하여 출력되도록 쿼리를 작성하세요."
   ]
  },
  {
   "cell_type": "code",
   "execution_count": 6,
   "metadata": {},
   "outputs": [],
   "source": [
    "QUERY2 = \"\"\"\n",
    "    select \n",
    "        (select code\n",
    "         from country\n",
    "         where population >= 10000000\n",
    "         order by Population/SurfaceArea desc\n",
    "         limit 1 ) as rank1,\n",
    "        (select code\n",
    "         from country\n",
    "         where population >= 10000000\n",
    "         order by Population/SurfaceArea desc\n",
    "         limit 1, 1 ) as rank2,\n",
    "        (select code\n",
    "         from country\n",
    "         where population >= 10000000\n",
    "         order by Population/SurfaceArea desc\n",
    "         limit 2, 1 ) as rank3\n",
    "    union\n",
    "    select \n",
    "        (select round(Population/SurfaceArea, 2) as pop_per_sur\n",
    "         from country\n",
    "         where population >= 10000000\n",
    "         order by pop_per_sur desc\n",
    "         limit 1 ) as rank1,\n",
    "        (select round(Population/SurfaceArea, 2) as pop_per_sur\n",
    "         from country\n",
    "         where population >= 10000000\n",
    "         order by pop_per_sur desc\n",
    "         limit 1, 1 ) as rank2,\n",
    "        (select round(Population/SurfaceArea, 2) as pop_per_sur\n",
    "         from country\n",
    "         where population >= 10000000\n",
    "         order by pop_per_sur desc\n",
    "         limit 2, 1 ) as rank3;\n",
    "\"\"\""
   ]
  },
  {
   "cell_type": "code",
   "execution_count": 7,
   "metadata": {},
   "outputs": [
    {
     "data": {
      "text/html": [
       "<div>\n",
       "<style scoped>\n",
       "    .dataframe tbody tr th:only-of-type {\n",
       "        vertical-align: middle;\n",
       "    }\n",
       "\n",
       "    .dataframe tbody tr th {\n",
       "        vertical-align: top;\n",
       "    }\n",
       "\n",
       "    .dataframe thead th {\n",
       "        text-align: right;\n",
       "    }\n",
       "</style>\n",
       "<table border=\"1\" class=\"dataframe\">\n",
       "  <thead>\n",
       "    <tr style=\"text-align: right;\">\n",
       "      <th></th>\n",
       "      <th>rank1</th>\n",
       "      <th>rank2</th>\n",
       "      <th>rank3</th>\n",
       "    </tr>\n",
       "  </thead>\n",
       "  <tbody>\n",
       "    <tr>\n",
       "      <th>0</th>\n",
       "      <td>BGD</td>\n",
       "      <td>TWN</td>\n",
       "      <td>KOR</td>\n",
       "    </tr>\n",
       "    <tr>\n",
       "      <th>1</th>\n",
       "      <td>896.92</td>\n",
       "      <td>615.01</td>\n",
       "      <td>471.11</td>\n",
       "    </tr>\n",
       "  </tbody>\n",
       "</table>\n",
       "</div>"
      ],
      "text/plain": [
       "    rank1   rank2   rank3\n",
       "0     BGD     TWN     KOR\n",
       "1  896.92  615.01  471.11"
      ]
     },
     "execution_count": 7,
     "metadata": {},
     "output_type": "execute_result"
    }
   ],
   "source": [
    "df = pd.read_sql(QUERY2, world_db)\n",
    "df"
   ]
  },
  {
   "cell_type": "markdown",
   "metadata": {},
   "source": [
    "### Quiz 3\n",
    "- 50점\n",
    "- 국가의 인구가 5000만이 넘는 국가중에서 국가별 사용하는언어의 비율이 가장 높은 언어와 사용비율과 사용인구를 출력하세요.\n",
    "- 사용하는 언어의 비율이 높은 국가의 언어순으로 5개의 언어와 국가를 출력하세요."
   ]
  },
  {
   "cell_type": "code",
   "execution_count": 6,
   "metadata": {},
   "outputs": [],
   "source": [
    "QUERY3 = \"\"\"\n",
    "\n",
    "SELECT ct.code, la.language, la.percentage, (ct.population * la.percentage) AS language_population\n",
    "FROM\n",
    "((SELECT countrycode, language, percentage\n",
    "FROM countrylanguage\n",
    "where percentage in (select max(percentage) \n",
    "from countrylanguage group by countrycode)) as la\n",
    "JOIN\n",
    "(SELECT code, population\n",
    "from country\n",
    "where population > 50000000\n",
    ") as ct\n",
    "ON ct.code = la.countrycode)\n",
    "ORDER BY la.percentage DESC\n",
    "LIMIT 5;\n",
    "\n",
    "\"\"\""
   ]
  },
  {
   "cell_type": "code",
   "execution_count": 7,
   "metadata": {},
   "outputs": [
    {
     "data": {
      "text/html": [
       "<div>\n",
       "<style scoped>\n",
       "    .dataframe tbody tr th:only-of-type {\n",
       "        vertical-align: middle;\n",
       "    }\n",
       "\n",
       "    .dataframe tbody tr th {\n",
       "        vertical-align: top;\n",
       "    }\n",
       "\n",
       "    .dataframe thead th {\n",
       "        text-align: right;\n",
       "    }\n",
       "</style>\n",
       "<table border=\"1\" class=\"dataframe\">\n",
       "  <thead>\n",
       "    <tr style=\"text-align: right;\">\n",
       "      <th></th>\n",
       "      <th>code</th>\n",
       "      <th>language</th>\n",
       "      <th>percentage</th>\n",
       "      <th>language_population</th>\n",
       "    </tr>\n",
       "  </thead>\n",
       "  <tbody>\n",
       "    <tr>\n",
       "      <td>0</td>\n",
       "      <td>JPN</td>\n",
       "      <td>Japanese</td>\n",
       "      <td>99.1</td>\n",
       "      <td>1.255736e+10</td>\n",
       "    </tr>\n",
       "    <tr>\n",
       "      <td>1</td>\n",
       "      <td>EGY</td>\n",
       "      <td>Arabic</td>\n",
       "      <td>98.8</td>\n",
       "      <td>6.764836e+09</td>\n",
       "    </tr>\n",
       "    <tr>\n",
       "      <td>2</td>\n",
       "      <td>BGD</td>\n",
       "      <td>Bengali</td>\n",
       "      <td>97.7</td>\n",
       "      <td>1.261844e+10</td>\n",
       "    </tr>\n",
       "    <tr>\n",
       "      <td>3</td>\n",
       "      <td>BRA</td>\n",
       "      <td>Portuguese</td>\n",
       "      <td>97.5</td>\n",
       "      <td>1.658621e+10</td>\n",
       "    </tr>\n",
       "    <tr>\n",
       "      <td>4</td>\n",
       "      <td>GBR</td>\n",
       "      <td>English</td>\n",
       "      <td>97.3</td>\n",
       "      <td>5.801357e+09</td>\n",
       "    </tr>\n",
       "  </tbody>\n",
       "</table>\n",
       "</div>"
      ],
      "text/plain": [
       "  code    language  percentage  language_population\n",
       "0  JPN    Japanese        99.1         1.255736e+10\n",
       "1  EGY      Arabic        98.8         6.764836e+09\n",
       "2  BGD     Bengali        97.7         1.261844e+10\n",
       "3  BRA  Portuguese        97.5         1.658621e+10\n",
       "4  GBR     English        97.3         5.801357e+09"
      ]
     },
     "execution_count": 7,
     "metadata": {},
     "output_type": "execute_result"
    }
   ],
   "source": [
    "pd.read_sql(QUERY3, world_db)"
   ]
  },
  {
   "cell_type": "code",
   "execution_count": 9,
   "metadata": {},
   "outputs": [
    {
     "data": {
      "text/html": [
       "<div>\n",
       "<style scoped>\n",
       "    .dataframe tbody tr th:only-of-type {\n",
       "        vertical-align: middle;\n",
       "    }\n",
       "\n",
       "    .dataframe tbody tr th {\n",
       "        vertical-align: top;\n",
       "    }\n",
       "\n",
       "    .dataframe thead th {\n",
       "        text-align: right;\n",
       "    }\n",
       "</style>\n",
       "<table border=\"1\" class=\"dataframe\">\n",
       "  <thead>\n",
       "    <tr style=\"text-align: right;\">\n",
       "      <th></th>\n",
       "      <th>code</th>\n",
       "      <th>language</th>\n",
       "      <th>percentage</th>\n",
       "      <th>language_population</th>\n",
       "    </tr>\n",
       "  </thead>\n",
       "  <tbody>\n",
       "    <tr>\n",
       "      <th>0</th>\n",
       "      <td>JPN</td>\n",
       "      <td>Japanese</td>\n",
       "      <td>99.1</td>\n",
       "      <td>125573572.0</td>\n",
       "    </tr>\n",
       "    <tr>\n",
       "      <th>1</th>\n",
       "      <td>EGY</td>\n",
       "      <td>Arabic</td>\n",
       "      <td>98.8</td>\n",
       "      <td>67648362.0</td>\n",
       "    </tr>\n",
       "    <tr>\n",
       "      <th>2</th>\n",
       "      <td>BGD</td>\n",
       "      <td>Bengali</td>\n",
       "      <td>97.7</td>\n",
       "      <td>126184431.0</td>\n",
       "    </tr>\n",
       "    <tr>\n",
       "      <th>3</th>\n",
       "      <td>BRA</td>\n",
       "      <td>Portuguese</td>\n",
       "      <td>97.5</td>\n",
       "      <td>165862125.0</td>\n",
       "    </tr>\n",
       "    <tr>\n",
       "      <th>4</th>\n",
       "      <td>GBR</td>\n",
       "      <td>English</td>\n",
       "      <td>97.3</td>\n",
       "      <td>58013570.0</td>\n",
       "    </tr>\n",
       "  </tbody>\n",
       "</table>\n",
       "</div>"
      ],
      "text/plain": [
       "  code    language  percentage  language_population\n",
       "0  JPN    Japanese        99.1          125573572.0\n",
       "1  EGY      Arabic        98.8           67648362.0\n",
       "2  BGD     Bengali        97.7          126184431.0\n",
       "3  BRA  Portuguese        97.5          165862125.0\n",
       "4  GBR     English        97.3           58013570.0"
      ]
     },
     "execution_count": 9,
     "metadata": {},
     "output_type": "execute_result"
    }
   ],
   "source": [
    "pd.read_sql(QUERY3, world_db)"
   ]
  }
 ],
 "metadata": {
  "kernelspec": {
   "display_name": "Python 3",
   "language": "python",
   "name": "python3"
  },
  "language_info": {
   "codemirror_mode": {
    "name": "ipython",
    "version": 3
   },
   "file_extension": ".py",
   "mimetype": "text/x-python",
   "name": "python",
   "nbconvert_exporter": "python",
   "pygments_lexer": "ipython3",
   "version": "3.7.4"
  }
 },
 "nbformat": 4,
 "nbformat_minor": 4
}
