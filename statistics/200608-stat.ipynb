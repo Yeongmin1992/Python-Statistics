{
 "cells": [
  {
   "cell_type": "markdown",
   "metadata": {},
   "source": [
    "연습문제 1\n",
    "- Iris 데이터를 voting 방식으로 분류하기\n",
    "- 모델 갯수 제한 없음\n",
    "- k=5, cross validation 사용"
   ]
  },
  {
   "cell_type": "code",
   "execution_count": 22,
   "metadata": {},
   "outputs": [
    {
     "data": {
      "text/plain": [
       "0.9666666666666666"
      ]
     },
     "execution_count": 22,
     "metadata": {},
     "output_type": "execute_result"
    }
   ],
   "source": [
    "from sklearn.datasets import load_iris\n",
    "\n",
    "data = load_iris()\n",
    "y = data.target\n",
    "X = data.data\n",
    "\n",
    "from sklearn.linear_model import LogisticRegression\n",
    "from sklearn.naive_bayes import GaussianNB\n",
    "from sklearn.discriminant_analysis import QuadraticDiscriminantAnalysis\n",
    "from sklearn.ensemble import VotingClassifier\n",
    "from sklearn.discriminant_analysis import LinearDiscriminantAnalysis\n",
    "from sklearn.tree import DecisionTreeClassifier\n",
    "\n",
    "model1= LogisticRegression(random_state=1)\n",
    "model2 = QuadraticDiscriminantAnalysis()\n",
    "model3 = GaussianNB()\n",
    "model4 = LinearDiscriminantAnalysis()\n",
    "model5 = DecisionTreeClassifier(criterion='entropy', max_depth=3, random_state=0).fit(X,y) \n",
    "ensemble = VotingClassifier(estimators=[('lr', model1), ('qda', model2), ('gnb', model3), ('lda', model4), ('tree', model5)])\n",
    "\n",
    "\n",
    "from sklearn.model_selection import cross_val_score, KFold\n",
    "cv = KFold(5, shuffle=True, random_state=0)\n",
    "cross_val_score(ensemble, X, y, scoring=\"accuracy\", cv=cv).mean()"
   ]
  },
  {
   "cell_type": "markdown",
   "metadata": {},
   "source": [
    "연습문제 2\n",
    "- begging /w breast_cancer data"
   ]
  },
  {
   "cell_type": "code",
   "execution_count": 28,
   "metadata": {},
   "outputs": [
    {
     "data": {
      "text/plain": [
       "(0.9244993013507219, 0.9437820214252446, 0.9613414066138798, 0.956078248719143)"
      ]
     },
     "execution_count": 28,
     "metadata": {},
     "output_type": "execute_result"
    }
   ],
   "source": [
    "from sklearn.model_selection import cross_val_score, KFold\n",
    "from sklearn.linear_model import LogisticRegression\n",
    "from sklearn.naive_bayes import GaussianNB\n",
    "from sklearn.discriminant_analysis import QuadraticDiscriminantAnalysis\n",
    "from sklearn.ensemble import VotingClassifier\n",
    "from sklearn.discriminant_analysis import LinearDiscriminantAnalysis\n",
    "from sklearn.tree import DecisionTreeClassifier\n",
    "from sklearn.svm import SVC\n",
    "from sklearn.ensemble import BaggingClassifier\n",
    "\n",
    "from sklearn.datasets import load_breast_cancer\n",
    "cancer = load_breast_cancer()\n",
    "X = cancer.data\n",
    "y = cancer.target\n",
    "\n",
    "model1 = DecisionTreeClassifier(max_depth=10, random_state=0)\n",
    "model2 = BaggingClassifier(DecisionTreeClassifier(max_depth=2), n_estimators=100, random_state=0)\n",
    "model3 = QuadraticDiscriminantAnalysis()\n",
    "model4 = BaggingClassifier(QuadraticDiscriminantAnalysis(), n_estimators=100, random_state=0)\n",
    "\n",
    "kfold= KFold(5, shuffle=True, random_state=0)\n",
    "\n",
    "model1.fit(X,y)\n",
    "result1 = cross_val_score(model1, X, y, scoring='accuracy', cv=kfold).mean()\n",
    "\n",
    "model2.fit(X,y)\n",
    "result2 = cross_val_score(model2, X, y, scoring='accuracy', cv=kfold).mean()\n",
    "\n",
    "model3.fit(X,y)\n",
    "result3 = cross_val_score(model3, X, y, scoring='accuracy', cv=kfold).mean()\n",
    "\n",
    "model4.fit(X,y)\n",
    "result4 = cross_val_score(model4, X, y, scoring='accuracy', cv=kfold).mean()\n",
    "\n",
    "result1, result2, result3, result4"
   ]
  },
  {
   "cell_type": "code",
   "execution_count": null,
   "metadata": {},
   "outputs": [],
   "source": []
  }
 ],
 "metadata": {
  "kernelspec": {
   "display_name": "Python 3",
   "language": "python",
   "name": "python3"
  },
  "language_info": {
   "codemirror_mode": {
    "name": "ipython",
    "version": 3
   },
   "file_extension": ".py",
   "mimetype": "text/x-python",
   "name": "python",
   "nbconvert_exporter": "python",
   "pygments_lexer": "ipython3",
   "version": "3.7.4"
  }
 },
 "nbformat": 4,
 "nbformat_minor": 2
}
