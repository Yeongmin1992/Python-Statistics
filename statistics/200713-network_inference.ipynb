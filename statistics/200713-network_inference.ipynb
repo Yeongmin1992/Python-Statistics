{
 "cells": [
  {
   "cell_type": "code",
   "execution_count": 1,
   "metadata": {},
   "outputs": [
    {
     "name": "stdout",
     "output_type": "stream",
     "text": [
      "+------+-----+\n",
      "| A(0) | 0.1 |\n",
      "+------+-----+\n",
      "| A(1) | 0.6 |\n",
      "+------+-----+\n",
      "| A(2) | 0.3 |\n",
      "+------+-----+\n"
     ]
    }
   ],
   "source": [
    "from pgmpy.factors.discrete import TabularCPD\n",
    "\n",
    "P_A = TabularCPD('A', 3, [[0.1, 0.6, 0.3]])\n",
    "print(P_A)"
   ]
  },
  {
   "cell_type": "code",
   "execution_count": 2,
   "metadata": {},
   "outputs": [
    {
     "name": "stdout",
     "output_type": "stream",
     "text": [
      "+------+------+------+------+\n",
      "| A    | A(0) | A(1) | A(2) |\n",
      "+------+------+------+------+\n",
      "| B(0) | 0.6  | 0.2  | 0.1  |\n",
      "+------+------+------+------+\n",
      "| B(1) | 0.3  | 0.5  | 0.3  |\n",
      "+------+------+------+------+\n",
      "| B(2) | 0.1  | 0.3  | 0.6  |\n",
      "+------+------+------+------+\n"
     ]
    }
   ],
   "source": [
    "P_B_I_A = TabularCPD('B', 3, \n",
    "    np.array([[0.6, 0.2, 0.1], [0.3, 0.5, 0.3], [0.1, 0.3, 0.6]]),\n",
    "    evidence=['A'], evidence_card=[3])\n",
    "print(P_B_I_A)"
   ]
  },
  {
   "cell_type": "code",
   "execution_count": 3,
   "metadata": {},
   "outputs": [
    {
     "name": "stdout",
     "output_type": "stream",
     "text": [
      "+------+------+------+------+\n",
      "| B    | B(0) | B(1) | B(2) |\n",
      "+------+------+------+------+\n",
      "| C(0) | 0.7  | 0.1  | 0.1  |\n",
      "+------+------+------+------+\n",
      "| C(1) | 0.2  | 0.6  | 0.1  |\n",
      "+------+------+------+------+\n",
      "| C(2) | 0.1  | 0.3  | 0.8  |\n",
      "+------+------+------+------+\n"
     ]
    }
   ],
   "source": [
    "P_C_I_B = TabularCPD('C', 3, \n",
    "    np.array([[0.7, 0.1, 0.1], [0.2, 0.6, 0.1], [0.1, 0.3, 0.8]]),\n",
    "    evidence=['B'], evidence_card=[3])\n",
    "print(P_C_I_B)"
   ]
  },
  {
   "cell_type": "code",
   "execution_count": 5,
   "metadata": {},
   "outputs": [
    {
     "data": {
      "text/plain": [
       "True"
      ]
     },
     "execution_count": 5,
     "metadata": {},
     "output_type": "execute_result"
    }
   ],
   "source": [
    "from pgmpy.models import BayesianModel\n",
    "\n",
    "model = BayesianModel([('A', 'B'), ('B', 'C')])\n",
    "model.add_cpds(P_A, P_B_I_A, P_C_I_B)\n",
    "model.check_model()"
   ]
  },
  {
   "cell_type": "code",
   "execution_count": 6,
   "metadata": {},
   "outputs": [
    {
     "name": "stderr",
     "output_type": "stream",
     "text": [
      "Finding Elimination Order: : 100%|██████████| 2/2 [00:00<00:00, 2009.73it/s]\n",
      "Eliminating: A: 100%|██████████| 2/2 [00:00<00:00, 668.36it/s]\n"
     ]
    },
    {
     "name": "stdout",
     "output_type": "stream",
     "text": [
      "+------+----------+\n",
      "| C    |   phi(C) |\n",
      "+======+==========+\n",
      "| C(0) |   0.2260 |\n",
      "+------+----------+\n",
      "| C(1) |   0.3310 |\n",
      "+------+----------+\n",
      "| C(2) |   0.4430 |\n",
      "+------+----------+\n"
     ]
    }
   ],
   "source": [
    "from pgmpy.inference import VariableElimination\n",
    "\n",
    "infer = VariableElimination(model)\n",
    "print(infer.query([\"C\"]))"
   ]
  },
  {
   "cell_type": "code",
   "execution_count": 7,
   "metadata": {},
   "outputs": [
    {
     "name": "stdout",
     "output_type": "stream",
     "text": [
      "+------+-------+\n",
      "| C(0) | 0.226 |\n",
      "+------+-------+\n",
      "| C(1) | 0.331 |\n",
      "+------+-------+\n",
      "| C(2) | 0.443 |\n",
      "+------+-------+\n"
     ]
    }
   ],
   "source": [
    "P_B = (P_B_I_A * P_A).marginalize([\"A\"], inplace=False)\n",
    "P_C = (P_C_I_B * P_B).marginalize([\"B\"], inplace=False)\n",
    "print(P_C)"
   ]
  },
  {
   "cell_type": "code",
   "execution_count": 8,
   "metadata": {},
   "outputs": [
    {
     "name": "stderr",
     "output_type": "stream",
     "text": [
      "Finding Elimination Order: : 100%|██████████| 1/1 [00:00<00:00, 501.35it/s]\n",
      "Eliminating: B: 100%|██████████| 1/1 [00:00<00:00, 1003.42it/s]\n"
     ]
    },
    {
     "name": "stdout",
     "output_type": "stream",
     "text": [
      "+------+----------+\n",
      "| C    |   phi(C) |\n",
      "+======+==========+\n",
      "| C(0) |   0.1600 |\n",
      "+------+----------+\n",
      "| C(1) |   0.2600 |\n",
      "+------+----------+\n",
      "| C(2) |   0.5800 |\n",
      "+------+----------+\n"
     ]
    }
   ],
   "source": [
    "print(infer.query([\"C\"], evidence={\"A\": 2}))"
   ]
  },
  {
   "cell_type": "code",
   "execution_count": null,
   "metadata": {},
   "outputs": [],
   "source": []
  }
 ],
 "metadata": {
  "kernelspec": {
   "display_name": "Python 3",
   "language": "python",
   "name": "python3"
  },
  "language_info": {
   "codemirror_mode": {
    "name": "ipython",
    "version": 3
   },
   "file_extension": ".py",
   "mimetype": "text/x-python",
   "name": "python",
   "nbconvert_exporter": "python",
   "pygments_lexer": "ipython3",
   "version": "3.7.4"
  }
 },
 "nbformat": 4,
 "nbformat_minor": 2
}
